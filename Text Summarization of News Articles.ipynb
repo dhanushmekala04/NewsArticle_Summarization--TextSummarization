{
  "nbformat": 4,
  "nbformat_minor": 0,
  "metadata": {
    "colab": {
      "provenance": [],
      "gpuType": "T4"
    },
    "kernelspec": {
      "name": "python3",
      "display_name": "Python 3"
    },
    "language_info": {
      "name": "python"
    },
    "accelerator": "GPU",
    "widgets": {
      "application/vnd.jupyter.widget-state+json": {
        "b0b86457f63b4571894611005763cb5c": {
          "model_module": "@jupyter-widgets/controls",
          "model_name": "HBoxModel",
          "model_module_version": "1.5.0",
          "state": {
            "_dom_classes": [],
            "_model_module": "@jupyter-widgets/controls",
            "_model_module_version": "1.5.0",
            "_model_name": "HBoxModel",
            "_view_count": null,
            "_view_module": "@jupyter-widgets/controls",
            "_view_module_version": "1.5.0",
            "_view_name": "HBoxView",
            "box_style": "",
            "children": [
              "IPY_MODEL_5941167ca3c54ee8b9d76870ee991884",
              "IPY_MODEL_26f64245d9fc4583b283538120acbdfd",
              "IPY_MODEL_1bf17bca73524052942c8c216015055a"
            ],
            "layout": "IPY_MODEL_ab3a61d0b1c54131bcae564c3dde784c"
          }
        },
        "5941167ca3c54ee8b9d76870ee991884": {
          "model_module": "@jupyter-widgets/controls",
          "model_name": "HTMLModel",
          "model_module_version": "1.5.0",
          "state": {
            "_dom_classes": [],
            "_model_module": "@jupyter-widgets/controls",
            "_model_module_version": "1.5.0",
            "_model_name": "HTMLModel",
            "_view_count": null,
            "_view_module": "@jupyter-widgets/controls",
            "_view_module_version": "1.5.0",
            "_view_name": "HTMLView",
            "description": "",
            "description_tooltip": null,
            "layout": "IPY_MODEL_f4312983e2934af483039cc06878b0a8",
            "placeholder": "​",
            "style": "IPY_MODEL_de165c88fd624ecdb5e650624141e73f",
            "value": "README.md: 100%"
          }
        },
        "26f64245d9fc4583b283538120acbdfd": {
          "model_module": "@jupyter-widgets/controls",
          "model_name": "FloatProgressModel",
          "model_module_version": "1.5.0",
          "state": {
            "_dom_classes": [],
            "_model_module": "@jupyter-widgets/controls",
            "_model_module_version": "1.5.0",
            "_model_name": "FloatProgressModel",
            "_view_count": null,
            "_view_module": "@jupyter-widgets/controls",
            "_view_module_version": "1.5.0",
            "_view_name": "ProgressView",
            "bar_style": "success",
            "description": "",
            "description_tooltip": null,
            "layout": "IPY_MODEL_c47ecae430bd4e2c8dd46fcb3a68b068",
            "max": 2197,
            "min": 0,
            "orientation": "horizontal",
            "style": "IPY_MODEL_b228b179e0354514b0f2d18b317f1b9f",
            "value": 2197
          }
        },
        "1bf17bca73524052942c8c216015055a": {
          "model_module": "@jupyter-widgets/controls",
          "model_name": "HTMLModel",
          "model_module_version": "1.5.0",
          "state": {
            "_dom_classes": [],
            "_model_module": "@jupyter-widgets/controls",
            "_model_module_version": "1.5.0",
            "_model_name": "HTMLModel",
            "_view_count": null,
            "_view_module": "@jupyter-widgets/controls",
            "_view_module_version": "1.5.0",
            "_view_name": "HTMLView",
            "description": "",
            "description_tooltip": null,
            "layout": "IPY_MODEL_4476acb9647240108a65993069329d19",
            "placeholder": "​",
            "style": "IPY_MODEL_55d8dc0e216e44d18151c4c2c2e72cee",
            "value": " 2.20k/2.20k [00:00&lt;00:00, 77.1kB/s]"
          }
        },
        "ab3a61d0b1c54131bcae564c3dde784c": {
          "model_module": "@jupyter-widgets/base",
          "model_name": "LayoutModel",
          "model_module_version": "1.2.0",
          "state": {
            "_model_module": "@jupyter-widgets/base",
            "_model_module_version": "1.2.0",
            "_model_name": "LayoutModel",
            "_view_count": null,
            "_view_module": "@jupyter-widgets/base",
            "_view_module_version": "1.2.0",
            "_view_name": "LayoutView",
            "align_content": null,
            "align_items": null,
            "align_self": null,
            "border": null,
            "bottom": null,
            "display": null,
            "flex": null,
            "flex_flow": null,
            "grid_area": null,
            "grid_auto_columns": null,
            "grid_auto_flow": null,
            "grid_auto_rows": null,
            "grid_column": null,
            "grid_gap": null,
            "grid_row": null,
            "grid_template_areas": null,
            "grid_template_columns": null,
            "grid_template_rows": null,
            "height": null,
            "justify_content": null,
            "justify_items": null,
            "left": null,
            "margin": null,
            "max_height": null,
            "max_width": null,
            "min_height": null,
            "min_width": null,
            "object_fit": null,
            "object_position": null,
            "order": null,
            "overflow": null,
            "overflow_x": null,
            "overflow_y": null,
            "padding": null,
            "right": null,
            "top": null,
            "visibility": null,
            "width": null
          }
        },
        "f4312983e2934af483039cc06878b0a8": {
          "model_module": "@jupyter-widgets/base",
          "model_name": "LayoutModel",
          "model_module_version": "1.2.0",
          "state": {
            "_model_module": "@jupyter-widgets/base",
            "_model_module_version": "1.2.0",
            "_model_name": "LayoutModel",
            "_view_count": null,
            "_view_module": "@jupyter-widgets/base",
            "_view_module_version": "1.2.0",
            "_view_name": "LayoutView",
            "align_content": null,
            "align_items": null,
            "align_self": null,
            "border": null,
            "bottom": null,
            "display": null,
            "flex": null,
            "flex_flow": null,
            "grid_area": null,
            "grid_auto_columns": null,
            "grid_auto_flow": null,
            "grid_auto_rows": null,
            "grid_column": null,
            "grid_gap": null,
            "grid_row": null,
            "grid_template_areas": null,
            "grid_template_columns": null,
            "grid_template_rows": null,
            "height": null,
            "justify_content": null,
            "justify_items": null,
            "left": null,
            "margin": null,
            "max_height": null,
            "max_width": null,
            "min_height": null,
            "min_width": null,
            "object_fit": null,
            "object_position": null,
            "order": null,
            "overflow": null,
            "overflow_x": null,
            "overflow_y": null,
            "padding": null,
            "right": null,
            "top": null,
            "visibility": null,
            "width": null
          }
        },
        "de165c88fd624ecdb5e650624141e73f": {
          "model_module": "@jupyter-widgets/controls",
          "model_name": "DescriptionStyleModel",
          "model_module_version": "1.5.0",
          "state": {
            "_model_module": "@jupyter-widgets/controls",
            "_model_module_version": "1.5.0",
            "_model_name": "DescriptionStyleModel",
            "_view_count": null,
            "_view_module": "@jupyter-widgets/base",
            "_view_module_version": "1.2.0",
            "_view_name": "StyleView",
            "description_width": ""
          }
        },
        "c47ecae430bd4e2c8dd46fcb3a68b068": {
          "model_module": "@jupyter-widgets/base",
          "model_name": "LayoutModel",
          "model_module_version": "1.2.0",
          "state": {
            "_model_module": "@jupyter-widgets/base",
            "_model_module_version": "1.2.0",
            "_model_name": "LayoutModel",
            "_view_count": null,
            "_view_module": "@jupyter-widgets/base",
            "_view_module_version": "1.2.0",
            "_view_name": "LayoutView",
            "align_content": null,
            "align_items": null,
            "align_self": null,
            "border": null,
            "bottom": null,
            "display": null,
            "flex": null,
            "flex_flow": null,
            "grid_area": null,
            "grid_auto_columns": null,
            "grid_auto_flow": null,
            "grid_auto_rows": null,
            "grid_column": null,
            "grid_gap": null,
            "grid_row": null,
            "grid_template_areas": null,
            "grid_template_columns": null,
            "grid_template_rows": null,
            "height": null,
            "justify_content": null,
            "justify_items": null,
            "left": null,
            "margin": null,
            "max_height": null,
            "max_width": null,
            "min_height": null,
            "min_width": null,
            "object_fit": null,
            "object_position": null,
            "order": null,
            "overflow": null,
            "overflow_x": null,
            "overflow_y": null,
            "padding": null,
            "right": null,
            "top": null,
            "visibility": null,
            "width": null
          }
        },
        "b228b179e0354514b0f2d18b317f1b9f": {
          "model_module": "@jupyter-widgets/controls",
          "model_name": "ProgressStyleModel",
          "model_module_version": "1.5.0",
          "state": {
            "_model_module": "@jupyter-widgets/controls",
            "_model_module_version": "1.5.0",
            "_model_name": "ProgressStyleModel",
            "_view_count": null,
            "_view_module": "@jupyter-widgets/base",
            "_view_module_version": "1.2.0",
            "_view_name": "StyleView",
            "bar_color": null,
            "description_width": ""
          }
        },
        "4476acb9647240108a65993069329d19": {
          "model_module": "@jupyter-widgets/base",
          "model_name": "LayoutModel",
          "model_module_version": "1.2.0",
          "state": {
            "_model_module": "@jupyter-widgets/base",
            "_model_module_version": "1.2.0",
            "_model_name": "LayoutModel",
            "_view_count": null,
            "_view_module": "@jupyter-widgets/base",
            "_view_module_version": "1.2.0",
            "_view_name": "LayoutView",
            "align_content": null,
            "align_items": null,
            "align_self": null,
            "border": null,
            "bottom": null,
            "display": null,
            "flex": null,
            "flex_flow": null,
            "grid_area": null,
            "grid_auto_columns": null,
            "grid_auto_flow": null,
            "grid_auto_rows": null,
            "grid_column": null,
            "grid_gap": null,
            "grid_row": null,
            "grid_template_areas": null,
            "grid_template_columns": null,
            "grid_template_rows": null,
            "height": null,
            "justify_content": null,
            "justify_items": null,
            "left": null,
            "margin": null,
            "max_height": null,
            "max_width": null,
            "min_height": null,
            "min_width": null,
            "object_fit": null,
            "object_position": null,
            "order": null,
            "overflow": null,
            "overflow_x": null,
            "overflow_y": null,
            "padding": null,
            "right": null,
            "top": null,
            "visibility": null,
            "width": null
          }
        },
        "55d8dc0e216e44d18151c4c2c2e72cee": {
          "model_module": "@jupyter-widgets/controls",
          "model_name": "DescriptionStyleModel",
          "model_module_version": "1.5.0",
          "state": {
            "_model_module": "@jupyter-widgets/controls",
            "_model_module_version": "1.5.0",
            "_model_name": "DescriptionStyleModel",
            "_view_count": null,
            "_view_module": "@jupyter-widgets/base",
            "_view_module_version": "1.2.0",
            "_view_name": "StyleView",
            "description_width": ""
          }
        },
        "c65a2375c59f45abbdeba62d7b840881": {
          "model_module": "@jupyter-widgets/controls",
          "model_name": "HBoxModel",
          "model_module_version": "1.5.0",
          "state": {
            "_dom_classes": [],
            "_model_module": "@jupyter-widgets/controls",
            "_model_module_version": "1.5.0",
            "_model_name": "HBoxModel",
            "_view_count": null,
            "_view_module": "@jupyter-widgets/controls",
            "_view_module_version": "1.5.0",
            "_view_name": "HBoxView",
            "box_style": "",
            "children": [
              "IPY_MODEL_f56c4d9e22a949ec9b2f56fc6d7a32da",
              "IPY_MODEL_3c1387cddf0643309961141a190c310c",
              "IPY_MODEL_970b0f21e774443bb1ca0a28ebe63ced"
            ],
            "layout": "IPY_MODEL_1df49fb6c2bd45159406dad13fe8f9bc"
          }
        },
        "f56c4d9e22a949ec9b2f56fc6d7a32da": {
          "model_module": "@jupyter-widgets/controls",
          "model_name": "HTMLModel",
          "model_module_version": "1.5.0",
          "state": {
            "_dom_classes": [],
            "_model_module": "@jupyter-widgets/controls",
            "_model_module_version": "1.5.0",
            "_model_name": "HTMLModel",
            "_view_count": null,
            "_view_module": "@jupyter-widgets/controls",
            "_view_module_version": "1.5.0",
            "_view_name": "HTMLView",
            "description": "",
            "description_tooltip": null,
            "layout": "IPY_MODEL_4c1729ccef894a6e8865b7b046a4bf26",
            "placeholder": "​",
            "style": "IPY_MODEL_51b292193b8842ae9f937bbbf6b22e1a",
            "value": "bbc-news-summary.csv: 100%"
          }
        },
        "3c1387cddf0643309961141a190c310c": {
          "model_module": "@jupyter-widgets/controls",
          "model_name": "FloatProgressModel",
          "model_module_version": "1.5.0",
          "state": {
            "_dom_classes": [],
            "_model_module": "@jupyter-widgets/controls",
            "_model_module_version": "1.5.0",
            "_model_name": "FloatProgressModel",
            "_view_count": null,
            "_view_module": "@jupyter-widgets/controls",
            "_view_module_version": "1.5.0",
            "_view_name": "ProgressView",
            "bar_style": "success",
            "description": "",
            "description_tooltip": null,
            "layout": "IPY_MODEL_f903f8a712b34704acaec4f7b0dcf949",
            "max": 7322514,
            "min": 0,
            "orientation": "horizontal",
            "style": "IPY_MODEL_fdcd515eb9fa45f681c99f9695b771ff",
            "value": 7322514
          }
        },
        "970b0f21e774443bb1ca0a28ebe63ced": {
          "model_module": "@jupyter-widgets/controls",
          "model_name": "HTMLModel",
          "model_module_version": "1.5.0",
          "state": {
            "_dom_classes": [],
            "_model_module": "@jupyter-widgets/controls",
            "_model_module_version": "1.5.0",
            "_model_name": "HTMLModel",
            "_view_count": null,
            "_view_module": "@jupyter-widgets/controls",
            "_view_module_version": "1.5.0",
            "_view_name": "HTMLView",
            "description": "",
            "description_tooltip": null,
            "layout": "IPY_MODEL_e6078e713de5497da62d0b47284ea722",
            "placeholder": "​",
            "style": "IPY_MODEL_9b2fd11fc64748edb4fb83ada4aac8c1",
            "value": " 7.32M/7.32M [00:00&lt;00:00, 21.4MB/s]"
          }
        },
        "1df49fb6c2bd45159406dad13fe8f9bc": {
          "model_module": "@jupyter-widgets/base",
          "model_name": "LayoutModel",
          "model_module_version": "1.2.0",
          "state": {
            "_model_module": "@jupyter-widgets/base",
            "_model_module_version": "1.2.0",
            "_model_name": "LayoutModel",
            "_view_count": null,
            "_view_module": "@jupyter-widgets/base",
            "_view_module_version": "1.2.0",
            "_view_name": "LayoutView",
            "align_content": null,
            "align_items": null,
            "align_self": null,
            "border": null,
            "bottom": null,
            "display": null,
            "flex": null,
            "flex_flow": null,
            "grid_area": null,
            "grid_auto_columns": null,
            "grid_auto_flow": null,
            "grid_auto_rows": null,
            "grid_column": null,
            "grid_gap": null,
            "grid_row": null,
            "grid_template_areas": null,
            "grid_template_columns": null,
            "grid_template_rows": null,
            "height": null,
            "justify_content": null,
            "justify_items": null,
            "left": null,
            "margin": null,
            "max_height": null,
            "max_width": null,
            "min_height": null,
            "min_width": null,
            "object_fit": null,
            "object_position": null,
            "order": null,
            "overflow": null,
            "overflow_x": null,
            "overflow_y": null,
            "padding": null,
            "right": null,
            "top": null,
            "visibility": null,
            "width": null
          }
        },
        "4c1729ccef894a6e8865b7b046a4bf26": {
          "model_module": "@jupyter-widgets/base",
          "model_name": "LayoutModel",
          "model_module_version": "1.2.0",
          "state": {
            "_model_module": "@jupyter-widgets/base",
            "_model_module_version": "1.2.0",
            "_model_name": "LayoutModel",
            "_view_count": null,
            "_view_module": "@jupyter-widgets/base",
            "_view_module_version": "1.2.0",
            "_view_name": "LayoutView",
            "align_content": null,
            "align_items": null,
            "align_self": null,
            "border": null,
            "bottom": null,
            "display": null,
            "flex": null,
            "flex_flow": null,
            "grid_area": null,
            "grid_auto_columns": null,
            "grid_auto_flow": null,
            "grid_auto_rows": null,
            "grid_column": null,
            "grid_gap": null,
            "grid_row": null,
            "grid_template_areas": null,
            "grid_template_columns": null,
            "grid_template_rows": null,
            "height": null,
            "justify_content": null,
            "justify_items": null,
            "left": null,
            "margin": null,
            "max_height": null,
            "max_width": null,
            "min_height": null,
            "min_width": null,
            "object_fit": null,
            "object_position": null,
            "order": null,
            "overflow": null,
            "overflow_x": null,
            "overflow_y": null,
            "padding": null,
            "right": null,
            "top": null,
            "visibility": null,
            "width": null
          }
        },
        "51b292193b8842ae9f937bbbf6b22e1a": {
          "model_module": "@jupyter-widgets/controls",
          "model_name": "DescriptionStyleModel",
          "model_module_version": "1.5.0",
          "state": {
            "_model_module": "@jupyter-widgets/controls",
            "_model_module_version": "1.5.0",
            "_model_name": "DescriptionStyleModel",
            "_view_count": null,
            "_view_module": "@jupyter-widgets/base",
            "_view_module_version": "1.2.0",
            "_view_name": "StyleView",
            "description_width": ""
          }
        },
        "f903f8a712b34704acaec4f7b0dcf949": {
          "model_module": "@jupyter-widgets/base",
          "model_name": "LayoutModel",
          "model_module_version": "1.2.0",
          "state": {
            "_model_module": "@jupyter-widgets/base",
            "_model_module_version": "1.2.0",
            "_model_name": "LayoutModel",
            "_view_count": null,
            "_view_module": "@jupyter-widgets/base",
            "_view_module_version": "1.2.0",
            "_view_name": "LayoutView",
            "align_content": null,
            "align_items": null,
            "align_self": null,
            "border": null,
            "bottom": null,
            "display": null,
            "flex": null,
            "flex_flow": null,
            "grid_area": null,
            "grid_auto_columns": null,
            "grid_auto_flow": null,
            "grid_auto_rows": null,
            "grid_column": null,
            "grid_gap": null,
            "grid_row": null,
            "grid_template_areas": null,
            "grid_template_columns": null,
            "grid_template_rows": null,
            "height": null,
            "justify_content": null,
            "justify_items": null,
            "left": null,
            "margin": null,
            "max_height": null,
            "max_width": null,
            "min_height": null,
            "min_width": null,
            "object_fit": null,
            "object_position": null,
            "order": null,
            "overflow": null,
            "overflow_x": null,
            "overflow_y": null,
            "padding": null,
            "right": null,
            "top": null,
            "visibility": null,
            "width": null
          }
        },
        "fdcd515eb9fa45f681c99f9695b771ff": {
          "model_module": "@jupyter-widgets/controls",
          "model_name": "ProgressStyleModel",
          "model_module_version": "1.5.0",
          "state": {
            "_model_module": "@jupyter-widgets/controls",
            "_model_module_version": "1.5.0",
            "_model_name": "ProgressStyleModel",
            "_view_count": null,
            "_view_module": "@jupyter-widgets/base",
            "_view_module_version": "1.2.0",
            "_view_name": "StyleView",
            "bar_color": null,
            "description_width": ""
          }
        },
        "e6078e713de5497da62d0b47284ea722": {
          "model_module": "@jupyter-widgets/base",
          "model_name": "LayoutModel",
          "model_module_version": "1.2.0",
          "state": {
            "_model_module": "@jupyter-widgets/base",
            "_model_module_version": "1.2.0",
            "_model_name": "LayoutModel",
            "_view_count": null,
            "_view_module": "@jupyter-widgets/base",
            "_view_module_version": "1.2.0",
            "_view_name": "LayoutView",
            "align_content": null,
            "align_items": null,
            "align_self": null,
            "border": null,
            "bottom": null,
            "display": null,
            "flex": null,
            "flex_flow": null,
            "grid_area": null,
            "grid_auto_columns": null,
            "grid_auto_flow": null,
            "grid_auto_rows": null,
            "grid_column": null,
            "grid_gap": null,
            "grid_row": null,
            "grid_template_areas": null,
            "grid_template_columns": null,
            "grid_template_rows": null,
            "height": null,
            "justify_content": null,
            "justify_items": null,
            "left": null,
            "margin": null,
            "max_height": null,
            "max_width": null,
            "min_height": null,
            "min_width": null,
            "object_fit": null,
            "object_position": null,
            "order": null,
            "overflow": null,
            "overflow_x": null,
            "overflow_y": null,
            "padding": null,
            "right": null,
            "top": null,
            "visibility": null,
            "width": null
          }
        },
        "9b2fd11fc64748edb4fb83ada4aac8c1": {
          "model_module": "@jupyter-widgets/controls",
          "model_name": "DescriptionStyleModel",
          "model_module_version": "1.5.0",
          "state": {
            "_model_module": "@jupyter-widgets/controls",
            "_model_module_version": "1.5.0",
            "_model_name": "DescriptionStyleModel",
            "_view_count": null,
            "_view_module": "@jupyter-widgets/base",
            "_view_module_version": "1.2.0",
            "_view_name": "StyleView",
            "description_width": ""
          }
        },
        "c69874a75e4b4d3596a0ea32b192cceb": {
          "model_module": "@jupyter-widgets/controls",
          "model_name": "HBoxModel",
          "model_module_version": "1.5.0",
          "state": {
            "_dom_classes": [],
            "_model_module": "@jupyter-widgets/controls",
            "_model_module_version": "1.5.0",
            "_model_name": "HBoxModel",
            "_view_count": null,
            "_view_module": "@jupyter-widgets/controls",
            "_view_module_version": "1.5.0",
            "_view_name": "HBoxView",
            "box_style": "",
            "children": [
              "IPY_MODEL_df731dc1a62449758950b2d5fd4ebf21",
              "IPY_MODEL_443e97764ee24e97bd06d6ed617cc660",
              "IPY_MODEL_a71d5aa6a24e4551bdcff1c14eb8d7df"
            ],
            "layout": "IPY_MODEL_73defc65714144ad898950d51e65bcf6"
          }
        },
        "df731dc1a62449758950b2d5fd4ebf21": {
          "model_module": "@jupyter-widgets/controls",
          "model_name": "HTMLModel",
          "model_module_version": "1.5.0",
          "state": {
            "_dom_classes": [],
            "_model_module": "@jupyter-widgets/controls",
            "_model_module_version": "1.5.0",
            "_model_name": "HTMLModel",
            "_view_count": null,
            "_view_module": "@jupyter-widgets/controls",
            "_view_module_version": "1.5.0",
            "_view_name": "HTMLView",
            "description": "",
            "description_tooltip": null,
            "layout": "IPY_MODEL_bac39d08d9ed4b049adbf146b2690002",
            "placeholder": "​",
            "style": "IPY_MODEL_4eaa851b73ed4f8aacbd08cdabdecef4",
            "value": "Generating train split: 100%"
          }
        },
        "443e97764ee24e97bd06d6ed617cc660": {
          "model_module": "@jupyter-widgets/controls",
          "model_name": "FloatProgressModel",
          "model_module_version": "1.5.0",
          "state": {
            "_dom_classes": [],
            "_model_module": "@jupyter-widgets/controls",
            "_model_module_version": "1.5.0",
            "_model_name": "FloatProgressModel",
            "_view_count": null,
            "_view_module": "@jupyter-widgets/controls",
            "_view_module_version": "1.5.0",
            "_view_name": "ProgressView",
            "bar_style": "success",
            "description": "",
            "description_tooltip": null,
            "layout": "IPY_MODEL_1a2fb49abd844ed9b8897d9dfe54f0ec",
            "max": 2224,
            "min": 0,
            "orientation": "horizontal",
            "style": "IPY_MODEL_6802472162434307936dd25f4a45a0ff",
            "value": 2224
          }
        },
        "a71d5aa6a24e4551bdcff1c14eb8d7df": {
          "model_module": "@jupyter-widgets/controls",
          "model_name": "HTMLModel",
          "model_module_version": "1.5.0",
          "state": {
            "_dom_classes": [],
            "_model_module": "@jupyter-widgets/controls",
            "_model_module_version": "1.5.0",
            "_model_name": "HTMLModel",
            "_view_count": null,
            "_view_module": "@jupyter-widgets/controls",
            "_view_module_version": "1.5.0",
            "_view_name": "HTMLView",
            "description": "",
            "description_tooltip": null,
            "layout": "IPY_MODEL_89522293df574880ab45744b73a983d4",
            "placeholder": "​",
            "style": "IPY_MODEL_391f4bc1848f41b59480e9e58d40b726",
            "value": " 2224/2224 [00:00&lt;00:00, 7939.88 examples/s]"
          }
        },
        "73defc65714144ad898950d51e65bcf6": {
          "model_module": "@jupyter-widgets/base",
          "model_name": "LayoutModel",
          "model_module_version": "1.2.0",
          "state": {
            "_model_module": "@jupyter-widgets/base",
            "_model_module_version": "1.2.0",
            "_model_name": "LayoutModel",
            "_view_count": null,
            "_view_module": "@jupyter-widgets/base",
            "_view_module_version": "1.2.0",
            "_view_name": "LayoutView",
            "align_content": null,
            "align_items": null,
            "align_self": null,
            "border": null,
            "bottom": null,
            "display": null,
            "flex": null,
            "flex_flow": null,
            "grid_area": null,
            "grid_auto_columns": null,
            "grid_auto_flow": null,
            "grid_auto_rows": null,
            "grid_column": null,
            "grid_gap": null,
            "grid_row": null,
            "grid_template_areas": null,
            "grid_template_columns": null,
            "grid_template_rows": null,
            "height": null,
            "justify_content": null,
            "justify_items": null,
            "left": null,
            "margin": null,
            "max_height": null,
            "max_width": null,
            "min_height": null,
            "min_width": null,
            "object_fit": null,
            "object_position": null,
            "order": null,
            "overflow": null,
            "overflow_x": null,
            "overflow_y": null,
            "padding": null,
            "right": null,
            "top": null,
            "visibility": null,
            "width": null
          }
        },
        "bac39d08d9ed4b049adbf146b2690002": {
          "model_module": "@jupyter-widgets/base",
          "model_name": "LayoutModel",
          "model_module_version": "1.2.0",
          "state": {
            "_model_module": "@jupyter-widgets/base",
            "_model_module_version": "1.2.0",
            "_model_name": "LayoutModel",
            "_view_count": null,
            "_view_module": "@jupyter-widgets/base",
            "_view_module_version": "1.2.0",
            "_view_name": "LayoutView",
            "align_content": null,
            "align_items": null,
            "align_self": null,
            "border": null,
            "bottom": null,
            "display": null,
            "flex": null,
            "flex_flow": null,
            "grid_area": null,
            "grid_auto_columns": null,
            "grid_auto_flow": null,
            "grid_auto_rows": null,
            "grid_column": null,
            "grid_gap": null,
            "grid_row": null,
            "grid_template_areas": null,
            "grid_template_columns": null,
            "grid_template_rows": null,
            "height": null,
            "justify_content": null,
            "justify_items": null,
            "left": null,
            "margin": null,
            "max_height": null,
            "max_width": null,
            "min_height": null,
            "min_width": null,
            "object_fit": null,
            "object_position": null,
            "order": null,
            "overflow": null,
            "overflow_x": null,
            "overflow_y": null,
            "padding": null,
            "right": null,
            "top": null,
            "visibility": null,
            "width": null
          }
        },
        "4eaa851b73ed4f8aacbd08cdabdecef4": {
          "model_module": "@jupyter-widgets/controls",
          "model_name": "DescriptionStyleModel",
          "model_module_version": "1.5.0",
          "state": {
            "_model_module": "@jupyter-widgets/controls",
            "_model_module_version": "1.5.0",
            "_model_name": "DescriptionStyleModel",
            "_view_count": null,
            "_view_module": "@jupyter-widgets/base",
            "_view_module_version": "1.2.0",
            "_view_name": "StyleView",
            "description_width": ""
          }
        },
        "1a2fb49abd844ed9b8897d9dfe54f0ec": {
          "model_module": "@jupyter-widgets/base",
          "model_name": "LayoutModel",
          "model_module_version": "1.2.0",
          "state": {
            "_model_module": "@jupyter-widgets/base",
            "_model_module_version": "1.2.0",
            "_model_name": "LayoutModel",
            "_view_count": null,
            "_view_module": "@jupyter-widgets/base",
            "_view_module_version": "1.2.0",
            "_view_name": "LayoutView",
            "align_content": null,
            "align_items": null,
            "align_self": null,
            "border": null,
            "bottom": null,
            "display": null,
            "flex": null,
            "flex_flow": null,
            "grid_area": null,
            "grid_auto_columns": null,
            "grid_auto_flow": null,
            "grid_auto_rows": null,
            "grid_column": null,
            "grid_gap": null,
            "grid_row": null,
            "grid_template_areas": null,
            "grid_template_columns": null,
            "grid_template_rows": null,
            "height": null,
            "justify_content": null,
            "justify_items": null,
            "left": null,
            "margin": null,
            "max_height": null,
            "max_width": null,
            "min_height": null,
            "min_width": null,
            "object_fit": null,
            "object_position": null,
            "order": null,
            "overflow": null,
            "overflow_x": null,
            "overflow_y": null,
            "padding": null,
            "right": null,
            "top": null,
            "visibility": null,
            "width": null
          }
        },
        "6802472162434307936dd25f4a45a0ff": {
          "model_module": "@jupyter-widgets/controls",
          "model_name": "ProgressStyleModel",
          "model_module_version": "1.5.0",
          "state": {
            "_model_module": "@jupyter-widgets/controls",
            "_model_module_version": "1.5.0",
            "_model_name": "ProgressStyleModel",
            "_view_count": null,
            "_view_module": "@jupyter-widgets/base",
            "_view_module_version": "1.2.0",
            "_view_name": "StyleView",
            "bar_color": null,
            "description_width": ""
          }
        },
        "89522293df574880ab45744b73a983d4": {
          "model_module": "@jupyter-widgets/base",
          "model_name": "LayoutModel",
          "model_module_version": "1.2.0",
          "state": {
            "_model_module": "@jupyter-widgets/base",
            "_model_module_version": "1.2.0",
            "_model_name": "LayoutModel",
            "_view_count": null,
            "_view_module": "@jupyter-widgets/base",
            "_view_module_version": "1.2.0",
            "_view_name": "LayoutView",
            "align_content": null,
            "align_items": null,
            "align_self": null,
            "border": null,
            "bottom": null,
            "display": null,
            "flex": null,
            "flex_flow": null,
            "grid_area": null,
            "grid_auto_columns": null,
            "grid_auto_flow": null,
            "grid_auto_rows": null,
            "grid_column": null,
            "grid_gap": null,
            "grid_row": null,
            "grid_template_areas": null,
            "grid_template_columns": null,
            "grid_template_rows": null,
            "height": null,
            "justify_content": null,
            "justify_items": null,
            "left": null,
            "margin": null,
            "max_height": null,
            "max_width": null,
            "min_height": null,
            "min_width": null,
            "object_fit": null,
            "object_position": null,
            "order": null,
            "overflow": null,
            "overflow_x": null,
            "overflow_y": null,
            "padding": null,
            "right": null,
            "top": null,
            "visibility": null,
            "width": null
          }
        },
        "391f4bc1848f41b59480e9e58d40b726": {
          "model_module": "@jupyter-widgets/controls",
          "model_name": "DescriptionStyleModel",
          "model_module_version": "1.5.0",
          "state": {
            "_model_module": "@jupyter-widgets/controls",
            "_model_module_version": "1.5.0",
            "_model_name": "DescriptionStyleModel",
            "_view_count": null,
            "_view_module": "@jupyter-widgets/base",
            "_view_module_version": "1.2.0",
            "_view_name": "StyleView",
            "description_width": ""
          }
        },
        "09303e1559a04752b4428ca1a28a03e6": {
          "model_module": "@jupyter-widgets/controls",
          "model_name": "HBoxModel",
          "model_module_version": "1.5.0",
          "state": {
            "_dom_classes": [],
            "_model_module": "@jupyter-widgets/controls",
            "_model_module_version": "1.5.0",
            "_model_name": "HBoxModel",
            "_view_count": null,
            "_view_module": "@jupyter-widgets/controls",
            "_view_module_version": "1.5.0",
            "_view_name": "HBoxView",
            "box_style": "",
            "children": [
              "IPY_MODEL_4ccd75617b154184aa136bdd3087068a",
              "IPY_MODEL_c8ba1a8104754810acd02f20b6c72a8a",
              "IPY_MODEL_43e329299dde464a9023e758c735bfb4"
            ],
            "layout": "IPY_MODEL_16b63576734f4d0fae5568174252296e"
          }
        },
        "4ccd75617b154184aa136bdd3087068a": {
          "model_module": "@jupyter-widgets/controls",
          "model_name": "HTMLModel",
          "model_module_version": "1.5.0",
          "state": {
            "_dom_classes": [],
            "_model_module": "@jupyter-widgets/controls",
            "_model_module_version": "1.5.0",
            "_model_name": "HTMLModel",
            "_view_count": null,
            "_view_module": "@jupyter-widgets/controls",
            "_view_module_version": "1.5.0",
            "_view_name": "HTMLView",
            "description": "",
            "description_tooltip": null,
            "layout": "IPY_MODEL_e27c7497d8924258bb651f85d2e3018e",
            "placeholder": "​",
            "style": "IPY_MODEL_e7e4aa55cd384f3ab2d6a29411b5ee40",
            "value": "spiece.model: 100%"
          }
        },
        "c8ba1a8104754810acd02f20b6c72a8a": {
          "model_module": "@jupyter-widgets/controls",
          "model_name": "FloatProgressModel",
          "model_module_version": "1.5.0",
          "state": {
            "_dom_classes": [],
            "_model_module": "@jupyter-widgets/controls",
            "_model_module_version": "1.5.0",
            "_model_name": "FloatProgressModel",
            "_view_count": null,
            "_view_module": "@jupyter-widgets/controls",
            "_view_module_version": "1.5.0",
            "_view_name": "ProgressView",
            "bar_style": "success",
            "description": "",
            "description_tooltip": null,
            "layout": "IPY_MODEL_df3b65992c694e969244d18c18bc0462",
            "max": 791656,
            "min": 0,
            "orientation": "horizontal",
            "style": "IPY_MODEL_e9b2ecaf5fd540a5bf25f7ac1c74e618",
            "value": 791656
          }
        },
        "43e329299dde464a9023e758c735bfb4": {
          "model_module": "@jupyter-widgets/controls",
          "model_name": "HTMLModel",
          "model_module_version": "1.5.0",
          "state": {
            "_dom_classes": [],
            "_model_module": "@jupyter-widgets/controls",
            "_model_module_version": "1.5.0",
            "_model_name": "HTMLModel",
            "_view_count": null,
            "_view_module": "@jupyter-widgets/controls",
            "_view_module_version": "1.5.0",
            "_view_name": "HTMLView",
            "description": "",
            "description_tooltip": null,
            "layout": "IPY_MODEL_76073bb02405454784738ede814cad56",
            "placeholder": "​",
            "style": "IPY_MODEL_f8b22abe304f49a0a784e59b27a784f5",
            "value": " 792k/792k [00:00&lt;00:00, 29.8MB/s]"
          }
        },
        "16b63576734f4d0fae5568174252296e": {
          "model_module": "@jupyter-widgets/base",
          "model_name": "LayoutModel",
          "model_module_version": "1.2.0",
          "state": {
            "_model_module": "@jupyter-widgets/base",
            "_model_module_version": "1.2.0",
            "_model_name": "LayoutModel",
            "_view_count": null,
            "_view_module": "@jupyter-widgets/base",
            "_view_module_version": "1.2.0",
            "_view_name": "LayoutView",
            "align_content": null,
            "align_items": null,
            "align_self": null,
            "border": null,
            "bottom": null,
            "display": null,
            "flex": null,
            "flex_flow": null,
            "grid_area": null,
            "grid_auto_columns": null,
            "grid_auto_flow": null,
            "grid_auto_rows": null,
            "grid_column": null,
            "grid_gap": null,
            "grid_row": null,
            "grid_template_areas": null,
            "grid_template_columns": null,
            "grid_template_rows": null,
            "height": null,
            "justify_content": null,
            "justify_items": null,
            "left": null,
            "margin": null,
            "max_height": null,
            "max_width": null,
            "min_height": null,
            "min_width": null,
            "object_fit": null,
            "object_position": null,
            "order": null,
            "overflow": null,
            "overflow_x": null,
            "overflow_y": null,
            "padding": null,
            "right": null,
            "top": null,
            "visibility": null,
            "width": null
          }
        },
        "e27c7497d8924258bb651f85d2e3018e": {
          "model_module": "@jupyter-widgets/base",
          "model_name": "LayoutModel",
          "model_module_version": "1.2.0",
          "state": {
            "_model_module": "@jupyter-widgets/base",
            "_model_module_version": "1.2.0",
            "_model_name": "LayoutModel",
            "_view_count": null,
            "_view_module": "@jupyter-widgets/base",
            "_view_module_version": "1.2.0",
            "_view_name": "LayoutView",
            "align_content": null,
            "align_items": null,
            "align_self": null,
            "border": null,
            "bottom": null,
            "display": null,
            "flex": null,
            "flex_flow": null,
            "grid_area": null,
            "grid_auto_columns": null,
            "grid_auto_flow": null,
            "grid_auto_rows": null,
            "grid_column": null,
            "grid_gap": null,
            "grid_row": null,
            "grid_template_areas": null,
            "grid_template_columns": null,
            "grid_template_rows": null,
            "height": null,
            "justify_content": null,
            "justify_items": null,
            "left": null,
            "margin": null,
            "max_height": null,
            "max_width": null,
            "min_height": null,
            "min_width": null,
            "object_fit": null,
            "object_position": null,
            "order": null,
            "overflow": null,
            "overflow_x": null,
            "overflow_y": null,
            "padding": null,
            "right": null,
            "top": null,
            "visibility": null,
            "width": null
          }
        },
        "e7e4aa55cd384f3ab2d6a29411b5ee40": {
          "model_module": "@jupyter-widgets/controls",
          "model_name": "DescriptionStyleModel",
          "model_module_version": "1.5.0",
          "state": {
            "_model_module": "@jupyter-widgets/controls",
            "_model_module_version": "1.5.0",
            "_model_name": "DescriptionStyleModel",
            "_view_count": null,
            "_view_module": "@jupyter-widgets/base",
            "_view_module_version": "1.2.0",
            "_view_name": "StyleView",
            "description_width": ""
          }
        },
        "df3b65992c694e969244d18c18bc0462": {
          "model_module": "@jupyter-widgets/base",
          "model_name": "LayoutModel",
          "model_module_version": "1.2.0",
          "state": {
            "_model_module": "@jupyter-widgets/base",
            "_model_module_version": "1.2.0",
            "_model_name": "LayoutModel",
            "_view_count": null,
            "_view_module": "@jupyter-widgets/base",
            "_view_module_version": "1.2.0",
            "_view_name": "LayoutView",
            "align_content": null,
            "align_items": null,
            "align_self": null,
            "border": null,
            "bottom": null,
            "display": null,
            "flex": null,
            "flex_flow": null,
            "grid_area": null,
            "grid_auto_columns": null,
            "grid_auto_flow": null,
            "grid_auto_rows": null,
            "grid_column": null,
            "grid_gap": null,
            "grid_row": null,
            "grid_template_areas": null,
            "grid_template_columns": null,
            "grid_template_rows": null,
            "height": null,
            "justify_content": null,
            "justify_items": null,
            "left": null,
            "margin": null,
            "max_height": null,
            "max_width": null,
            "min_height": null,
            "min_width": null,
            "object_fit": null,
            "object_position": null,
            "order": null,
            "overflow": null,
            "overflow_x": null,
            "overflow_y": null,
            "padding": null,
            "right": null,
            "top": null,
            "visibility": null,
            "width": null
          }
        },
        "e9b2ecaf5fd540a5bf25f7ac1c74e618": {
          "model_module": "@jupyter-widgets/controls",
          "model_name": "ProgressStyleModel",
          "model_module_version": "1.5.0",
          "state": {
            "_model_module": "@jupyter-widgets/controls",
            "_model_module_version": "1.5.0",
            "_model_name": "ProgressStyleModel",
            "_view_count": null,
            "_view_module": "@jupyter-widgets/base",
            "_view_module_version": "1.2.0",
            "_view_name": "StyleView",
            "bar_color": null,
            "description_width": ""
          }
        },
        "76073bb02405454784738ede814cad56": {
          "model_module": "@jupyter-widgets/base",
          "model_name": "LayoutModel",
          "model_module_version": "1.2.0",
          "state": {
            "_model_module": "@jupyter-widgets/base",
            "_model_module_version": "1.2.0",
            "_model_name": "LayoutModel",
            "_view_count": null,
            "_view_module": "@jupyter-widgets/base",
            "_view_module_version": "1.2.0",
            "_view_name": "LayoutView",
            "align_content": null,
            "align_items": null,
            "align_self": null,
            "border": null,
            "bottom": null,
            "display": null,
            "flex": null,
            "flex_flow": null,
            "grid_area": null,
            "grid_auto_columns": null,
            "grid_auto_flow": null,
            "grid_auto_rows": null,
            "grid_column": null,
            "grid_gap": null,
            "grid_row": null,
            "grid_template_areas": null,
            "grid_template_columns": null,
            "grid_template_rows": null,
            "height": null,
            "justify_content": null,
            "justify_items": null,
            "left": null,
            "margin": null,
            "max_height": null,
            "max_width": null,
            "min_height": null,
            "min_width": null,
            "object_fit": null,
            "object_position": null,
            "order": null,
            "overflow": null,
            "overflow_x": null,
            "overflow_y": null,
            "padding": null,
            "right": null,
            "top": null,
            "visibility": null,
            "width": null
          }
        },
        "f8b22abe304f49a0a784e59b27a784f5": {
          "model_module": "@jupyter-widgets/controls",
          "model_name": "DescriptionStyleModel",
          "model_module_version": "1.5.0",
          "state": {
            "_model_module": "@jupyter-widgets/controls",
            "_model_module_version": "1.5.0",
            "_model_name": "DescriptionStyleModel",
            "_view_count": null,
            "_view_module": "@jupyter-widgets/base",
            "_view_module_version": "1.2.0",
            "_view_name": "StyleView",
            "description_width": ""
          }
        },
        "a1bfab8265044e4c8b243c4c1d91d466": {
          "model_module": "@jupyter-widgets/controls",
          "model_name": "HBoxModel",
          "model_module_version": "1.5.0",
          "state": {
            "_dom_classes": [],
            "_model_module": "@jupyter-widgets/controls",
            "_model_module_version": "1.5.0",
            "_model_name": "HBoxModel",
            "_view_count": null,
            "_view_module": "@jupyter-widgets/controls",
            "_view_module_version": "1.5.0",
            "_view_name": "HBoxView",
            "box_style": "",
            "children": [
              "IPY_MODEL_8b92ab42cec24a2d966f59dd77c44199",
              "IPY_MODEL_1589dcd5fa754ba196cdae6ff1868128",
              "IPY_MODEL_fe580d5d2b3a44a09feafb16a8ebc58e"
            ],
            "layout": "IPY_MODEL_5826f9797c3f4a52b3227af231c1ed3f"
          }
        },
        "8b92ab42cec24a2d966f59dd77c44199": {
          "model_module": "@jupyter-widgets/controls",
          "model_name": "HTMLModel",
          "model_module_version": "1.5.0",
          "state": {
            "_dom_classes": [],
            "_model_module": "@jupyter-widgets/controls",
            "_model_module_version": "1.5.0",
            "_model_name": "HTMLModel",
            "_view_count": null,
            "_view_module": "@jupyter-widgets/controls",
            "_view_module_version": "1.5.0",
            "_view_name": "HTMLView",
            "description": "",
            "description_tooltip": null,
            "layout": "IPY_MODEL_d856db1255134418a92a1f9fd5554aa6",
            "placeholder": "​",
            "style": "IPY_MODEL_b7c479b6ab5b41eab3e423bbdc7d7055",
            "value": "tokenizer.json: 100%"
          }
        },
        "1589dcd5fa754ba196cdae6ff1868128": {
          "model_module": "@jupyter-widgets/controls",
          "model_name": "FloatProgressModel",
          "model_module_version": "1.5.0",
          "state": {
            "_dom_classes": [],
            "_model_module": "@jupyter-widgets/controls",
            "_model_module_version": "1.5.0",
            "_model_name": "FloatProgressModel",
            "_view_count": null,
            "_view_module": "@jupyter-widgets/controls",
            "_view_module_version": "1.5.0",
            "_view_name": "ProgressView",
            "bar_style": "success",
            "description": "",
            "description_tooltip": null,
            "layout": "IPY_MODEL_fc947f97dfcf475abc5cc373d8906534",
            "max": 1389353,
            "min": 0,
            "orientation": "horizontal",
            "style": "IPY_MODEL_bf3d5c2b95ae47f1ad425b8d58c25339",
            "value": 1389353
          }
        },
        "fe580d5d2b3a44a09feafb16a8ebc58e": {
          "model_module": "@jupyter-widgets/controls",
          "model_name": "HTMLModel",
          "model_module_version": "1.5.0",
          "state": {
            "_dom_classes": [],
            "_model_module": "@jupyter-widgets/controls",
            "_model_module_version": "1.5.0",
            "_model_name": "HTMLModel",
            "_view_count": null,
            "_view_module": "@jupyter-widgets/controls",
            "_view_module_version": "1.5.0",
            "_view_name": "HTMLView",
            "description": "",
            "description_tooltip": null,
            "layout": "IPY_MODEL_9b9959155838439c9c5a5ec2899fe192",
            "placeholder": "​",
            "style": "IPY_MODEL_8c287866d6da482492a6d846fc522e20",
            "value": " 1.39M/1.39M [00:00&lt;00:00, 41.1MB/s]"
          }
        },
        "5826f9797c3f4a52b3227af231c1ed3f": {
          "model_module": "@jupyter-widgets/base",
          "model_name": "LayoutModel",
          "model_module_version": "1.2.0",
          "state": {
            "_model_module": "@jupyter-widgets/base",
            "_model_module_version": "1.2.0",
            "_model_name": "LayoutModel",
            "_view_count": null,
            "_view_module": "@jupyter-widgets/base",
            "_view_module_version": "1.2.0",
            "_view_name": "LayoutView",
            "align_content": null,
            "align_items": null,
            "align_self": null,
            "border": null,
            "bottom": null,
            "display": null,
            "flex": null,
            "flex_flow": null,
            "grid_area": null,
            "grid_auto_columns": null,
            "grid_auto_flow": null,
            "grid_auto_rows": null,
            "grid_column": null,
            "grid_gap": null,
            "grid_row": null,
            "grid_template_areas": null,
            "grid_template_columns": null,
            "grid_template_rows": null,
            "height": null,
            "justify_content": null,
            "justify_items": null,
            "left": null,
            "margin": null,
            "max_height": null,
            "max_width": null,
            "min_height": null,
            "min_width": null,
            "object_fit": null,
            "object_position": null,
            "order": null,
            "overflow": null,
            "overflow_x": null,
            "overflow_y": null,
            "padding": null,
            "right": null,
            "top": null,
            "visibility": null,
            "width": null
          }
        },
        "d856db1255134418a92a1f9fd5554aa6": {
          "model_module": "@jupyter-widgets/base",
          "model_name": "LayoutModel",
          "model_module_version": "1.2.0",
          "state": {
            "_model_module": "@jupyter-widgets/base",
            "_model_module_version": "1.2.0",
            "_model_name": "LayoutModel",
            "_view_count": null,
            "_view_module": "@jupyter-widgets/base",
            "_view_module_version": "1.2.0",
            "_view_name": "LayoutView",
            "align_content": null,
            "align_items": null,
            "align_self": null,
            "border": null,
            "bottom": null,
            "display": null,
            "flex": null,
            "flex_flow": null,
            "grid_area": null,
            "grid_auto_columns": null,
            "grid_auto_flow": null,
            "grid_auto_rows": null,
            "grid_column": null,
            "grid_gap": null,
            "grid_row": null,
            "grid_template_areas": null,
            "grid_template_columns": null,
            "grid_template_rows": null,
            "height": null,
            "justify_content": null,
            "justify_items": null,
            "left": null,
            "margin": null,
            "max_height": null,
            "max_width": null,
            "min_height": null,
            "min_width": null,
            "object_fit": null,
            "object_position": null,
            "order": null,
            "overflow": null,
            "overflow_x": null,
            "overflow_y": null,
            "padding": null,
            "right": null,
            "top": null,
            "visibility": null,
            "width": null
          }
        },
        "b7c479b6ab5b41eab3e423bbdc7d7055": {
          "model_module": "@jupyter-widgets/controls",
          "model_name": "DescriptionStyleModel",
          "model_module_version": "1.5.0",
          "state": {
            "_model_module": "@jupyter-widgets/controls",
            "_model_module_version": "1.5.0",
            "_model_name": "DescriptionStyleModel",
            "_view_count": null,
            "_view_module": "@jupyter-widgets/base",
            "_view_module_version": "1.2.0",
            "_view_name": "StyleView",
            "description_width": ""
          }
        },
        "fc947f97dfcf475abc5cc373d8906534": {
          "model_module": "@jupyter-widgets/base",
          "model_name": "LayoutModel",
          "model_module_version": "1.2.0",
          "state": {
            "_model_module": "@jupyter-widgets/base",
            "_model_module_version": "1.2.0",
            "_model_name": "LayoutModel",
            "_view_count": null,
            "_view_module": "@jupyter-widgets/base",
            "_view_module_version": "1.2.0",
            "_view_name": "LayoutView",
            "align_content": null,
            "align_items": null,
            "align_self": null,
            "border": null,
            "bottom": null,
            "display": null,
            "flex": null,
            "flex_flow": null,
            "grid_area": null,
            "grid_auto_columns": null,
            "grid_auto_flow": null,
            "grid_auto_rows": null,
            "grid_column": null,
            "grid_gap": null,
            "grid_row": null,
            "grid_template_areas": null,
            "grid_template_columns": null,
            "grid_template_rows": null,
            "height": null,
            "justify_content": null,
            "justify_items": null,
            "left": null,
            "margin": null,
            "max_height": null,
            "max_width": null,
            "min_height": null,
            "min_width": null,
            "object_fit": null,
            "object_position": null,
            "order": null,
            "overflow": null,
            "overflow_x": null,
            "overflow_y": null,
            "padding": null,
            "right": null,
            "top": null,
            "visibility": null,
            "width": null
          }
        },
        "bf3d5c2b95ae47f1ad425b8d58c25339": {
          "model_module": "@jupyter-widgets/controls",
          "model_name": "ProgressStyleModel",
          "model_module_version": "1.5.0",
          "state": {
            "_model_module": "@jupyter-widgets/controls",
            "_model_module_version": "1.5.0",
            "_model_name": "ProgressStyleModel",
            "_view_count": null,
            "_view_module": "@jupyter-widgets/base",
            "_view_module_version": "1.2.0",
            "_view_name": "StyleView",
            "bar_color": null,
            "description_width": ""
          }
        },
        "9b9959155838439c9c5a5ec2899fe192": {
          "model_module": "@jupyter-widgets/base",
          "model_name": "LayoutModel",
          "model_module_version": "1.2.0",
          "state": {
            "_model_module": "@jupyter-widgets/base",
            "_model_module_version": "1.2.0",
            "_model_name": "LayoutModel",
            "_view_count": null,
            "_view_module": "@jupyter-widgets/base",
            "_view_module_version": "1.2.0",
            "_view_name": "LayoutView",
            "align_content": null,
            "align_items": null,
            "align_self": null,
            "border": null,
            "bottom": null,
            "display": null,
            "flex": null,
            "flex_flow": null,
            "grid_area": null,
            "grid_auto_columns": null,
            "grid_auto_flow": null,
            "grid_auto_rows": null,
            "grid_column": null,
            "grid_gap": null,
            "grid_row": null,
            "grid_template_areas": null,
            "grid_template_columns": null,
            "grid_template_rows": null,
            "height": null,
            "justify_content": null,
            "justify_items": null,
            "left": null,
            "margin": null,
            "max_height": null,
            "max_width": null,
            "min_height": null,
            "min_width": null,
            "object_fit": null,
            "object_position": null,
            "order": null,
            "overflow": null,
            "overflow_x": null,
            "overflow_y": null,
            "padding": null,
            "right": null,
            "top": null,
            "visibility": null,
            "width": null
          }
        },
        "8c287866d6da482492a6d846fc522e20": {
          "model_module": "@jupyter-widgets/controls",
          "model_name": "DescriptionStyleModel",
          "model_module_version": "1.5.0",
          "state": {
            "_model_module": "@jupyter-widgets/controls",
            "_model_module_version": "1.5.0",
            "_model_name": "DescriptionStyleModel",
            "_view_count": null,
            "_view_module": "@jupyter-widgets/base",
            "_view_module_version": "1.2.0",
            "_view_name": "StyleView",
            "description_width": ""
          }
        },
        "56e9cf3898de4aef9ed2a6251d0f0e18": {
          "model_module": "@jupyter-widgets/controls",
          "model_name": "HBoxModel",
          "model_module_version": "1.5.0",
          "state": {
            "_dom_classes": [],
            "_model_module": "@jupyter-widgets/controls",
            "_model_module_version": "1.5.0",
            "_model_name": "HBoxModel",
            "_view_count": null,
            "_view_module": "@jupyter-widgets/controls",
            "_view_module_version": "1.5.0",
            "_view_name": "HBoxView",
            "box_style": "",
            "children": [
              "IPY_MODEL_9a0311b300a44573a7b42f4791eb0233",
              "IPY_MODEL_fd947e623cd740659d8722c90c1af968",
              "IPY_MODEL_17d49f74e1dc435596a925490c56af34"
            ],
            "layout": "IPY_MODEL_39f1433d20cc40bf92be6e88f1ab3474"
          }
        },
        "9a0311b300a44573a7b42f4791eb0233": {
          "model_module": "@jupyter-widgets/controls",
          "model_name": "HTMLModel",
          "model_module_version": "1.5.0",
          "state": {
            "_dom_classes": [],
            "_model_module": "@jupyter-widgets/controls",
            "_model_module_version": "1.5.0",
            "_model_name": "HTMLModel",
            "_view_count": null,
            "_view_module": "@jupyter-widgets/controls",
            "_view_module_version": "1.5.0",
            "_view_name": "HTMLView",
            "description": "",
            "description_tooltip": null,
            "layout": "IPY_MODEL_5be4f1b486cc4d13937cc04f2a44f0d4",
            "placeholder": "​",
            "style": "IPY_MODEL_fba75b04a4564eb28c4144a13837d26f",
            "value": "config.json: 100%"
          }
        },
        "fd947e623cd740659d8722c90c1af968": {
          "model_module": "@jupyter-widgets/controls",
          "model_name": "FloatProgressModel",
          "model_module_version": "1.5.0",
          "state": {
            "_dom_classes": [],
            "_model_module": "@jupyter-widgets/controls",
            "_model_module_version": "1.5.0",
            "_model_name": "FloatProgressModel",
            "_view_count": null,
            "_view_module": "@jupyter-widgets/controls",
            "_view_module_version": "1.5.0",
            "_view_name": "ProgressView",
            "bar_style": "success",
            "description": "",
            "description_tooltip": null,
            "layout": "IPY_MODEL_20ddf7ac24c84a5e8ea410e56202f8dc",
            "max": 1208,
            "min": 0,
            "orientation": "horizontal",
            "style": "IPY_MODEL_d607cde148244f86826d69b7b14a187b",
            "value": 1208
          }
        },
        "17d49f74e1dc435596a925490c56af34": {
          "model_module": "@jupyter-widgets/controls",
          "model_name": "HTMLModel",
          "model_module_version": "1.5.0",
          "state": {
            "_dom_classes": [],
            "_model_module": "@jupyter-widgets/controls",
            "_model_module_version": "1.5.0",
            "_model_name": "HTMLModel",
            "_view_count": null,
            "_view_module": "@jupyter-widgets/controls",
            "_view_module_version": "1.5.0",
            "_view_name": "HTMLView",
            "description": "",
            "description_tooltip": null,
            "layout": "IPY_MODEL_88d88a5bbc6845c2b24e11f4023160fb",
            "placeholder": "​",
            "style": "IPY_MODEL_6b4cd522450c4e8f8009c1853f8c9160",
            "value": " 1.21k/1.21k [00:00&lt;00:00, 44.5kB/s]"
          }
        },
        "39f1433d20cc40bf92be6e88f1ab3474": {
          "model_module": "@jupyter-widgets/base",
          "model_name": "LayoutModel",
          "model_module_version": "1.2.0",
          "state": {
            "_model_module": "@jupyter-widgets/base",
            "_model_module_version": "1.2.0",
            "_model_name": "LayoutModel",
            "_view_count": null,
            "_view_module": "@jupyter-widgets/base",
            "_view_module_version": "1.2.0",
            "_view_name": "LayoutView",
            "align_content": null,
            "align_items": null,
            "align_self": null,
            "border": null,
            "bottom": null,
            "display": null,
            "flex": null,
            "flex_flow": null,
            "grid_area": null,
            "grid_auto_columns": null,
            "grid_auto_flow": null,
            "grid_auto_rows": null,
            "grid_column": null,
            "grid_gap": null,
            "grid_row": null,
            "grid_template_areas": null,
            "grid_template_columns": null,
            "grid_template_rows": null,
            "height": null,
            "justify_content": null,
            "justify_items": null,
            "left": null,
            "margin": null,
            "max_height": null,
            "max_width": null,
            "min_height": null,
            "min_width": null,
            "object_fit": null,
            "object_position": null,
            "order": null,
            "overflow": null,
            "overflow_x": null,
            "overflow_y": null,
            "padding": null,
            "right": null,
            "top": null,
            "visibility": null,
            "width": null
          }
        },
        "5be4f1b486cc4d13937cc04f2a44f0d4": {
          "model_module": "@jupyter-widgets/base",
          "model_name": "LayoutModel",
          "model_module_version": "1.2.0",
          "state": {
            "_model_module": "@jupyter-widgets/base",
            "_model_module_version": "1.2.0",
            "_model_name": "LayoutModel",
            "_view_count": null,
            "_view_module": "@jupyter-widgets/base",
            "_view_module_version": "1.2.0",
            "_view_name": "LayoutView",
            "align_content": null,
            "align_items": null,
            "align_self": null,
            "border": null,
            "bottom": null,
            "display": null,
            "flex": null,
            "flex_flow": null,
            "grid_area": null,
            "grid_auto_columns": null,
            "grid_auto_flow": null,
            "grid_auto_rows": null,
            "grid_column": null,
            "grid_gap": null,
            "grid_row": null,
            "grid_template_areas": null,
            "grid_template_columns": null,
            "grid_template_rows": null,
            "height": null,
            "justify_content": null,
            "justify_items": null,
            "left": null,
            "margin": null,
            "max_height": null,
            "max_width": null,
            "min_height": null,
            "min_width": null,
            "object_fit": null,
            "object_position": null,
            "order": null,
            "overflow": null,
            "overflow_x": null,
            "overflow_y": null,
            "padding": null,
            "right": null,
            "top": null,
            "visibility": null,
            "width": null
          }
        },
        "fba75b04a4564eb28c4144a13837d26f": {
          "model_module": "@jupyter-widgets/controls",
          "model_name": "DescriptionStyleModel",
          "model_module_version": "1.5.0",
          "state": {
            "_model_module": "@jupyter-widgets/controls",
            "_model_module_version": "1.5.0",
            "_model_name": "DescriptionStyleModel",
            "_view_count": null,
            "_view_module": "@jupyter-widgets/base",
            "_view_module_version": "1.2.0",
            "_view_name": "StyleView",
            "description_width": ""
          }
        },
        "20ddf7ac24c84a5e8ea410e56202f8dc": {
          "model_module": "@jupyter-widgets/base",
          "model_name": "LayoutModel",
          "model_module_version": "1.2.0",
          "state": {
            "_model_module": "@jupyter-widgets/base",
            "_model_module_version": "1.2.0",
            "_model_name": "LayoutModel",
            "_view_count": null,
            "_view_module": "@jupyter-widgets/base",
            "_view_module_version": "1.2.0",
            "_view_name": "LayoutView",
            "align_content": null,
            "align_items": null,
            "align_self": null,
            "border": null,
            "bottom": null,
            "display": null,
            "flex": null,
            "flex_flow": null,
            "grid_area": null,
            "grid_auto_columns": null,
            "grid_auto_flow": null,
            "grid_auto_rows": null,
            "grid_column": null,
            "grid_gap": null,
            "grid_row": null,
            "grid_template_areas": null,
            "grid_template_columns": null,
            "grid_template_rows": null,
            "height": null,
            "justify_content": null,
            "justify_items": null,
            "left": null,
            "margin": null,
            "max_height": null,
            "max_width": null,
            "min_height": null,
            "min_width": null,
            "object_fit": null,
            "object_position": null,
            "order": null,
            "overflow": null,
            "overflow_x": null,
            "overflow_y": null,
            "padding": null,
            "right": null,
            "top": null,
            "visibility": null,
            "width": null
          }
        },
        "d607cde148244f86826d69b7b14a187b": {
          "model_module": "@jupyter-widgets/controls",
          "model_name": "ProgressStyleModel",
          "model_module_version": "1.5.0",
          "state": {
            "_model_module": "@jupyter-widgets/controls",
            "_model_module_version": "1.5.0",
            "_model_name": "ProgressStyleModel",
            "_view_count": null,
            "_view_module": "@jupyter-widgets/base",
            "_view_module_version": "1.2.0",
            "_view_name": "StyleView",
            "bar_color": null,
            "description_width": ""
          }
        },
        "88d88a5bbc6845c2b24e11f4023160fb": {
          "model_module": "@jupyter-widgets/base",
          "model_name": "LayoutModel",
          "model_module_version": "1.2.0",
          "state": {
            "_model_module": "@jupyter-widgets/base",
            "_model_module_version": "1.2.0",
            "_model_name": "LayoutModel",
            "_view_count": null,
            "_view_module": "@jupyter-widgets/base",
            "_view_module_version": "1.2.0",
            "_view_name": "LayoutView",
            "align_content": null,
            "align_items": null,
            "align_self": null,
            "border": null,
            "bottom": null,
            "display": null,
            "flex": null,
            "flex_flow": null,
            "grid_area": null,
            "grid_auto_columns": null,
            "grid_auto_flow": null,
            "grid_auto_rows": null,
            "grid_column": null,
            "grid_gap": null,
            "grid_row": null,
            "grid_template_areas": null,
            "grid_template_columns": null,
            "grid_template_rows": null,
            "height": null,
            "justify_content": null,
            "justify_items": null,
            "left": null,
            "margin": null,
            "max_height": null,
            "max_width": null,
            "min_height": null,
            "min_width": null,
            "object_fit": null,
            "object_position": null,
            "order": null,
            "overflow": null,
            "overflow_x": null,
            "overflow_y": null,
            "padding": null,
            "right": null,
            "top": null,
            "visibility": null,
            "width": null
          }
        },
        "6b4cd522450c4e8f8009c1853f8c9160": {
          "model_module": "@jupyter-widgets/controls",
          "model_name": "DescriptionStyleModel",
          "model_module_version": "1.5.0",
          "state": {
            "_model_module": "@jupyter-widgets/controls",
            "_model_module_version": "1.5.0",
            "_model_name": "DescriptionStyleModel",
            "_view_count": null,
            "_view_module": "@jupyter-widgets/base",
            "_view_module_version": "1.2.0",
            "_view_name": "StyleView",
            "description_width": ""
          }
        },
        "98c37597389f40008a9c8cd5dd97bd46": {
          "model_module": "@jupyter-widgets/controls",
          "model_name": "HBoxModel",
          "model_module_version": "1.5.0",
          "state": {
            "_dom_classes": [],
            "_model_module": "@jupyter-widgets/controls",
            "_model_module_version": "1.5.0",
            "_model_name": "HBoxModel",
            "_view_count": null,
            "_view_module": "@jupyter-widgets/controls",
            "_view_module_version": "1.5.0",
            "_view_name": "HBoxView",
            "box_style": "",
            "children": [
              "IPY_MODEL_2ab4872474ca49d9befba376717302d1",
              "IPY_MODEL_fe26b059f598443aaa0eccce391d8a3f",
              "IPY_MODEL_b69017500e054595ac6e440e6b3721eb"
            ],
            "layout": "IPY_MODEL_b34ef22fd54440c5a894b67c59f5fc42"
          }
        },
        "2ab4872474ca49d9befba376717302d1": {
          "model_module": "@jupyter-widgets/controls",
          "model_name": "HTMLModel",
          "model_module_version": "1.5.0",
          "state": {
            "_dom_classes": [],
            "_model_module": "@jupyter-widgets/controls",
            "_model_module_version": "1.5.0",
            "_model_name": "HTMLModel",
            "_view_count": null,
            "_view_module": "@jupyter-widgets/controls",
            "_view_module_version": "1.5.0",
            "_view_name": "HTMLView",
            "description": "",
            "description_tooltip": null,
            "layout": "IPY_MODEL_c681080c3efa407db166c036500cef51",
            "placeholder": "​",
            "style": "IPY_MODEL_ca56bab271a54c16a67f61486c8eb660",
            "value": "model.safetensors: 100%"
          }
        },
        "fe26b059f598443aaa0eccce391d8a3f": {
          "model_module": "@jupyter-widgets/controls",
          "model_name": "FloatProgressModel",
          "model_module_version": "1.5.0",
          "state": {
            "_dom_classes": [],
            "_model_module": "@jupyter-widgets/controls",
            "_model_module_version": "1.5.0",
            "_model_name": "FloatProgressModel",
            "_view_count": null,
            "_view_module": "@jupyter-widgets/controls",
            "_view_module_version": "1.5.0",
            "_view_name": "ProgressView",
            "bar_style": "success",
            "description": "",
            "description_tooltip": null,
            "layout": "IPY_MODEL_d83f1ba82865400e8e71217056ee2001",
            "max": 891646390,
            "min": 0,
            "orientation": "horizontal",
            "style": "IPY_MODEL_9974a06efadf4b5394c36e0f19ed78be",
            "value": 891646390
          }
        },
        "b69017500e054595ac6e440e6b3721eb": {
          "model_module": "@jupyter-widgets/controls",
          "model_name": "HTMLModel",
          "model_module_version": "1.5.0",
          "state": {
            "_dom_classes": [],
            "_model_module": "@jupyter-widgets/controls",
            "_model_module_version": "1.5.0",
            "_model_name": "HTMLModel",
            "_view_count": null,
            "_view_module": "@jupyter-widgets/controls",
            "_view_module_version": "1.5.0",
            "_view_name": "HTMLView",
            "description": "",
            "description_tooltip": null,
            "layout": "IPY_MODEL_e55a0f60e11343849df45759fbf8540d",
            "placeholder": "​",
            "style": "IPY_MODEL_3a34240a9c0943b9a0e34ec05a155ff4",
            "value": " 892M/892M [00:07&lt;00:00, 128MB/s]"
          }
        },
        "b34ef22fd54440c5a894b67c59f5fc42": {
          "model_module": "@jupyter-widgets/base",
          "model_name": "LayoutModel",
          "model_module_version": "1.2.0",
          "state": {
            "_model_module": "@jupyter-widgets/base",
            "_model_module_version": "1.2.0",
            "_model_name": "LayoutModel",
            "_view_count": null,
            "_view_module": "@jupyter-widgets/base",
            "_view_module_version": "1.2.0",
            "_view_name": "LayoutView",
            "align_content": null,
            "align_items": null,
            "align_self": null,
            "border": null,
            "bottom": null,
            "display": null,
            "flex": null,
            "flex_flow": null,
            "grid_area": null,
            "grid_auto_columns": null,
            "grid_auto_flow": null,
            "grid_auto_rows": null,
            "grid_column": null,
            "grid_gap": null,
            "grid_row": null,
            "grid_template_areas": null,
            "grid_template_columns": null,
            "grid_template_rows": null,
            "height": null,
            "justify_content": null,
            "justify_items": null,
            "left": null,
            "margin": null,
            "max_height": null,
            "max_width": null,
            "min_height": null,
            "min_width": null,
            "object_fit": null,
            "object_position": null,
            "order": null,
            "overflow": null,
            "overflow_x": null,
            "overflow_y": null,
            "padding": null,
            "right": null,
            "top": null,
            "visibility": null,
            "width": null
          }
        },
        "c681080c3efa407db166c036500cef51": {
          "model_module": "@jupyter-widgets/base",
          "model_name": "LayoutModel",
          "model_module_version": "1.2.0",
          "state": {
            "_model_module": "@jupyter-widgets/base",
            "_model_module_version": "1.2.0",
            "_model_name": "LayoutModel",
            "_view_count": null,
            "_view_module": "@jupyter-widgets/base",
            "_view_module_version": "1.2.0",
            "_view_name": "LayoutView",
            "align_content": null,
            "align_items": null,
            "align_self": null,
            "border": null,
            "bottom": null,
            "display": null,
            "flex": null,
            "flex_flow": null,
            "grid_area": null,
            "grid_auto_columns": null,
            "grid_auto_flow": null,
            "grid_auto_rows": null,
            "grid_column": null,
            "grid_gap": null,
            "grid_row": null,
            "grid_template_areas": null,
            "grid_template_columns": null,
            "grid_template_rows": null,
            "height": null,
            "justify_content": null,
            "justify_items": null,
            "left": null,
            "margin": null,
            "max_height": null,
            "max_width": null,
            "min_height": null,
            "min_width": null,
            "object_fit": null,
            "object_position": null,
            "order": null,
            "overflow": null,
            "overflow_x": null,
            "overflow_y": null,
            "padding": null,
            "right": null,
            "top": null,
            "visibility": null,
            "width": null
          }
        },
        "ca56bab271a54c16a67f61486c8eb660": {
          "model_module": "@jupyter-widgets/controls",
          "model_name": "DescriptionStyleModel",
          "model_module_version": "1.5.0",
          "state": {
            "_model_module": "@jupyter-widgets/controls",
            "_model_module_version": "1.5.0",
            "_model_name": "DescriptionStyleModel",
            "_view_count": null,
            "_view_module": "@jupyter-widgets/base",
            "_view_module_version": "1.2.0",
            "_view_name": "StyleView",
            "description_width": ""
          }
        },
        "d83f1ba82865400e8e71217056ee2001": {
          "model_module": "@jupyter-widgets/base",
          "model_name": "LayoutModel",
          "model_module_version": "1.2.0",
          "state": {
            "_model_module": "@jupyter-widgets/base",
            "_model_module_version": "1.2.0",
            "_model_name": "LayoutModel",
            "_view_count": null,
            "_view_module": "@jupyter-widgets/base",
            "_view_module_version": "1.2.0",
            "_view_name": "LayoutView",
            "align_content": null,
            "align_items": null,
            "align_self": null,
            "border": null,
            "bottom": null,
            "display": null,
            "flex": null,
            "flex_flow": null,
            "grid_area": null,
            "grid_auto_columns": null,
            "grid_auto_flow": null,
            "grid_auto_rows": null,
            "grid_column": null,
            "grid_gap": null,
            "grid_row": null,
            "grid_template_areas": null,
            "grid_template_columns": null,
            "grid_template_rows": null,
            "height": null,
            "justify_content": null,
            "justify_items": null,
            "left": null,
            "margin": null,
            "max_height": null,
            "max_width": null,
            "min_height": null,
            "min_width": null,
            "object_fit": null,
            "object_position": null,
            "order": null,
            "overflow": null,
            "overflow_x": null,
            "overflow_y": null,
            "padding": null,
            "right": null,
            "top": null,
            "visibility": null,
            "width": null
          }
        },
        "9974a06efadf4b5394c36e0f19ed78be": {
          "model_module": "@jupyter-widgets/controls",
          "model_name": "ProgressStyleModel",
          "model_module_version": "1.5.0",
          "state": {
            "_model_module": "@jupyter-widgets/controls",
            "_model_module_version": "1.5.0",
            "_model_name": "ProgressStyleModel",
            "_view_count": null,
            "_view_module": "@jupyter-widgets/base",
            "_view_module_version": "1.2.0",
            "_view_name": "StyleView",
            "bar_color": null,
            "description_width": ""
          }
        },
        "e55a0f60e11343849df45759fbf8540d": {
          "model_module": "@jupyter-widgets/base",
          "model_name": "LayoutModel",
          "model_module_version": "1.2.0",
          "state": {
            "_model_module": "@jupyter-widgets/base",
            "_model_module_version": "1.2.0",
            "_model_name": "LayoutModel",
            "_view_count": null,
            "_view_module": "@jupyter-widgets/base",
            "_view_module_version": "1.2.0",
            "_view_name": "LayoutView",
            "align_content": null,
            "align_items": null,
            "align_self": null,
            "border": null,
            "bottom": null,
            "display": null,
            "flex": null,
            "flex_flow": null,
            "grid_area": null,
            "grid_auto_columns": null,
            "grid_auto_flow": null,
            "grid_auto_rows": null,
            "grid_column": null,
            "grid_gap": null,
            "grid_row": null,
            "grid_template_areas": null,
            "grid_template_columns": null,
            "grid_template_rows": null,
            "height": null,
            "justify_content": null,
            "justify_items": null,
            "left": null,
            "margin": null,
            "max_height": null,
            "max_width": null,
            "min_height": null,
            "min_width": null,
            "object_fit": null,
            "object_position": null,
            "order": null,
            "overflow": null,
            "overflow_x": null,
            "overflow_y": null,
            "padding": null,
            "right": null,
            "top": null,
            "visibility": null,
            "width": null
          }
        },
        "3a34240a9c0943b9a0e34ec05a155ff4": {
          "model_module": "@jupyter-widgets/controls",
          "model_name": "DescriptionStyleModel",
          "model_module_version": "1.5.0",
          "state": {
            "_model_module": "@jupyter-widgets/controls",
            "_model_module_version": "1.5.0",
            "_model_name": "DescriptionStyleModel",
            "_view_count": null,
            "_view_module": "@jupyter-widgets/base",
            "_view_module_version": "1.2.0",
            "_view_name": "StyleView",
            "description_width": ""
          }
        },
        "466d242cff9b4e97aafd68e527d2a820": {
          "model_module": "@jupyter-widgets/controls",
          "model_name": "HBoxModel",
          "model_module_version": "1.5.0",
          "state": {
            "_dom_classes": [],
            "_model_module": "@jupyter-widgets/controls",
            "_model_module_version": "1.5.0",
            "_model_name": "HBoxModel",
            "_view_count": null,
            "_view_module": "@jupyter-widgets/controls",
            "_view_module_version": "1.5.0",
            "_view_name": "HBoxView",
            "box_style": "",
            "children": [
              "IPY_MODEL_af931b3628304d6d95d923588fe72794",
              "IPY_MODEL_6930d965bcc54d0ba7b995a7e2d63171",
              "IPY_MODEL_c53ffa1bb4e34689bd5c5b98505936a4"
            ],
            "layout": "IPY_MODEL_9a24817885434457b3d57a6a35ac6970"
          }
        },
        "af931b3628304d6d95d923588fe72794": {
          "model_module": "@jupyter-widgets/controls",
          "model_name": "HTMLModel",
          "model_module_version": "1.5.0",
          "state": {
            "_dom_classes": [],
            "_model_module": "@jupyter-widgets/controls",
            "_model_module_version": "1.5.0",
            "_model_name": "HTMLModel",
            "_view_count": null,
            "_view_module": "@jupyter-widgets/controls",
            "_view_module_version": "1.5.0",
            "_view_name": "HTMLView",
            "description": "",
            "description_tooltip": null,
            "layout": "IPY_MODEL_1f55d2c61c4043ef95fe3b8cd69108ad",
            "placeholder": "​",
            "style": "IPY_MODEL_8a7c8ee61480487d97ff27a6142df56b",
            "value": "generation_config.json: 100%"
          }
        },
        "6930d965bcc54d0ba7b995a7e2d63171": {
          "model_module": "@jupyter-widgets/controls",
          "model_name": "FloatProgressModel",
          "model_module_version": "1.5.0",
          "state": {
            "_dom_classes": [],
            "_model_module": "@jupyter-widgets/controls",
            "_model_module_version": "1.5.0",
            "_model_name": "FloatProgressModel",
            "_view_count": null,
            "_view_module": "@jupyter-widgets/controls",
            "_view_module_version": "1.5.0",
            "_view_name": "ProgressView",
            "bar_style": "success",
            "description": "",
            "description_tooltip": null,
            "layout": "IPY_MODEL_35b40f06f1504edfb8257f9f091f9075",
            "max": 147,
            "min": 0,
            "orientation": "horizontal",
            "style": "IPY_MODEL_d43bbc0f6f7141ea8ba56bfdcf0c8f25",
            "value": 147
          }
        },
        "c53ffa1bb4e34689bd5c5b98505936a4": {
          "model_module": "@jupyter-widgets/controls",
          "model_name": "HTMLModel",
          "model_module_version": "1.5.0",
          "state": {
            "_dom_classes": [],
            "_model_module": "@jupyter-widgets/controls",
            "_model_module_version": "1.5.0",
            "_model_name": "HTMLModel",
            "_view_count": null,
            "_view_module": "@jupyter-widgets/controls",
            "_view_module_version": "1.5.0",
            "_view_name": "HTMLView",
            "description": "",
            "description_tooltip": null,
            "layout": "IPY_MODEL_e88d6392b8f042189d0bc3fc22c10a36",
            "placeholder": "​",
            "style": "IPY_MODEL_9b933716bbbd47b3808bcd0f2885e644",
            "value": " 147/147 [00:00&lt;00:00, 3.25kB/s]"
          }
        },
        "9a24817885434457b3d57a6a35ac6970": {
          "model_module": "@jupyter-widgets/base",
          "model_name": "LayoutModel",
          "model_module_version": "1.2.0",
          "state": {
            "_model_module": "@jupyter-widgets/base",
            "_model_module_version": "1.2.0",
            "_model_name": "LayoutModel",
            "_view_count": null,
            "_view_module": "@jupyter-widgets/base",
            "_view_module_version": "1.2.0",
            "_view_name": "LayoutView",
            "align_content": null,
            "align_items": null,
            "align_self": null,
            "border": null,
            "bottom": null,
            "display": null,
            "flex": null,
            "flex_flow": null,
            "grid_area": null,
            "grid_auto_columns": null,
            "grid_auto_flow": null,
            "grid_auto_rows": null,
            "grid_column": null,
            "grid_gap": null,
            "grid_row": null,
            "grid_template_areas": null,
            "grid_template_columns": null,
            "grid_template_rows": null,
            "height": null,
            "justify_content": null,
            "justify_items": null,
            "left": null,
            "margin": null,
            "max_height": null,
            "max_width": null,
            "min_height": null,
            "min_width": null,
            "object_fit": null,
            "object_position": null,
            "order": null,
            "overflow": null,
            "overflow_x": null,
            "overflow_y": null,
            "padding": null,
            "right": null,
            "top": null,
            "visibility": null,
            "width": null
          }
        },
        "1f55d2c61c4043ef95fe3b8cd69108ad": {
          "model_module": "@jupyter-widgets/base",
          "model_name": "LayoutModel",
          "model_module_version": "1.2.0",
          "state": {
            "_model_module": "@jupyter-widgets/base",
            "_model_module_version": "1.2.0",
            "_model_name": "LayoutModel",
            "_view_count": null,
            "_view_module": "@jupyter-widgets/base",
            "_view_module_version": "1.2.0",
            "_view_name": "LayoutView",
            "align_content": null,
            "align_items": null,
            "align_self": null,
            "border": null,
            "bottom": null,
            "display": null,
            "flex": null,
            "flex_flow": null,
            "grid_area": null,
            "grid_auto_columns": null,
            "grid_auto_flow": null,
            "grid_auto_rows": null,
            "grid_column": null,
            "grid_gap": null,
            "grid_row": null,
            "grid_template_areas": null,
            "grid_template_columns": null,
            "grid_template_rows": null,
            "height": null,
            "justify_content": null,
            "justify_items": null,
            "left": null,
            "margin": null,
            "max_height": null,
            "max_width": null,
            "min_height": null,
            "min_width": null,
            "object_fit": null,
            "object_position": null,
            "order": null,
            "overflow": null,
            "overflow_x": null,
            "overflow_y": null,
            "padding": null,
            "right": null,
            "top": null,
            "visibility": null,
            "width": null
          }
        },
        "8a7c8ee61480487d97ff27a6142df56b": {
          "model_module": "@jupyter-widgets/controls",
          "model_name": "DescriptionStyleModel",
          "model_module_version": "1.5.0",
          "state": {
            "_model_module": "@jupyter-widgets/controls",
            "_model_module_version": "1.5.0",
            "_model_name": "DescriptionStyleModel",
            "_view_count": null,
            "_view_module": "@jupyter-widgets/base",
            "_view_module_version": "1.2.0",
            "_view_name": "StyleView",
            "description_width": ""
          }
        },
        "35b40f06f1504edfb8257f9f091f9075": {
          "model_module": "@jupyter-widgets/base",
          "model_name": "LayoutModel",
          "model_module_version": "1.2.0",
          "state": {
            "_model_module": "@jupyter-widgets/base",
            "_model_module_version": "1.2.0",
            "_model_name": "LayoutModel",
            "_view_count": null,
            "_view_module": "@jupyter-widgets/base",
            "_view_module_version": "1.2.0",
            "_view_name": "LayoutView",
            "align_content": null,
            "align_items": null,
            "align_self": null,
            "border": null,
            "bottom": null,
            "display": null,
            "flex": null,
            "flex_flow": null,
            "grid_area": null,
            "grid_auto_columns": null,
            "grid_auto_flow": null,
            "grid_auto_rows": null,
            "grid_column": null,
            "grid_gap": null,
            "grid_row": null,
            "grid_template_areas": null,
            "grid_template_columns": null,
            "grid_template_rows": null,
            "height": null,
            "justify_content": null,
            "justify_items": null,
            "left": null,
            "margin": null,
            "max_height": null,
            "max_width": null,
            "min_height": null,
            "min_width": null,
            "object_fit": null,
            "object_position": null,
            "order": null,
            "overflow": null,
            "overflow_x": null,
            "overflow_y": null,
            "padding": null,
            "right": null,
            "top": null,
            "visibility": null,
            "width": null
          }
        },
        "d43bbc0f6f7141ea8ba56bfdcf0c8f25": {
          "model_module": "@jupyter-widgets/controls",
          "model_name": "ProgressStyleModel",
          "model_module_version": "1.5.0",
          "state": {
            "_model_module": "@jupyter-widgets/controls",
            "_model_module_version": "1.5.0",
            "_model_name": "ProgressStyleModel",
            "_view_count": null,
            "_view_module": "@jupyter-widgets/base",
            "_view_module_version": "1.2.0",
            "_view_name": "StyleView",
            "bar_color": null,
            "description_width": ""
          }
        },
        "e88d6392b8f042189d0bc3fc22c10a36": {
          "model_module": "@jupyter-widgets/base",
          "model_name": "LayoutModel",
          "model_module_version": "1.2.0",
          "state": {
            "_model_module": "@jupyter-widgets/base",
            "_model_module_version": "1.2.0",
            "_model_name": "LayoutModel",
            "_view_count": null,
            "_view_module": "@jupyter-widgets/base",
            "_view_module_version": "1.2.0",
            "_view_name": "LayoutView",
            "align_content": null,
            "align_items": null,
            "align_self": null,
            "border": null,
            "bottom": null,
            "display": null,
            "flex": null,
            "flex_flow": null,
            "grid_area": null,
            "grid_auto_columns": null,
            "grid_auto_flow": null,
            "grid_auto_rows": null,
            "grid_column": null,
            "grid_gap": null,
            "grid_row": null,
            "grid_template_areas": null,
            "grid_template_columns": null,
            "grid_template_rows": null,
            "height": null,
            "justify_content": null,
            "justify_items": null,
            "left": null,
            "margin": null,
            "max_height": null,
            "max_width": null,
            "min_height": null,
            "min_width": null,
            "object_fit": null,
            "object_position": null,
            "order": null,
            "overflow": null,
            "overflow_x": null,
            "overflow_y": null,
            "padding": null,
            "right": null,
            "top": null,
            "visibility": null,
            "width": null
          }
        },
        "9b933716bbbd47b3808bcd0f2885e644": {
          "model_module": "@jupyter-widgets/controls",
          "model_name": "DescriptionStyleModel",
          "model_module_version": "1.5.0",
          "state": {
            "_model_module": "@jupyter-widgets/controls",
            "_model_module_version": "1.5.0",
            "_model_name": "DescriptionStyleModel",
            "_view_count": null,
            "_view_module": "@jupyter-widgets/base",
            "_view_module_version": "1.2.0",
            "_view_name": "StyleView",
            "description_width": ""
          }
        },
        "86e1febf3b2d45c7beb88fa8a73123f9": {
          "model_module": "@jupyter-widgets/controls",
          "model_name": "HBoxModel",
          "model_module_version": "1.5.0",
          "state": {
            "_dom_classes": [],
            "_model_module": "@jupyter-widgets/controls",
            "_model_module_version": "1.5.0",
            "_model_name": "HBoxModel",
            "_view_count": null,
            "_view_module": "@jupyter-widgets/controls",
            "_view_module_version": "1.5.0",
            "_view_name": "HBoxView",
            "box_style": "",
            "children": [
              "IPY_MODEL_ea34749072e14e27bbc2782f9bc77e3d",
              "IPY_MODEL_bf741df91b2b4c4e83db65af4db8ace1",
              "IPY_MODEL_ae1e4ec5330b4515a7d79c70814676c9"
            ],
            "layout": "IPY_MODEL_2869647f3ab9440d86052167be386cff"
          }
        },
        "ea34749072e14e27bbc2782f9bc77e3d": {
          "model_module": "@jupyter-widgets/controls",
          "model_name": "HTMLModel",
          "model_module_version": "1.5.0",
          "state": {
            "_dom_classes": [],
            "_model_module": "@jupyter-widgets/controls",
            "_model_module_version": "1.5.0",
            "_model_name": "HTMLModel",
            "_view_count": null,
            "_view_module": "@jupyter-widgets/controls",
            "_view_module_version": "1.5.0",
            "_view_name": "HTMLView",
            "description": "",
            "description_tooltip": null,
            "layout": "IPY_MODEL_3670d5304a2f494cbd09af5fd6852106",
            "placeholder": "​",
            "style": "IPY_MODEL_a75b765d345149449013196a38c1385a",
            "value": "Map (num_proc=4): 100%"
          }
        },
        "bf741df91b2b4c4e83db65af4db8ace1": {
          "model_module": "@jupyter-widgets/controls",
          "model_name": "FloatProgressModel",
          "model_module_version": "1.5.0",
          "state": {
            "_dom_classes": [],
            "_model_module": "@jupyter-widgets/controls",
            "_model_module_version": "1.5.0",
            "_model_name": "FloatProgressModel",
            "_view_count": null,
            "_view_module": "@jupyter-widgets/controls",
            "_view_module_version": "1.5.0",
            "_view_name": "ProgressView",
            "bar_style": "success",
            "description": "",
            "description_tooltip": null,
            "layout": "IPY_MODEL_a1a02628af3e478dbd8a7bd218ba094e",
            "max": 1779,
            "min": 0,
            "orientation": "horizontal",
            "style": "IPY_MODEL_db4bc786d4374766879392ec31024a47",
            "value": 1779
          }
        },
        "ae1e4ec5330b4515a7d79c70814676c9": {
          "model_module": "@jupyter-widgets/controls",
          "model_name": "HTMLModel",
          "model_module_version": "1.5.0",
          "state": {
            "_dom_classes": [],
            "_model_module": "@jupyter-widgets/controls",
            "_model_module_version": "1.5.0",
            "_model_name": "HTMLModel",
            "_view_count": null,
            "_view_module": "@jupyter-widgets/controls",
            "_view_module_version": "1.5.0",
            "_view_name": "HTMLView",
            "description": "",
            "description_tooltip": null,
            "layout": "IPY_MODEL_bb319893377f49a8bdb2d892be672982",
            "placeholder": "​",
            "style": "IPY_MODEL_dbeb0f62179145d09d65a9d740c3d50c",
            "value": " 1779/1779 [00:11&lt;00:00, 147.55 examples/s]"
          }
        },
        "2869647f3ab9440d86052167be386cff": {
          "model_module": "@jupyter-widgets/base",
          "model_name": "LayoutModel",
          "model_module_version": "1.2.0",
          "state": {
            "_model_module": "@jupyter-widgets/base",
            "_model_module_version": "1.2.0",
            "_model_name": "LayoutModel",
            "_view_count": null,
            "_view_module": "@jupyter-widgets/base",
            "_view_module_version": "1.2.0",
            "_view_name": "LayoutView",
            "align_content": null,
            "align_items": null,
            "align_self": null,
            "border": null,
            "bottom": null,
            "display": null,
            "flex": null,
            "flex_flow": null,
            "grid_area": null,
            "grid_auto_columns": null,
            "grid_auto_flow": null,
            "grid_auto_rows": null,
            "grid_column": null,
            "grid_gap": null,
            "grid_row": null,
            "grid_template_areas": null,
            "grid_template_columns": null,
            "grid_template_rows": null,
            "height": null,
            "justify_content": null,
            "justify_items": null,
            "left": null,
            "margin": null,
            "max_height": null,
            "max_width": null,
            "min_height": null,
            "min_width": null,
            "object_fit": null,
            "object_position": null,
            "order": null,
            "overflow": null,
            "overflow_x": null,
            "overflow_y": null,
            "padding": null,
            "right": null,
            "top": null,
            "visibility": null,
            "width": null
          }
        },
        "3670d5304a2f494cbd09af5fd6852106": {
          "model_module": "@jupyter-widgets/base",
          "model_name": "LayoutModel",
          "model_module_version": "1.2.0",
          "state": {
            "_model_module": "@jupyter-widgets/base",
            "_model_module_version": "1.2.0",
            "_model_name": "LayoutModel",
            "_view_count": null,
            "_view_module": "@jupyter-widgets/base",
            "_view_module_version": "1.2.0",
            "_view_name": "LayoutView",
            "align_content": null,
            "align_items": null,
            "align_self": null,
            "border": null,
            "bottom": null,
            "display": null,
            "flex": null,
            "flex_flow": null,
            "grid_area": null,
            "grid_auto_columns": null,
            "grid_auto_flow": null,
            "grid_auto_rows": null,
            "grid_column": null,
            "grid_gap": null,
            "grid_row": null,
            "grid_template_areas": null,
            "grid_template_columns": null,
            "grid_template_rows": null,
            "height": null,
            "justify_content": null,
            "justify_items": null,
            "left": null,
            "margin": null,
            "max_height": null,
            "max_width": null,
            "min_height": null,
            "min_width": null,
            "object_fit": null,
            "object_position": null,
            "order": null,
            "overflow": null,
            "overflow_x": null,
            "overflow_y": null,
            "padding": null,
            "right": null,
            "top": null,
            "visibility": null,
            "width": null
          }
        },
        "a75b765d345149449013196a38c1385a": {
          "model_module": "@jupyter-widgets/controls",
          "model_name": "DescriptionStyleModel",
          "model_module_version": "1.5.0",
          "state": {
            "_model_module": "@jupyter-widgets/controls",
            "_model_module_version": "1.5.0",
            "_model_name": "DescriptionStyleModel",
            "_view_count": null,
            "_view_module": "@jupyter-widgets/base",
            "_view_module_version": "1.2.0",
            "_view_name": "StyleView",
            "description_width": ""
          }
        },
        "a1a02628af3e478dbd8a7bd218ba094e": {
          "model_module": "@jupyter-widgets/base",
          "model_name": "LayoutModel",
          "model_module_version": "1.2.0",
          "state": {
            "_model_module": "@jupyter-widgets/base",
            "_model_module_version": "1.2.0",
            "_model_name": "LayoutModel",
            "_view_count": null,
            "_view_module": "@jupyter-widgets/base",
            "_view_module_version": "1.2.0",
            "_view_name": "LayoutView",
            "align_content": null,
            "align_items": null,
            "align_self": null,
            "border": null,
            "bottom": null,
            "display": null,
            "flex": null,
            "flex_flow": null,
            "grid_area": null,
            "grid_auto_columns": null,
            "grid_auto_flow": null,
            "grid_auto_rows": null,
            "grid_column": null,
            "grid_gap": null,
            "grid_row": null,
            "grid_template_areas": null,
            "grid_template_columns": null,
            "grid_template_rows": null,
            "height": null,
            "justify_content": null,
            "justify_items": null,
            "left": null,
            "margin": null,
            "max_height": null,
            "max_width": null,
            "min_height": null,
            "min_width": null,
            "object_fit": null,
            "object_position": null,
            "order": null,
            "overflow": null,
            "overflow_x": null,
            "overflow_y": null,
            "padding": null,
            "right": null,
            "top": null,
            "visibility": null,
            "width": null
          }
        },
        "db4bc786d4374766879392ec31024a47": {
          "model_module": "@jupyter-widgets/controls",
          "model_name": "ProgressStyleModel",
          "model_module_version": "1.5.0",
          "state": {
            "_model_module": "@jupyter-widgets/controls",
            "_model_module_version": "1.5.0",
            "_model_name": "ProgressStyleModel",
            "_view_count": null,
            "_view_module": "@jupyter-widgets/base",
            "_view_module_version": "1.2.0",
            "_view_name": "StyleView",
            "bar_color": null,
            "description_width": ""
          }
        },
        "bb319893377f49a8bdb2d892be672982": {
          "model_module": "@jupyter-widgets/base",
          "model_name": "LayoutModel",
          "model_module_version": "1.2.0",
          "state": {
            "_model_module": "@jupyter-widgets/base",
            "_model_module_version": "1.2.0",
            "_model_name": "LayoutModel",
            "_view_count": null,
            "_view_module": "@jupyter-widgets/base",
            "_view_module_version": "1.2.0",
            "_view_name": "LayoutView",
            "align_content": null,
            "align_items": null,
            "align_self": null,
            "border": null,
            "bottom": null,
            "display": null,
            "flex": null,
            "flex_flow": null,
            "grid_area": null,
            "grid_auto_columns": null,
            "grid_auto_flow": null,
            "grid_auto_rows": null,
            "grid_column": null,
            "grid_gap": null,
            "grid_row": null,
            "grid_template_areas": null,
            "grid_template_columns": null,
            "grid_template_rows": null,
            "height": null,
            "justify_content": null,
            "justify_items": null,
            "left": null,
            "margin": null,
            "max_height": null,
            "max_width": null,
            "min_height": null,
            "min_width": null,
            "object_fit": null,
            "object_position": null,
            "order": null,
            "overflow": null,
            "overflow_x": null,
            "overflow_y": null,
            "padding": null,
            "right": null,
            "top": null,
            "visibility": null,
            "width": null
          }
        },
        "dbeb0f62179145d09d65a9d740c3d50c": {
          "model_module": "@jupyter-widgets/controls",
          "model_name": "DescriptionStyleModel",
          "model_module_version": "1.5.0",
          "state": {
            "_model_module": "@jupyter-widgets/controls",
            "_model_module_version": "1.5.0",
            "_model_name": "DescriptionStyleModel",
            "_view_count": null,
            "_view_module": "@jupyter-widgets/base",
            "_view_module_version": "1.2.0",
            "_view_name": "StyleView",
            "description_width": ""
          }
        },
        "3c373e9b2e4d49308d9c852d3e2c13df": {
          "model_module": "@jupyter-widgets/controls",
          "model_name": "HBoxModel",
          "model_module_version": "1.5.0",
          "state": {
            "_dom_classes": [],
            "_model_module": "@jupyter-widgets/controls",
            "_model_module_version": "1.5.0",
            "_model_name": "HBoxModel",
            "_view_count": null,
            "_view_module": "@jupyter-widgets/controls",
            "_view_module_version": "1.5.0",
            "_view_name": "HBoxView",
            "box_style": "",
            "children": [
              "IPY_MODEL_95ee5aaa93a343e4911ca2fcc73b22d6",
              "IPY_MODEL_cce35e3e396d4e048a585591a87312e6",
              "IPY_MODEL_afcb5eed4b584e39ad57dd1a8ce58dcc"
            ],
            "layout": "IPY_MODEL_b90cfabf10d24484a99e86d94b230219"
          }
        },
        "95ee5aaa93a343e4911ca2fcc73b22d6": {
          "model_module": "@jupyter-widgets/controls",
          "model_name": "HTMLModel",
          "model_module_version": "1.5.0",
          "state": {
            "_dom_classes": [],
            "_model_module": "@jupyter-widgets/controls",
            "_model_module_version": "1.5.0",
            "_model_name": "HTMLModel",
            "_view_count": null,
            "_view_module": "@jupyter-widgets/controls",
            "_view_module_version": "1.5.0",
            "_view_name": "HTMLView",
            "description": "",
            "description_tooltip": null,
            "layout": "IPY_MODEL_6c8776ae574d4437bd5cb14739948056",
            "placeholder": "​",
            "style": "IPY_MODEL_5cb5d6683432470491522a2c36c4e903",
            "value": "Map (num_proc=4): 100%"
          }
        },
        "cce35e3e396d4e048a585591a87312e6": {
          "model_module": "@jupyter-widgets/controls",
          "model_name": "FloatProgressModel",
          "model_module_version": "1.5.0",
          "state": {
            "_dom_classes": [],
            "_model_module": "@jupyter-widgets/controls",
            "_model_module_version": "1.5.0",
            "_model_name": "FloatProgressModel",
            "_view_count": null,
            "_view_module": "@jupyter-widgets/controls",
            "_view_module_version": "1.5.0",
            "_view_name": "ProgressView",
            "bar_style": "success",
            "description": "",
            "description_tooltip": null,
            "layout": "IPY_MODEL_eec4bf377a3248d0ab69b6c3072f90bb",
            "max": 445,
            "min": 0,
            "orientation": "horizontal",
            "style": "IPY_MODEL_4fd4af1c20ab4d0caecce070afd6538f",
            "value": 445
          }
        },
        "afcb5eed4b584e39ad57dd1a8ce58dcc": {
          "model_module": "@jupyter-widgets/controls",
          "model_name": "HTMLModel",
          "model_module_version": "1.5.0",
          "state": {
            "_dom_classes": [],
            "_model_module": "@jupyter-widgets/controls",
            "_model_module_version": "1.5.0",
            "_model_name": "HTMLModel",
            "_view_count": null,
            "_view_module": "@jupyter-widgets/controls",
            "_view_module_version": "1.5.0",
            "_view_name": "HTMLView",
            "description": "",
            "description_tooltip": null,
            "layout": "IPY_MODEL_45e096b85f12478eb49eedc53a972f23",
            "placeholder": "​",
            "style": "IPY_MODEL_692c160eba404505803d0ad8c8151703",
            "value": " 445/445 [00:01&lt;00:00, 346.71 examples/s]"
          }
        },
        "b90cfabf10d24484a99e86d94b230219": {
          "model_module": "@jupyter-widgets/base",
          "model_name": "LayoutModel",
          "model_module_version": "1.2.0",
          "state": {
            "_model_module": "@jupyter-widgets/base",
            "_model_module_version": "1.2.0",
            "_model_name": "LayoutModel",
            "_view_count": null,
            "_view_module": "@jupyter-widgets/base",
            "_view_module_version": "1.2.0",
            "_view_name": "LayoutView",
            "align_content": null,
            "align_items": null,
            "align_self": null,
            "border": null,
            "bottom": null,
            "display": null,
            "flex": null,
            "flex_flow": null,
            "grid_area": null,
            "grid_auto_columns": null,
            "grid_auto_flow": null,
            "grid_auto_rows": null,
            "grid_column": null,
            "grid_gap": null,
            "grid_row": null,
            "grid_template_areas": null,
            "grid_template_columns": null,
            "grid_template_rows": null,
            "height": null,
            "justify_content": null,
            "justify_items": null,
            "left": null,
            "margin": null,
            "max_height": null,
            "max_width": null,
            "min_height": null,
            "min_width": null,
            "object_fit": null,
            "object_position": null,
            "order": null,
            "overflow": null,
            "overflow_x": null,
            "overflow_y": null,
            "padding": null,
            "right": null,
            "top": null,
            "visibility": null,
            "width": null
          }
        },
        "6c8776ae574d4437bd5cb14739948056": {
          "model_module": "@jupyter-widgets/base",
          "model_name": "LayoutModel",
          "model_module_version": "1.2.0",
          "state": {
            "_model_module": "@jupyter-widgets/base",
            "_model_module_version": "1.2.0",
            "_model_name": "LayoutModel",
            "_view_count": null,
            "_view_module": "@jupyter-widgets/base",
            "_view_module_version": "1.2.0",
            "_view_name": "LayoutView",
            "align_content": null,
            "align_items": null,
            "align_self": null,
            "border": null,
            "bottom": null,
            "display": null,
            "flex": null,
            "flex_flow": null,
            "grid_area": null,
            "grid_auto_columns": null,
            "grid_auto_flow": null,
            "grid_auto_rows": null,
            "grid_column": null,
            "grid_gap": null,
            "grid_row": null,
            "grid_template_areas": null,
            "grid_template_columns": null,
            "grid_template_rows": null,
            "height": null,
            "justify_content": null,
            "justify_items": null,
            "left": null,
            "margin": null,
            "max_height": null,
            "max_width": null,
            "min_height": null,
            "min_width": null,
            "object_fit": null,
            "object_position": null,
            "order": null,
            "overflow": null,
            "overflow_x": null,
            "overflow_y": null,
            "padding": null,
            "right": null,
            "top": null,
            "visibility": null,
            "width": null
          }
        },
        "5cb5d6683432470491522a2c36c4e903": {
          "model_module": "@jupyter-widgets/controls",
          "model_name": "DescriptionStyleModel",
          "model_module_version": "1.5.0",
          "state": {
            "_model_module": "@jupyter-widgets/controls",
            "_model_module_version": "1.5.0",
            "_model_name": "DescriptionStyleModel",
            "_view_count": null,
            "_view_module": "@jupyter-widgets/base",
            "_view_module_version": "1.2.0",
            "_view_name": "StyleView",
            "description_width": ""
          }
        },
        "eec4bf377a3248d0ab69b6c3072f90bb": {
          "model_module": "@jupyter-widgets/base",
          "model_name": "LayoutModel",
          "model_module_version": "1.2.0",
          "state": {
            "_model_module": "@jupyter-widgets/base",
            "_model_module_version": "1.2.0",
            "_model_name": "LayoutModel",
            "_view_count": null,
            "_view_module": "@jupyter-widgets/base",
            "_view_module_version": "1.2.0",
            "_view_name": "LayoutView",
            "align_content": null,
            "align_items": null,
            "align_self": null,
            "border": null,
            "bottom": null,
            "display": null,
            "flex": null,
            "flex_flow": null,
            "grid_area": null,
            "grid_auto_columns": null,
            "grid_auto_flow": null,
            "grid_auto_rows": null,
            "grid_column": null,
            "grid_gap": null,
            "grid_row": null,
            "grid_template_areas": null,
            "grid_template_columns": null,
            "grid_template_rows": null,
            "height": null,
            "justify_content": null,
            "justify_items": null,
            "left": null,
            "margin": null,
            "max_height": null,
            "max_width": null,
            "min_height": null,
            "min_width": null,
            "object_fit": null,
            "object_position": null,
            "order": null,
            "overflow": null,
            "overflow_x": null,
            "overflow_y": null,
            "padding": null,
            "right": null,
            "top": null,
            "visibility": null,
            "width": null
          }
        },
        "4fd4af1c20ab4d0caecce070afd6538f": {
          "model_module": "@jupyter-widgets/controls",
          "model_name": "ProgressStyleModel",
          "model_module_version": "1.5.0",
          "state": {
            "_model_module": "@jupyter-widgets/controls",
            "_model_module_version": "1.5.0",
            "_model_name": "ProgressStyleModel",
            "_view_count": null,
            "_view_module": "@jupyter-widgets/base",
            "_view_module_version": "1.2.0",
            "_view_name": "StyleView",
            "bar_color": null,
            "description_width": ""
          }
        },
        "45e096b85f12478eb49eedc53a972f23": {
          "model_module": "@jupyter-widgets/base",
          "model_name": "LayoutModel",
          "model_module_version": "1.2.0",
          "state": {
            "_model_module": "@jupyter-widgets/base",
            "_model_module_version": "1.2.0",
            "_model_name": "LayoutModel",
            "_view_count": null,
            "_view_module": "@jupyter-widgets/base",
            "_view_module_version": "1.2.0",
            "_view_name": "LayoutView",
            "align_content": null,
            "align_items": null,
            "align_self": null,
            "border": null,
            "bottom": null,
            "display": null,
            "flex": null,
            "flex_flow": null,
            "grid_area": null,
            "grid_auto_columns": null,
            "grid_auto_flow": null,
            "grid_auto_rows": null,
            "grid_column": null,
            "grid_gap": null,
            "grid_row": null,
            "grid_template_areas": null,
            "grid_template_columns": null,
            "grid_template_rows": null,
            "height": null,
            "justify_content": null,
            "justify_items": null,
            "left": null,
            "margin": null,
            "max_height": null,
            "max_width": null,
            "min_height": null,
            "min_width": null,
            "object_fit": null,
            "object_position": null,
            "order": null,
            "overflow": null,
            "overflow_x": null,
            "overflow_y": null,
            "padding": null,
            "right": null,
            "top": null,
            "visibility": null,
            "width": null
          }
        },
        "692c160eba404505803d0ad8c8151703": {
          "model_module": "@jupyter-widgets/controls",
          "model_name": "DescriptionStyleModel",
          "model_module_version": "1.5.0",
          "state": {
            "_model_module": "@jupyter-widgets/controls",
            "_model_module_version": "1.5.0",
            "_model_name": "DescriptionStyleModel",
            "_view_count": null,
            "_view_module": "@jupyter-widgets/base",
            "_view_module_version": "1.2.0",
            "_view_name": "StyleView",
            "description_width": ""
          }
        }
      }
    }
  },
  "cells": [
    {
      "cell_type": "markdown",
      "source": [
        "# **Extractive Text Summarization of News Articles using T5-Base Model**\n",
        "## Project Description :\n",
        "#### This project aims to develop an extractive text summarization model for news articles using the T5-Base model. The dataset comprises 417 news articles from various topics, with each article paired with five human-generated summaries. The objective is to create a model that can automatically generate concise summaries from input news articles by identifying and extracting the most important information.\n",
        "\n",
        "#### The T5 (Text-to-Text Transfer Transformer) model is a versatile text-to-text architecture that can be fine-tuned for multiple natural language processing (NLP) tasks, including summarization. In this project, the 't5-base' variant of the model is fine-tuned for extractive summarization of news articles."
      ],
      "metadata": {
        "id": "SdwUUYkX-QLq"
      }
    },
    {
      "cell_type": "markdown",
      "source": [
        "# **Installing Required Libraries**"
      ],
      "metadata": {
        "id": "e7i1E3DHA0su"
      }
    },
    {
      "cell_type": "code",
      "execution_count": 1,
      "metadata": {
        "colab": {
          "base_uri": "https://localhost:8080/"
        },
        "id": "xh4o-Rj0I7BX",
        "outputId": "2bfcf197-1546-4f8a-a220-3263434ec6a3"
      },
      "outputs": [
        {
          "output_type": "stream",
          "name": "stdout",
          "text": [
            "Requirement already satisfied: transformers in /usr/local/lib/python3.10/dist-packages (4.44.2)\n",
            "Requirement already satisfied: filelock in /usr/local/lib/python3.10/dist-packages (from transformers) (3.16.1)\n",
            "Requirement already satisfied: huggingface-hub<1.0,>=0.23.2 in /usr/local/lib/python3.10/dist-packages (from transformers) (0.24.7)\n",
            "Requirement already satisfied: numpy>=1.17 in /usr/local/lib/python3.10/dist-packages (from transformers) (1.26.4)\n",
            "Requirement already satisfied: packaging>=20.0 in /usr/local/lib/python3.10/dist-packages (from transformers) (24.1)\n",
            "Requirement already satisfied: pyyaml>=5.1 in /usr/local/lib/python3.10/dist-packages (from transformers) (6.0.2)\n",
            "Requirement already satisfied: regex!=2019.12.17 in /usr/local/lib/python3.10/dist-packages (from transformers) (2024.9.11)\n",
            "Requirement already satisfied: requests in /usr/local/lib/python3.10/dist-packages (from transformers) (2.32.3)\n",
            "Requirement already satisfied: safetensors>=0.4.1 in /usr/local/lib/python3.10/dist-packages (from transformers) (0.4.5)\n",
            "Requirement already satisfied: tokenizers<0.20,>=0.19 in /usr/local/lib/python3.10/dist-packages (from transformers) (0.19.1)\n",
            "Requirement already satisfied: tqdm>=4.27 in /usr/local/lib/python3.10/dist-packages (from transformers) (4.66.5)\n",
            "Requirement already satisfied: fsspec>=2023.5.0 in /usr/local/lib/python3.10/dist-packages (from huggingface-hub<1.0,>=0.23.2->transformers) (2024.6.1)\n",
            "Requirement already satisfied: typing-extensions>=3.7.4.3 in /usr/local/lib/python3.10/dist-packages (from huggingface-hub<1.0,>=0.23.2->transformers) (4.12.2)\n",
            "Requirement already satisfied: charset-normalizer<4,>=2 in /usr/local/lib/python3.10/dist-packages (from requests->transformers) (3.3.2)\n",
            "Requirement already satisfied: idna<4,>=2.5 in /usr/local/lib/python3.10/dist-packages (from requests->transformers) (3.10)\n",
            "Requirement already satisfied: urllib3<3,>=1.21.1 in /usr/local/lib/python3.10/dist-packages (from requests->transformers) (2.0.7)\n",
            "Requirement already satisfied: certifi>=2017.4.17 in /usr/local/lib/python3.10/dist-packages (from requests->transformers) (2024.8.30)\n",
            "Collecting datasets\n",
            "  Downloading datasets-3.0.0-py3-none-any.whl.metadata (19 kB)\n",
            "Requirement already satisfied: filelock in /usr/local/lib/python3.10/dist-packages (from datasets) (3.16.1)\n",
            "Requirement already satisfied: numpy>=1.17 in /usr/local/lib/python3.10/dist-packages (from datasets) (1.26.4)\n",
            "Collecting pyarrow>=15.0.0 (from datasets)\n",
            "  Downloading pyarrow-17.0.0-cp310-cp310-manylinux_2_28_x86_64.whl.metadata (3.3 kB)\n",
            "Collecting dill<0.3.9,>=0.3.0 (from datasets)\n",
            "  Downloading dill-0.3.8-py3-none-any.whl.metadata (10 kB)\n",
            "Requirement already satisfied: pandas in /usr/local/lib/python3.10/dist-packages (from datasets) (2.1.4)\n",
            "Requirement already satisfied: requests>=2.32.2 in /usr/local/lib/python3.10/dist-packages (from datasets) (2.32.3)\n",
            "Requirement already satisfied: tqdm>=4.66.3 in /usr/local/lib/python3.10/dist-packages (from datasets) (4.66.5)\n",
            "Collecting xxhash (from datasets)\n",
            "  Downloading xxhash-3.5.0-cp310-cp310-manylinux_2_17_x86_64.manylinux2014_x86_64.whl.metadata (12 kB)\n",
            "Collecting multiprocess (from datasets)\n",
            "  Downloading multiprocess-0.70.16-py310-none-any.whl.metadata (7.2 kB)\n",
            "Requirement already satisfied: fsspec<=2024.6.1,>=2023.1.0 in /usr/local/lib/python3.10/dist-packages (from fsspec[http]<=2024.6.1,>=2023.1.0->datasets) (2024.6.1)\n",
            "Requirement already satisfied: aiohttp in /usr/local/lib/python3.10/dist-packages (from datasets) (3.10.5)\n",
            "Requirement already satisfied: huggingface-hub>=0.22.0 in /usr/local/lib/python3.10/dist-packages (from datasets) (0.24.7)\n",
            "Requirement already satisfied: packaging in /usr/local/lib/python3.10/dist-packages (from datasets) (24.1)\n",
            "Requirement already satisfied: pyyaml>=5.1 in /usr/local/lib/python3.10/dist-packages (from datasets) (6.0.2)\n",
            "Requirement already satisfied: aiohappyeyeballs>=2.3.0 in /usr/local/lib/python3.10/dist-packages (from aiohttp->datasets) (2.4.0)\n",
            "Requirement already satisfied: aiosignal>=1.1.2 in /usr/local/lib/python3.10/dist-packages (from aiohttp->datasets) (1.3.1)\n",
            "Requirement already satisfied: attrs>=17.3.0 in /usr/local/lib/python3.10/dist-packages (from aiohttp->datasets) (24.2.0)\n",
            "Requirement already satisfied: frozenlist>=1.1.1 in /usr/local/lib/python3.10/dist-packages (from aiohttp->datasets) (1.4.1)\n",
            "Requirement already satisfied: multidict<7.0,>=4.5 in /usr/local/lib/python3.10/dist-packages (from aiohttp->datasets) (6.1.0)\n",
            "Requirement already satisfied: yarl<2.0,>=1.0 in /usr/local/lib/python3.10/dist-packages (from aiohttp->datasets) (1.11.1)\n",
            "Requirement already satisfied: async-timeout<5.0,>=4.0 in /usr/local/lib/python3.10/dist-packages (from aiohttp->datasets) (4.0.3)\n",
            "Requirement already satisfied: typing-extensions>=3.7.4.3 in /usr/local/lib/python3.10/dist-packages (from huggingface-hub>=0.22.0->datasets) (4.12.2)\n",
            "Requirement already satisfied: charset-normalizer<4,>=2 in /usr/local/lib/python3.10/dist-packages (from requests>=2.32.2->datasets) (3.3.2)\n",
            "Requirement already satisfied: idna<4,>=2.5 in /usr/local/lib/python3.10/dist-packages (from requests>=2.32.2->datasets) (3.10)\n",
            "Requirement already satisfied: urllib3<3,>=1.21.1 in /usr/local/lib/python3.10/dist-packages (from requests>=2.32.2->datasets) (2.0.7)\n",
            "Requirement already satisfied: certifi>=2017.4.17 in /usr/local/lib/python3.10/dist-packages (from requests>=2.32.2->datasets) (2024.8.30)\n",
            "Requirement already satisfied: python-dateutil>=2.8.2 in /usr/local/lib/python3.10/dist-packages (from pandas->datasets) (2.8.2)\n",
            "Requirement already satisfied: pytz>=2020.1 in /usr/local/lib/python3.10/dist-packages (from pandas->datasets) (2024.2)\n",
            "Requirement already satisfied: tzdata>=2022.1 in /usr/local/lib/python3.10/dist-packages (from pandas->datasets) (2024.1)\n",
            "Requirement already satisfied: six>=1.5 in /usr/local/lib/python3.10/dist-packages (from python-dateutil>=2.8.2->pandas->datasets) (1.16.0)\n",
            "Downloading datasets-3.0.0-py3-none-any.whl (474 kB)\n",
            "\u001b[2K   \u001b[90m━━━━━━━━━━━━━━━━━━━━━━━━━━━━━━━━━━━━━━━━\u001b[0m \u001b[32m474.3/474.3 kB\u001b[0m \u001b[31m8.2 MB/s\u001b[0m eta \u001b[36m0:00:00\u001b[0m\n",
            "\u001b[?25hDownloading dill-0.3.8-py3-none-any.whl (116 kB)\n",
            "\u001b[2K   \u001b[90m━━━━━━━━━━━━━━━━━━━━━━━━━━━━━━━━━━━━━━━━\u001b[0m \u001b[32m116.3/116.3 kB\u001b[0m \u001b[31m3.4 MB/s\u001b[0m eta \u001b[36m0:00:00\u001b[0m\n",
            "\u001b[?25hDownloading pyarrow-17.0.0-cp310-cp310-manylinux_2_28_x86_64.whl (39.9 MB)\n",
            "\u001b[2K   \u001b[90m━━━━━━━━━━━━━━━━━━━━━━━━━━━━━━━━━━━━━━━━\u001b[0m \u001b[32m39.9/39.9 MB\u001b[0m \u001b[31m15.5 MB/s\u001b[0m eta \u001b[36m0:00:00\u001b[0m\n",
            "\u001b[?25hDownloading multiprocess-0.70.16-py310-none-any.whl (134 kB)\n",
            "\u001b[2K   \u001b[90m━━━━━━━━━━━━━━━━━━━━━━━━━━━━━━━━━━━━━━━━\u001b[0m \u001b[32m134.8/134.8 kB\u001b[0m \u001b[31m6.7 MB/s\u001b[0m eta \u001b[36m0:00:00\u001b[0m\n",
            "\u001b[?25hDownloading xxhash-3.5.0-cp310-cp310-manylinux_2_17_x86_64.manylinux2014_x86_64.whl (194 kB)\n",
            "\u001b[2K   \u001b[90m━━━━━━━━━━━━━━━━━━━━━━━━━━━━━━━━━━━━━━━━\u001b[0m \u001b[32m194.1/194.1 kB\u001b[0m \u001b[31m15.9 MB/s\u001b[0m eta \u001b[36m0:00:00\u001b[0m\n",
            "\u001b[?25hInstalling collected packages: xxhash, pyarrow, dill, multiprocess, datasets\n",
            "  Attempting uninstall: pyarrow\n",
            "    Found existing installation: pyarrow 14.0.2\n",
            "    Uninstalling pyarrow-14.0.2:\n",
            "      Successfully uninstalled pyarrow-14.0.2\n",
            "\u001b[31mERROR: pip's dependency resolver does not currently take into account all the packages that are installed. This behaviour is the source of the following dependency conflicts.\n",
            "cudf-cu12 24.4.1 requires pyarrow<15.0.0a0,>=14.0.1, but you have pyarrow 17.0.0 which is incompatible.\n",
            "ibis-framework 8.0.0 requires pyarrow<16,>=2, but you have pyarrow 17.0.0 which is incompatible.\u001b[0m\u001b[31m\n",
            "\u001b[0mSuccessfully installed datasets-3.0.0 dill-0.3.8 multiprocess-0.70.16 pyarrow-17.0.0 xxhash-3.5.0\n",
            "Requirement already satisfied: tensorboard in /usr/local/lib/python3.10/dist-packages (2.17.0)\n",
            "Requirement already satisfied: absl-py>=0.4 in /usr/local/lib/python3.10/dist-packages (from tensorboard) (1.4.0)\n",
            "Requirement already satisfied: grpcio>=1.48.2 in /usr/local/lib/python3.10/dist-packages (from tensorboard) (1.64.1)\n",
            "Requirement already satisfied: markdown>=2.6.8 in /usr/local/lib/python3.10/dist-packages (from tensorboard) (3.7)\n",
            "Requirement already satisfied: numpy>=1.12.0 in /usr/local/lib/python3.10/dist-packages (from tensorboard) (1.26.4)\n",
            "Requirement already satisfied: protobuf!=4.24.0,<5.0.0,>=3.19.6 in /usr/local/lib/python3.10/dist-packages (from tensorboard) (3.20.3)\n",
            "Requirement already satisfied: setuptools>=41.0.0 in /usr/local/lib/python3.10/dist-packages (from tensorboard) (71.0.4)\n",
            "Requirement already satisfied: six>1.9 in /usr/local/lib/python3.10/dist-packages (from tensorboard) (1.16.0)\n",
            "Requirement already satisfied: tensorboard-data-server<0.8.0,>=0.7.0 in /usr/local/lib/python3.10/dist-packages (from tensorboard) (0.7.2)\n",
            "Requirement already satisfied: werkzeug>=1.0.1 in /usr/local/lib/python3.10/dist-packages (from tensorboard) (3.0.4)\n",
            "Requirement already satisfied: MarkupSafe>=2.1.1 in /usr/local/lib/python3.10/dist-packages (from werkzeug>=1.0.1->tensorboard) (2.1.5)\n",
            "Requirement already satisfied: sentencepiece in /usr/local/lib/python3.10/dist-packages (0.1.99)\n",
            "Requirement already satisfied: accelerate in /usr/local/lib/python3.10/dist-packages (0.34.2)\n",
            "Requirement already satisfied: numpy<3.0.0,>=1.17 in /usr/local/lib/python3.10/dist-packages (from accelerate) (1.26.4)\n",
            "Requirement already satisfied: packaging>=20.0 in /usr/local/lib/python3.10/dist-packages (from accelerate) (24.1)\n",
            "Requirement already satisfied: psutil in /usr/local/lib/python3.10/dist-packages (from accelerate) (5.9.5)\n",
            "Requirement already satisfied: pyyaml in /usr/local/lib/python3.10/dist-packages (from accelerate) (6.0.2)\n",
            "Requirement already satisfied: torch>=1.10.0 in /usr/local/lib/python3.10/dist-packages (from accelerate) (2.4.1+cu121)\n",
            "Requirement already satisfied: huggingface-hub>=0.21.0 in /usr/local/lib/python3.10/dist-packages (from accelerate) (0.24.7)\n",
            "Requirement already satisfied: safetensors>=0.4.3 in /usr/local/lib/python3.10/dist-packages (from accelerate) (0.4.5)\n",
            "Requirement already satisfied: filelock in /usr/local/lib/python3.10/dist-packages (from huggingface-hub>=0.21.0->accelerate) (3.16.1)\n",
            "Requirement already satisfied: fsspec>=2023.5.0 in /usr/local/lib/python3.10/dist-packages (from huggingface-hub>=0.21.0->accelerate) (2024.6.1)\n",
            "Requirement already satisfied: requests in /usr/local/lib/python3.10/dist-packages (from huggingface-hub>=0.21.0->accelerate) (2.32.3)\n",
            "Requirement already satisfied: tqdm>=4.42.1 in /usr/local/lib/python3.10/dist-packages (from huggingface-hub>=0.21.0->accelerate) (4.66.5)\n",
            "Requirement already satisfied: typing-extensions>=3.7.4.3 in /usr/local/lib/python3.10/dist-packages (from huggingface-hub>=0.21.0->accelerate) (4.12.2)\n",
            "Requirement already satisfied: sympy in /usr/local/lib/python3.10/dist-packages (from torch>=1.10.0->accelerate) (1.13.2)\n",
            "Requirement already satisfied: networkx in /usr/local/lib/python3.10/dist-packages (from torch>=1.10.0->accelerate) (3.3)\n",
            "Requirement already satisfied: jinja2 in /usr/local/lib/python3.10/dist-packages (from torch>=1.10.0->accelerate) (3.1.4)\n",
            "Requirement already satisfied: MarkupSafe>=2.0 in /usr/local/lib/python3.10/dist-packages (from jinja2->torch>=1.10.0->accelerate) (2.1.5)\n",
            "Requirement already satisfied: charset-normalizer<4,>=2 in /usr/local/lib/python3.10/dist-packages (from requests->huggingface-hub>=0.21.0->accelerate) (3.3.2)\n",
            "Requirement already satisfied: idna<4,>=2.5 in /usr/local/lib/python3.10/dist-packages (from requests->huggingface-hub>=0.21.0->accelerate) (3.10)\n",
            "Requirement already satisfied: urllib3<3,>=1.21.1 in /usr/local/lib/python3.10/dist-packages (from requests->huggingface-hub>=0.21.0->accelerate) (2.0.7)\n",
            "Requirement already satisfied: certifi>=2017.4.17 in /usr/local/lib/python3.10/dist-packages (from requests->huggingface-hub>=0.21.0->accelerate) (2024.8.30)\n",
            "Requirement already satisfied: mpmath<1.4,>=1.1.0 in /usr/local/lib/python3.10/dist-packages (from sympy->torch>=1.10.0->accelerate) (1.3.0)\n",
            "Collecting evaluate\n",
            "  Downloading evaluate-0.4.3-py3-none-any.whl.metadata (9.2 kB)\n",
            "Requirement already satisfied: datasets>=2.0.0 in /usr/local/lib/python3.10/dist-packages (from evaluate) (3.0.0)\n",
            "Requirement already satisfied: numpy>=1.17 in /usr/local/lib/python3.10/dist-packages (from evaluate) (1.26.4)\n",
            "Requirement already satisfied: dill in /usr/local/lib/python3.10/dist-packages (from evaluate) (0.3.8)\n",
            "Requirement already satisfied: pandas in /usr/local/lib/python3.10/dist-packages (from evaluate) (2.1.4)\n",
            "Requirement already satisfied: requests>=2.19.0 in /usr/local/lib/python3.10/dist-packages (from evaluate) (2.32.3)\n",
            "Requirement already satisfied: tqdm>=4.62.1 in /usr/local/lib/python3.10/dist-packages (from evaluate) (4.66.5)\n",
            "Requirement already satisfied: xxhash in /usr/local/lib/python3.10/dist-packages (from evaluate) (3.5.0)\n",
            "Requirement already satisfied: multiprocess in /usr/local/lib/python3.10/dist-packages (from evaluate) (0.70.16)\n",
            "Requirement already satisfied: fsspec>=2021.05.0 in /usr/local/lib/python3.10/dist-packages (from fsspec[http]>=2021.05.0->evaluate) (2024.6.1)\n",
            "Requirement already satisfied: huggingface-hub>=0.7.0 in /usr/local/lib/python3.10/dist-packages (from evaluate) (0.24.7)\n",
            "Requirement already satisfied: packaging in /usr/local/lib/python3.10/dist-packages (from evaluate) (24.1)\n",
            "Requirement already satisfied: filelock in /usr/local/lib/python3.10/dist-packages (from datasets>=2.0.0->evaluate) (3.16.1)\n",
            "Requirement already satisfied: pyarrow>=15.0.0 in /usr/local/lib/python3.10/dist-packages (from datasets>=2.0.0->evaluate) (17.0.0)\n",
            "Requirement already satisfied: aiohttp in /usr/local/lib/python3.10/dist-packages (from datasets>=2.0.0->evaluate) (3.10.5)\n",
            "Requirement already satisfied: pyyaml>=5.1 in /usr/local/lib/python3.10/dist-packages (from datasets>=2.0.0->evaluate) (6.0.2)\n",
            "Requirement already satisfied: typing-extensions>=3.7.4.3 in /usr/local/lib/python3.10/dist-packages (from huggingface-hub>=0.7.0->evaluate) (4.12.2)\n",
            "Requirement already satisfied: charset-normalizer<4,>=2 in /usr/local/lib/python3.10/dist-packages (from requests>=2.19.0->evaluate) (3.3.2)\n",
            "Requirement already satisfied: idna<4,>=2.5 in /usr/local/lib/python3.10/dist-packages (from requests>=2.19.0->evaluate) (3.10)\n",
            "Requirement already satisfied: urllib3<3,>=1.21.1 in /usr/local/lib/python3.10/dist-packages (from requests>=2.19.0->evaluate) (2.0.7)\n",
            "Requirement already satisfied: certifi>=2017.4.17 in /usr/local/lib/python3.10/dist-packages (from requests>=2.19.0->evaluate) (2024.8.30)\n",
            "Requirement already satisfied: python-dateutil>=2.8.2 in /usr/local/lib/python3.10/dist-packages (from pandas->evaluate) (2.8.2)\n",
            "Requirement already satisfied: pytz>=2020.1 in /usr/local/lib/python3.10/dist-packages (from pandas->evaluate) (2024.2)\n",
            "Requirement already satisfied: tzdata>=2022.1 in /usr/local/lib/python3.10/dist-packages (from pandas->evaluate) (2024.1)\n",
            "Requirement already satisfied: aiohappyeyeballs>=2.3.0 in /usr/local/lib/python3.10/dist-packages (from aiohttp->datasets>=2.0.0->evaluate) (2.4.0)\n",
            "Requirement already satisfied: aiosignal>=1.1.2 in /usr/local/lib/python3.10/dist-packages (from aiohttp->datasets>=2.0.0->evaluate) (1.3.1)\n",
            "Requirement already satisfied: attrs>=17.3.0 in /usr/local/lib/python3.10/dist-packages (from aiohttp->datasets>=2.0.0->evaluate) (24.2.0)\n",
            "Requirement already satisfied: frozenlist>=1.1.1 in /usr/local/lib/python3.10/dist-packages (from aiohttp->datasets>=2.0.0->evaluate) (1.4.1)\n",
            "Requirement already satisfied: multidict<7.0,>=4.5 in /usr/local/lib/python3.10/dist-packages (from aiohttp->datasets>=2.0.0->evaluate) (6.1.0)\n",
            "Requirement already satisfied: yarl<2.0,>=1.0 in /usr/local/lib/python3.10/dist-packages (from aiohttp->datasets>=2.0.0->evaluate) (1.11.1)\n",
            "Requirement already satisfied: async-timeout<5.0,>=4.0 in /usr/local/lib/python3.10/dist-packages (from aiohttp->datasets>=2.0.0->evaluate) (4.0.3)\n",
            "Requirement already satisfied: six>=1.5 in /usr/local/lib/python3.10/dist-packages (from python-dateutil>=2.8.2->pandas->evaluate) (1.16.0)\n",
            "Downloading evaluate-0.4.3-py3-none-any.whl (84 kB)\n",
            "\u001b[2K   \u001b[90m━━━━━━━━━━━━━━━━━━━━━━━━━━━━━━━━━━━━━━━━\u001b[0m \u001b[32m84.0/84.0 kB\u001b[0m \u001b[31m2.0 MB/s\u001b[0m eta \u001b[36m0:00:00\u001b[0m\n",
            "\u001b[?25hInstalling collected packages: evaluate\n",
            "Successfully installed evaluate-0.4.3\n",
            "Collecting rouge_score\n",
            "  Downloading rouge_score-0.1.2.tar.gz (17 kB)\n",
            "  Preparing metadata (setup.py) ... \u001b[?25l\u001b[?25hdone\n",
            "Requirement already satisfied: absl-py in /usr/local/lib/python3.10/dist-packages (from rouge_score) (1.4.0)\n",
            "Requirement already satisfied: nltk in /usr/local/lib/python3.10/dist-packages (from rouge_score) (3.8.1)\n",
            "Requirement already satisfied: numpy in /usr/local/lib/python3.10/dist-packages (from rouge_score) (1.26.4)\n",
            "Requirement already satisfied: six>=1.14.0 in /usr/local/lib/python3.10/dist-packages (from rouge_score) (1.16.0)\n",
            "Requirement already satisfied: click in /usr/local/lib/python3.10/dist-packages (from nltk->rouge_score) (8.1.7)\n",
            "Requirement already satisfied: joblib in /usr/local/lib/python3.10/dist-packages (from nltk->rouge_score) (1.4.2)\n",
            "Requirement already satisfied: regex>=2021.8.3 in /usr/local/lib/python3.10/dist-packages (from nltk->rouge_score) (2024.9.11)\n",
            "Requirement already satisfied: tqdm in /usr/local/lib/python3.10/dist-packages (from nltk->rouge_score) (4.66.5)\n",
            "Building wheels for collected packages: rouge_score\n",
            "  Building wheel for rouge_score (setup.py) ... \u001b[?25l\u001b[?25hdone\n",
            "  Created wheel for rouge_score: filename=rouge_score-0.1.2-py3-none-any.whl size=24935 sha256=6a24a4f9f345446efdaa66a096ed8515912fdcb1c80495fd7336bde3dbf3676c\n",
            "  Stored in directory: /root/.cache/pip/wheels/5f/dd/89/461065a73be61a532ff8599a28e9beef17985c9e9c31e541b4\n",
            "Successfully built rouge_score\n",
            "Installing collected packages: rouge_score\n",
            "Successfully installed rouge_score-0.1.2\n"
          ]
        }
      ],
      "source": [
        "!pip install -U transformers\n",
        "!pip install -U datasets\n",
        "!pip install tensorboard\n",
        "!pip install sentencepiece\n",
        "!pip install accelerate\n",
        "!pip install evaluate\n",
        "!pip install rouge_score"
      ]
    },
    {
      "cell_type": "markdown",
      "source": [
        "## **Importing Libraries and Model for Text Summarization**"
      ],
      "metadata": {
        "id": "nrBOmC47BOPK"
      }
    },
    {
      "cell_type": "code",
      "source": [
        "import torch\n",
        "import pprint\n",
        "import numpy as np\n",
        "\n",
        "from transformers import (\n",
        "    T5Tokenizer,\n",
        "    T5ForConditionalGeneration,\n",
        "    TrainingArguments,\n",
        "    Trainer\n",
        ")\n",
        "from datasets import load_dataset"
      ],
      "metadata": {
        "id": "9jt3Eeq0OgDe"
      },
      "execution_count": 7,
      "outputs": []
    },
    {
      "source": [
        "# Install the evaluate package using the %pip magic command.\n",
        "!pip install evaluate\n",
        "import evaluate"
      ],
      "cell_type": "code",
      "metadata": {
        "colab": {
          "base_uri": "https://localhost:8080/"
        },
        "id": "K0i2T8yRf1HM",
        "outputId": "1050c643-5fd6-40cc-8316-344fde1aa605"
      },
      "execution_count": 6,
      "outputs": [
        {
          "output_type": "stream",
          "name": "stdout",
          "text": [
            "Collecting evaluate\n",
            "  Downloading evaluate-0.4.3-py3-none-any.whl.metadata (9.2 kB)\n",
            "Collecting datasets>=2.0.0 (from evaluate)\n",
            "  Downloading datasets-3.0.0-py3-none-any.whl.metadata (19 kB)\n",
            "Requirement already satisfied: numpy>=1.17 in /usr/local/lib/python3.10/dist-packages (from evaluate) (1.26.4)\n",
            "Collecting dill (from evaluate)\n",
            "  Downloading dill-0.3.8-py3-none-any.whl.metadata (10 kB)\n",
            "Requirement already satisfied: pandas in /usr/local/lib/python3.10/dist-packages (from evaluate) (2.1.4)\n",
            "Requirement already satisfied: requests>=2.19.0 in /usr/local/lib/python3.10/dist-packages (from evaluate) (2.32.3)\n",
            "Requirement already satisfied: tqdm>=4.62.1 in /usr/local/lib/python3.10/dist-packages (from evaluate) (4.66.5)\n",
            "Collecting xxhash (from evaluate)\n",
            "  Downloading xxhash-3.5.0-cp310-cp310-manylinux_2_17_x86_64.manylinux2014_x86_64.whl.metadata (12 kB)\n",
            "Collecting multiprocess (from evaluate)\n",
            "  Downloading multiprocess-0.70.16-py310-none-any.whl.metadata (7.2 kB)\n",
            "Requirement already satisfied: fsspec>=2021.05.0 in /usr/local/lib/python3.10/dist-packages (from fsspec[http]>=2021.05.0->evaluate) (2024.6.1)\n",
            "Requirement already satisfied: huggingface-hub>=0.7.0 in /usr/local/lib/python3.10/dist-packages (from evaluate) (0.24.7)\n",
            "Requirement already satisfied: packaging in /usr/local/lib/python3.10/dist-packages (from evaluate) (24.1)\n",
            "Requirement already satisfied: filelock in /usr/local/lib/python3.10/dist-packages (from datasets>=2.0.0->evaluate) (3.16.1)\n",
            "Collecting pyarrow>=15.0.0 (from datasets>=2.0.0->evaluate)\n",
            "  Downloading pyarrow-17.0.0-cp310-cp310-manylinux_2_28_x86_64.whl.metadata (3.3 kB)\n",
            "Requirement already satisfied: aiohttp in /usr/local/lib/python3.10/dist-packages (from datasets>=2.0.0->evaluate) (3.10.5)\n",
            "Requirement already satisfied: pyyaml>=5.1 in /usr/local/lib/python3.10/dist-packages (from datasets>=2.0.0->evaluate) (6.0.2)\n",
            "Requirement already satisfied: typing-extensions>=3.7.4.3 in /usr/local/lib/python3.10/dist-packages (from huggingface-hub>=0.7.0->evaluate) (4.12.2)\n",
            "Requirement already satisfied: charset-normalizer<4,>=2 in /usr/local/lib/python3.10/dist-packages (from requests>=2.19.0->evaluate) (3.3.2)\n",
            "Requirement already satisfied: idna<4,>=2.5 in /usr/local/lib/python3.10/dist-packages (from requests>=2.19.0->evaluate) (3.10)\n",
            "Requirement already satisfied: urllib3<3,>=1.21.1 in /usr/local/lib/python3.10/dist-packages (from requests>=2.19.0->evaluate) (2.0.7)\n",
            "Requirement already satisfied: certifi>=2017.4.17 in /usr/local/lib/python3.10/dist-packages (from requests>=2.19.0->evaluate) (2024.8.30)\n",
            "Requirement already satisfied: python-dateutil>=2.8.2 in /usr/local/lib/python3.10/dist-packages (from pandas->evaluate) (2.8.2)\n",
            "Requirement already satisfied: pytz>=2020.1 in /usr/local/lib/python3.10/dist-packages (from pandas->evaluate) (2024.2)\n",
            "Requirement already satisfied: tzdata>=2022.1 in /usr/local/lib/python3.10/dist-packages (from pandas->evaluate) (2024.1)\n",
            "Requirement already satisfied: aiohappyeyeballs>=2.3.0 in /usr/local/lib/python3.10/dist-packages (from aiohttp->datasets>=2.0.0->evaluate) (2.4.0)\n",
            "Requirement already satisfied: aiosignal>=1.1.2 in /usr/local/lib/python3.10/dist-packages (from aiohttp->datasets>=2.0.0->evaluate) (1.3.1)\n",
            "Requirement already satisfied: attrs>=17.3.0 in /usr/local/lib/python3.10/dist-packages (from aiohttp->datasets>=2.0.0->evaluate) (24.2.0)\n",
            "Requirement already satisfied: frozenlist>=1.1.1 in /usr/local/lib/python3.10/dist-packages (from aiohttp->datasets>=2.0.0->evaluate) (1.4.1)\n",
            "Requirement already satisfied: multidict<7.0,>=4.5 in /usr/local/lib/python3.10/dist-packages (from aiohttp->datasets>=2.0.0->evaluate) (6.1.0)\n",
            "Requirement already satisfied: yarl<2.0,>=1.0 in /usr/local/lib/python3.10/dist-packages (from aiohttp->datasets>=2.0.0->evaluate) (1.11.1)\n",
            "Requirement already satisfied: async-timeout<5.0,>=4.0 in /usr/local/lib/python3.10/dist-packages (from aiohttp->datasets>=2.0.0->evaluate) (4.0.3)\n",
            "Requirement already satisfied: six>=1.5 in /usr/local/lib/python3.10/dist-packages (from python-dateutil>=2.8.2->pandas->evaluate) (1.16.0)\n",
            "Downloading evaluate-0.4.3-py3-none-any.whl (84 kB)\n",
            "\u001b[2K   \u001b[90m━━━━━━━━━━━━━━━━━━━━━━━━━━━━━━━━━━━━━━━━\u001b[0m \u001b[32m84.0/84.0 kB\u001b[0m \u001b[31m5.6 MB/s\u001b[0m eta \u001b[36m0:00:00\u001b[0m\n",
            "\u001b[?25hDownloading datasets-3.0.0-py3-none-any.whl (474 kB)\n",
            "\u001b[2K   \u001b[90m━━━━━━━━━━━━━━━━━━━━━━━━━━━━━━━━━━━━━━━━\u001b[0m \u001b[32m474.3/474.3 kB\u001b[0m \u001b[31m19.2 MB/s\u001b[0m eta \u001b[36m0:00:00\u001b[0m\n",
            "\u001b[?25hDownloading dill-0.3.8-py3-none-any.whl (116 kB)\n",
            "\u001b[2K   \u001b[90m━━━━━━━━━━━━━━━━━━━━━━━━━━━━━━━━━━━━━━━━\u001b[0m \u001b[32m116.3/116.3 kB\u001b[0m \u001b[31m9.4 MB/s\u001b[0m eta \u001b[36m0:00:00\u001b[0m\n",
            "\u001b[?25hDownloading multiprocess-0.70.16-py310-none-any.whl (134 kB)\n",
            "\u001b[2K   \u001b[90m━━━━━━━━━━━━━━━━━━━━━━━━━━━━━━━━━━━━━━━━\u001b[0m \u001b[32m134.8/134.8 kB\u001b[0m \u001b[31m11.0 MB/s\u001b[0m eta \u001b[36m0:00:00\u001b[0m\n",
            "\u001b[?25hDownloading xxhash-3.5.0-cp310-cp310-manylinux_2_17_x86_64.manylinux2014_x86_64.whl (194 kB)\n",
            "\u001b[2K   \u001b[90m━━━━━━━━━━━━━━━━━━━━━━━━━━━━━━━━━━━━━━━━\u001b[0m \u001b[32m194.1/194.1 kB\u001b[0m \u001b[31m16.6 MB/s\u001b[0m eta \u001b[36m0:00:00\u001b[0m\n",
            "\u001b[?25hDownloading pyarrow-17.0.0-cp310-cp310-manylinux_2_28_x86_64.whl (39.9 MB)\n",
            "\u001b[2K   \u001b[90m━━━━━━━━━━━━━━━━━━━━━━━━━━━━━━━━━━━━━━━━\u001b[0m \u001b[32m39.9/39.9 MB\u001b[0m \u001b[31m21.8 MB/s\u001b[0m eta \u001b[36m0:00:00\u001b[0m\n",
            "\u001b[?25hInstalling collected packages: xxhash, pyarrow, dill, multiprocess, datasets, evaluate\n",
            "  Attempting uninstall: pyarrow\n",
            "    Found existing installation: pyarrow 14.0.2\n",
            "    Uninstalling pyarrow-14.0.2:\n",
            "      Successfully uninstalled pyarrow-14.0.2\n",
            "\u001b[31mERROR: pip's dependency resolver does not currently take into account all the packages that are installed. This behaviour is the source of the following dependency conflicts.\n",
            "cudf-cu12 24.4.1 requires pyarrow<15.0.0a0,>=14.0.1, but you have pyarrow 17.0.0 which is incompatible.\n",
            "ibis-framework 8.0.0 requires pyarrow<16,>=2, but you have pyarrow 17.0.0 which is incompatible.\u001b[0m\u001b[31m\n",
            "\u001b[0mSuccessfully installed datasets-3.0.0 dill-0.3.8 evaluate-0.4.3 multiprocess-0.70.16 pyarrow-17.0.0 xxhash-3.5.0\n"
          ]
        }
      ]
    },
    {
      "cell_type": "markdown",
      "source": [
        "# **Loading the BBC News Summary Dataset**"
      ],
      "metadata": {
        "id": "-O70n6_hBmOk"
      }
    },
    {
      "cell_type": "code",
      "source": [
        "import pandas as pd\n",
        "\n",
        "dataset = load_dataset('gopalkalpande/bbc-news-summary', split='train')"
      ],
      "metadata": {
        "colab": {
          "base_uri": "https://localhost:8080/",
          "height": 217,
          "referenced_widgets": [
            "b0b86457f63b4571894611005763cb5c",
            "5941167ca3c54ee8b9d76870ee991884",
            "26f64245d9fc4583b283538120acbdfd",
            "1bf17bca73524052942c8c216015055a",
            "ab3a61d0b1c54131bcae564c3dde784c",
            "f4312983e2934af483039cc06878b0a8",
            "de165c88fd624ecdb5e650624141e73f",
            "c47ecae430bd4e2c8dd46fcb3a68b068",
            "b228b179e0354514b0f2d18b317f1b9f",
            "4476acb9647240108a65993069329d19",
            "55d8dc0e216e44d18151c4c2c2e72cee",
            "c65a2375c59f45abbdeba62d7b840881",
            "f56c4d9e22a949ec9b2f56fc6d7a32da",
            "3c1387cddf0643309961141a190c310c",
            "970b0f21e774443bb1ca0a28ebe63ced",
            "1df49fb6c2bd45159406dad13fe8f9bc",
            "4c1729ccef894a6e8865b7b046a4bf26",
            "51b292193b8842ae9f937bbbf6b22e1a",
            "f903f8a712b34704acaec4f7b0dcf949",
            "fdcd515eb9fa45f681c99f9695b771ff",
            "e6078e713de5497da62d0b47284ea722",
            "9b2fd11fc64748edb4fb83ada4aac8c1",
            "c69874a75e4b4d3596a0ea32b192cceb",
            "df731dc1a62449758950b2d5fd4ebf21",
            "443e97764ee24e97bd06d6ed617cc660",
            "a71d5aa6a24e4551bdcff1c14eb8d7df",
            "73defc65714144ad898950d51e65bcf6",
            "bac39d08d9ed4b049adbf146b2690002",
            "4eaa851b73ed4f8aacbd08cdabdecef4",
            "1a2fb49abd844ed9b8897d9dfe54f0ec",
            "6802472162434307936dd25f4a45a0ff",
            "89522293df574880ab45744b73a983d4",
            "391f4bc1848f41b59480e9e58d40b726"
          ]
        },
        "id": "yuiHrtGLN_5G",
        "outputId": "a528a348-ce63-416d-a150-aab074d86d1f"
      },
      "execution_count": 8,
      "outputs": [
        {
          "output_type": "stream",
          "name": "stderr",
          "text": [
            "/usr/local/lib/python3.10/dist-packages/huggingface_hub/utils/_token.py:89: UserWarning: \n",
            "The secret `HF_TOKEN` does not exist in your Colab secrets.\n",
            "To authenticate with the Hugging Face Hub, create a token in your settings tab (https://huggingface.co/settings/tokens), set it as secret in your Google Colab and restart your session.\n",
            "You will be able to reuse this secret in all of your notebooks.\n",
            "Please note that authentication is recommended but still optional to access public models or datasets.\n",
            "  warnings.warn(\n"
          ]
        },
        {
          "output_type": "display_data",
          "data": {
            "text/plain": [
              "README.md:   0%|          | 0.00/2.20k [00:00<?, ?B/s]"
            ],
            "application/vnd.jupyter.widget-view+json": {
              "version_major": 2,
              "version_minor": 0,
              "model_id": "b0b86457f63b4571894611005763cb5c"
            }
          },
          "metadata": {}
        },
        {
          "output_type": "display_data",
          "data": {
            "text/plain": [
              "bbc-news-summary.csv:   0%|          | 0.00/7.32M [00:00<?, ?B/s]"
            ],
            "application/vnd.jupyter.widget-view+json": {
              "version_major": 2,
              "version_minor": 0,
              "model_id": "c65a2375c59f45abbdeba62d7b840881"
            }
          },
          "metadata": {}
        },
        {
          "output_type": "display_data",
          "data": {
            "text/plain": [
              "Generating train split:   0%|          | 0/2224 [00:00<?, ? examples/s]"
            ],
            "application/vnd.jupyter.widget-view+json": {
              "version_major": 2,
              "version_minor": 0,
              "model_id": "c69874a75e4b4d3596a0ea32b192cceb"
            }
          },
          "metadata": {}
        }
      ]
    },
    {
      "cell_type": "code",
      "source": [
        "dataset"
      ],
      "metadata": {
        "colab": {
          "base_uri": "https://localhost:8080/"
        },
        "id": "p-o_WecuOukL",
        "outputId": "eeea409c-4a7c-48d7-80ca-6e262d024570"
      },
      "execution_count": 9,
      "outputs": [
        {
          "output_type": "execute_result",
          "data": {
            "text/plain": [
              "Dataset({\n",
              "    features: ['File_path', 'Articles', 'Summaries'],\n",
              "    num_rows: 2224\n",
              "})"
            ]
          },
          "metadata": {},
          "execution_count": 9
        }
      ]
    },
    {
      "source": [
        "dataset[:10] # Display the first 10 rows of the dataset"
      ],
      "cell_type": "code",
      "metadata": {
        "colab": {
          "base_uri": "https://localhost:8080/"
        },
        "id": "MRv2UWWZPcFN",
        "outputId": "aae446a3-5926-4e89-b587-6d4142570729"
      },
      "execution_count": 15,
      "outputs": [
        {
          "output_type": "execute_result",
          "data": {
            "text/plain": [
              "{'File_path': ['politics',\n",
              "  'politics',\n",
              "  'politics',\n",
              "  'politics',\n",
              "  'politics',\n",
              "  'politics',\n",
              "  'politics',\n",
              "  'politics',\n",
              "  'politics',\n",
              "  'politics'],\n",
              " 'Articles': ['Budget to set scene for election..Gordon Brown will seek to put the economy at the centre of Labour\\'s bid for a third term in power when he delivers his ninth Budget at 1230 GMT. He is expected to stress the importance of continued economic stability, with low unemployment and interest rates. The chancellor is expected to freeze petrol duty and raise the stamp duty threshold from £60,000. But the Conservatives and Lib Dems insist voters face higher taxes and more means-testing under Labour...Treasury officials have said there will not be a pre-election giveaway, but Mr Brown is thought to have about £2bn to spare...- Increase in the stamp duty threshold from £60,000. - A freeze on petrol duty. - An extension of tax credit scheme for poorer families. - Possible help for pensioners The stamp duty threshold rise is intended to help first time buyers - a likely theme of all three of the main parties\\' general election manifestos. Ten years ago, buyers had a much greater chance of avoiding stamp duty, with close to half a million properties, in England and Wales alone, selling for less than £60,000. Since then, average UK property prices have more than doubled while the starting threshold for stamp duty has not increased. Tax credits As a result, the number of properties incurring stamp duty has rocketed as has the government\\'s tax take. The Liberal Democrats unveiled their own proposals to raise the stamp duty threshold to £150,000 in February...The Tories are also thought likely to propose increased thresholds, with shadow chancellor Oliver Letwin branding stamp duty a \"classic Labour stealth tax\". The Tories say whatever the chancellor gives away will be clawed back in higher taxes if Labour is returned to power. Shadow Treasury chief secretary George Osborne said: \"Everyone who looks at the British economy at the moment says there has been a sharp deterioration in the public finances, that there is a black hole,\" he said. \"If Labour is elected there will be a very substantial tax increase in the Budget after the election, of the order of around £10bn.\"..But Mr Brown\\'s former advisor Ed Balls, now a parliamentary hopeful, said an examination of Tory plans for the economy showed there would be a £35bn difference in investment by the end of the next parliament between the two main parties. He added: \"I don\\'t accept there is any need for any changes to the plans we have set out to meet our spending commitments.\"..For the Lib Dems David Laws said: \"The chancellor will no doubt tell us today how wonderfully the economy is doing,\" he said. \"But a lot of that is built on an increase in personal and consumer debt over the last few years - that makes the economy quite vulnerable potentially if interest rates ever do have to go up in a significant way.\" SNP leader Alex Salmond said his party would introduce a £2,000 grant for first time buyers, reduce corporation tax and introduce a citizens pension free from means testing. Plaid Cymru\\'s economics spokesman Adam Price said he wanted help to get people on the housing ladder and an increase in the minimum wage to £5.60 an hour.',\n",
              "  'Army chiefs in regiments decision..Military chiefs are expected to meet to make a final decision on the future of Scotland\\'s Army regiments...A committee of the Army Board, which is made up of the most senior defence figures, will discuss plans for restructuring regiments on Monday. The proposals include cutting Scotland\\'s six single-battalion regiments to five and merging these into a super regiment. The plans have faced stiff opposition from campaigners and politicians alike. The committee\\'s decision must be ratified by Defence Secretary Geoff Hoon and Prime Minister Tony Blair. It is expected that it will be made public next week. When ministers announced a reorganisation of the Army it drew a question mark over the futures of the Black Watch, the Kings Own Scottish Borderers, the Royal Scots, the Royal Highland Fusiliers and the Argyll and Sutherland Highlanders. In October, the Council of Scottish Colonels proposed the merger of the Royal Scots and the King\\'s Own Scottish Borderers into a single battalion...Under their vision, it would be one of five in the new super regiment. The proposals to either merge or amalgamate the six regiments into a super regiment sparked a political outcry, with Labour backbenchers and opposition politicians opposing the plan. They felt the timing was insensitive because the Black Watch was in the frontline in Iraq, suffering casualties. The Save the Scottish Regiments campaigners were so angered they threatened to stand against Labour at the next general election...Speaking ahead of the expected Army Board meeting, a spokesman said: \"The government and the Army Board have spent the past four months attempting to trick serving soldiers and the public into thinking their planned changes for the Scottish regiments are for the good of the Army and for that of the serving soldier. \"They are very much not for the good and will destroy Scotland\\'s regiments by moulding them into a single super regiment which will lead to severe recruitment problems, a loss of local connections to those regiments and a loss to Scotland of an important part of her heritage and, most importantly, her future - the regiments are the envy of armies around the world.\" An alternative blueprint had been put forward by Labour MP Eric Joyce, who proposed going ahead with the merger while preserving the other regiments. For a brief time, there was speculation the prime minister might consider the plan, but that now seems unlikely. Speaking in Scotland last week, Mr Blair said the aim was to preserve tradition but introduce a more effective structure and hinted that a super regiment was likely. He said: \"They don\\'t want to get rid of the history or the traditions of the regiment or the local connections - far from it, all they want to do is make sure they can transfer people easily across regiments and deploy them more flexibly.\" The prime minister said he hoped campaigners\\' concerns would be taken into account but the need for effective change had to be paramount.',\n",
              "  'Howard denies split over ID cards..Michael Howard has denied his shadow cabinet was split over its decision to back controversial Labour plans to introduce ID cards...The Tory leader said his front bench team had reached a \"collective view\" after holding a \"good discussion\", but admitted it was \"not an easy issue\". He had decided to support the plans as the police said they would help fight terror, crime and illegal immigration. The Lib Dems have pledged to oppose the bill when it is debated next Monday...Tory sources say senior party figures had argued vociferously against the ID card scheme. Among those reported to have serious reservations over the strategy were senior shadow cabinet members David Davis, Oliver Letwin and Tim Yeo. But Mr Howard denied Mr Yeo, his transport and environment spokesman, said the plans \"stink\". He also said he was confident shadow home secretary Mr Davis would \"set out the position very clearly\" when he stands up to debate the matter next week. Mr Howard said the police had said ID cards could \"help them foil a terror bomb plot in which people could lose their lives\". He added: \"When the police say that you have to take them seriously\"...He acknowledged there were \"good libertarian arguments\" against the cards, but said the shadow Cabinet had weighed up all the \"conflicting interests\" before reaching its decision. \"I don\\'t pretend that it is an easy decision but at the end of the day a decision has to be taken.\" He also denied he was afraid of looking \"soft\" on the issue, compared to Labour. The Conservatives announced their support for the government plans on Monday evening...Sources within the party told the BBC Mr Howard had always been in favour of ID cards, and tried to introduce them when he was Home Secretary. But the Tories insisted they would hold ministers to account over the precise purpose of the scheme...They said they would also press Labour over whether objectives could be met and whether the Home Office would be able to deliver them. And they pledged to assess the cost effectiveness of ID cards and whether people\\'s privacy would be properly protected. \"It is important to remember that this bill will take a decade to come into full effect,\" a spokesman said. Lib Dem home affairs spokesman Mark Oaten has branded the ID scheme a waste of money and \"deeply flawed\". He said: \"This has all the signs of Michael Howard overruling colleagues\\' concerns over ID cards.\"..The chairman of the Bar Council, Guy Mansfield QC warned there was a real risk that people on the \"margins of society\" would be driven into the hands of extremists. \"What is going to happen to young Asian men when there has been a bomb gone off somewhere? They are going to be stopped. If they haven\\'t [ID cards] they are going to be detained.\" Tory ex-minister Douglas Hogg said he opposed the plans for ID cards branding them a \"regressive\" step which would intrude into the lives of ordinary citizens without any counterbalancing benefits. He predicted ultimately carrying the cards would become compulsory and that would lead to large numbers of Britain\\'s ethnic minorities being stopped by police.',\n",
              "  'Observers to monitor UK election..Ministers will invite international observers to check the forthcoming UK general election is fairly run...The move comes amid claims the poll could be marred by electoral fraud. A report by two MPs committees called on Thursday for urgent changes to the electoral registration system to combat vote rigging and boost turnout. But in a written response to Labour MP Gordon Prentice, the government said it would normally invite observers to any UK election...Junior constitutional affairs minister Christopher Leslie said: \"I fully expect us to repeat our previous practice of doing so once the date for the next general election is announced.\" The government has looked at ways of boosting voter turnout, which fell to 59% in the last general election in 2001...But trial all-postal ballots in four English regions last summer were hit by delays and some fraud allegations. Liberal Democrat peer Lord Greaves called last week for international observers at the general election - saying otherwise there could be months of court challenges \"on a scale not seen since the 19th Century\". Thursday\\'s report was drawn up by two committees scrutinising the work of the Office of the Deputy Prime Minister (ODPM) and the Department for Constitutional Affairs (DCA). It said that, with the growth of postal voting, there was a strong case to tighten up fraud protection by requiring voters to register individually, rather than by household. It also said about three million people eligible to vote are not registered to do so...Figures for the 2001 general election suggest 29% of people aged between 18 and 24, and 19% of black voters were not on the electoral roll. Young people in shared accommodation are thought to miss out because no one acts as head of the household to fill in the form. ODPM committee chairman Andrew Bennett said individual voter registration, as opposed to registration by household, should be quickly introduced as it could \"dramatically reduce the chances of fraud\". But his counterpart on the DCA committee, Alan Beith, said it should be delayed \"until measures likely to increase registration have been put in place and proved effective.\" Shadow Constitutional Affairs Secretary Oliver Heald accused the government of \"dragging its feet\" over \"this badly needed measure\". \"It is vital that we move ahead with the Northern Ireland system of individual electoral registration to safeguard the integrity of the Britain\\'s electoral system,\" he said...The report said individual registration should be treated carefully as 12% of voters disappeared from the electoral roll in Northern Ireland when it was introduced in 2002. The report said the government should consider fines for unregistered voters, but accepted many experts said it would be an expensive system that would be hard to enforce. It said incentives to register, such as £20 council tax rebate, were likely to be seen as \"gimmicks\" and risked undermining the integrity of the system, MPs said. Instead they called for \"imaginative campaigns\" to boost interest.',\n",
              "  'Kilroy names election seat target..Ex-chat show host Robert Kilroy-Silk is to contest the Derbyshire seat of Erewash at the next general election...Labour\\'s Elizabeth Blackman won the seat in 1997 and has a 6,932 majority. She says she will fight on her record \"as a hard-working constituency MP\". Mr Kilroy-Silk announced his plans a day after launching his new party, Veritas, the Latin for truth. The East Midlands MEP, who quit the UK Independence Party, wants his new group to \"change the face\" of UK politics. His choice of election constituency quashes speculation that he would stand against Defence Secretary Geoff Hoon in Ashfield, Nottinghamshire. UKIP won 31% of the vote in Erewash in last June\\'s European elections - with Mr Kilroy-Silk among their candidates for the region. Until 1997, Erewash had been held by the Tories since 1970. Ms Blackman said she was proud of the government\\'s achievements in the area. She declined to give her view of Mr Kilroy-Silk at this point...On Thursday, he told a London news conference that Veritas would avoid the old parties\\' \"lies and spin\". He said \"our country\" was being \"stolen from us\" by mass immigration and promised a \"firm but fair\" policy on immigration. Veritas says it hopes to contest most seats at the forthcoming general election but plans to announce detailed policies on crime, tax, pensions, health and defence over the next few weeks...UKIP leader Roger Knapman says he is glad to see the back of Mr Kilroy-Silk. Labour campaign spokesman Fraser Kemp said Veritas was joining \"an already crowded field on the right of British politics\". Mr Kilroy-Silk was joined in the new venture by one of UKIP\\'s two London Assembly members, Damien Hockney, who is now Veritas\\' deputy leader...UKIP\\'s chairman Petrina Holdsworth has said the group will just be a parody of the party the men have left. Mr Kilroy-Silk quit UKIP last week after months of tension as he vied unsuccessfully for the leadership of that party. He said he was ashamed to be a member of a UKIP whose leadership had \"gone AWOL\" after the great opportunity offered by its third place at last June\\'s European elections. UKIP\\'s leader, Roger Knapman, has said he is glad to see the back of Mr Kilroy-Silk. \"He has remarkable ability to influence people but, sadly, after the [European] election it became clear that he was more interested in the Robert Kilroy-Silk Party than the UK Independence Party so it was nice knowing him, now \\'goodbye\\',\" he said. UKIP officials also argue Mr Kilroy-Silk has not been \"straightforward\" in attacking the party he once wanted to lead.',\n",
              "  'Donor attacks Blair-Brown \\'feud\\'..The reported feud between Tony Blair and Gordon Brown has prompted a Labour donor to say he will almost certainly refuse to give more funds...Duncan Bannatyne also attacked the government over Iraq and its \"poor\" response to the Asian tsunami crisis. His broadside came as ex-Foreign Secretary Robin Cook said he hoped Mr Brown would be premier at some point. Mr Bannatyne has previously given Labour £50,000. He made his fortune from care homes and health clubs...The 52-year-old on Tuesday said was he was reviewing his donations because of Cabinet disunity and international issues. His spokesman said it was highly unlikely he would give Labour more money, although he would remain a supporter and not fund the Conservatives...Robert Peston\\'s new book has prompted more speculation about the Blair-Brown rift with its claims that the prime minister broke a promise made in 2003 to stand down. Mr Bannatyne said: \"Disunity in the Cabinet has a corrosive effect on the country. \"Gordon Brown is a great chancellor who has delivered a stable economy, but business wants that to continue and not be blown off course by petty squabbles based on personal ambition.\" The businessman, whose latest venture is a casino in Newcastle, also voiced concern about the ongoing violence in Iraq...And he branded the UK government\\'s response to the tsunami as \"piecemeal and poor\". \"The people there need practical help not just pledges of money,\" he said. \"The US has forces helping on the ground - we can do more.\" British Navy ships have helped the relief effort and the prime minister has said the government could ultimately give hundreds of millions of pounds in aid. Mr Bannatyne is due to host a new television programme and is also appearing on BBC2 business start-up programme Dragon\\'s Den. But his spokesman insisted his attack on Labour was not a publicity stunt...In a separate development, Robin Cook gave his support to Mr Brown\\'s prime ministerial ambitions but told a lunch for political journalists winning the election had to be Labour\\'s election. But he insisted the recent squabbles between Mr Blair and Mr Brown were not \"perceived as a problem by the voters,\" adding there was no impression of governmental incompetence. Mr Cook argued that more prominence was given to these matters because there was \"not an alternative source of opposition to the government\". He warned the \"Abstentions Party\" was the real challenge to Labour - and they would not be motivated by Mr Blair\\'s promise to produce an \"unremittingly New Labour\" election manifesto. His comments come after Dave Prentis, the leader of Britain\\'s biggest union Unison, told the Daily Record newspaper he wants a date to be set for Mr Blair to be replaced as Labour leader.',\n",
              "  'Research fears over Kelly\\'s views..Scientists have expressed concerns that new education secretary Ruth Kelly\\'s religious views could hamper vital scientific research...Ms Kelly, who is Catholic, is reported to be \"pro-life\" and has opposed embryo research. Medical Research Council Professor Nancy Rothwell said Ms Kelly\\'s views mattered as she was responsible for training future scientists. The Department for Education and Skills would not comment on the concerns...A spokeswoman said: \"It is not news that Ms Kelly is a Catholic but we are not going into any details on this.\" But she added that claims Ms Kelly was in charge of a £1bn university research budget were not true. It was down to the Higher Education Funding Council and the research councils to decide on universities\\' research allocations. British law is open to the cloning of human embryos to create stem cells, master cells that can develop into all the body\\'s tissue types. This cloning activity is not permitted for reproductive purposes - only for research into new disease treatments. However, it is controversial because it involves the destruction of embryos...Professor Rothwell, who is also vice-president of research at Manchester University, told the Times Higher Education Supplement it would worry her \"a great deal\" if ministers were anti-stem cell. She said: \"The views of ministers in the DfES do matter as they are responsible for training the next generation of scientists. \"You can\\'t have a higher education policy that is at odds with the government\\'s science policy.\" Head of developmental genetics at the National Institute of Medical Research, Professor Robin Lovell-Badge, said he had witnessed the confused situation in the US where many religious groups opposed the practice. He said: \"If someone as senior as Ruth Kelly is not going to favour stem cell research we will end up with a similarly schizophrenic system in this country. It is very worrying.\" But fertility expert Lord Winston said he thought it was \"rather good\" ministers held ethical views. Concerns have also been raised by \"pro-choice\" organisations that Ms Kelly\\'s views might affect sex education policy in schools...Family Planning Association chief executive, Anne Weyman, said teaching pupils about contraception and abortion were key. \"Young people must be informed about all the issues within sexual health, which include contraception and abortion. \"I think it is very important that the government maintains its commitment to the teenage pregnancy strategy.\" Currently, individual schools devise their own sex education policies based on a framework provided by the DfES. Ms Kelly has not set out her detailed views on either issue yet, but has said she intends to put parents first in education policy. This would include the quality of teaching, classroom discipline and academic standards in schools, she said.',\n",
              "  'Chancellor rallies Labour voters..Gordon Brown has issued a rallying cry, telling supporters the \"stakes are too high\" to stay at home or protest vote in the forthcoming general election...The chancellor said the vote - expected to fall on 5 May - will give a \"clear and fundamental\" choice between Labour investment and Conservative cuts. Speaking at Labour\\'s spring conference in Gateshead, Mr Brown claimed the NHS was not safe in Conservative hands. He said Tory plans to cut £35bn tax would \"cut deep into public service\"...To a packed audience at Gateshead\\'s Sage Centre, the chancellor said the cuts proposed by shadow chancellor Oliver Letwin were the equivalent of sacking every teacher, GP and nurse in the country, he told activists. Laying into the Conservative\\'s record in government he said: \"I give you this promise - with Labour, Britain will never return to the mistakes of ERM and 10% inflation, 15% interest rates, £3bn in lost reserves, 250,000 repossessed, one million in negative equity and three million unemployed. \"Never again Tory boom and bust...\"This will be the central dividing line at the election, between a Conservative Party taking Britain back and planning deep cuts of £35bn in our services, and a Labour government taking Britain forward, which on a platform of stability will reform and renew our hospitals, schools and public services and, I am proud to say, spend by 2008 £60bn more.\" Turning to the economy, the chancellor pledged to continue economic stability and growth in a third term in power...He said after seven years Labour had transformed from a party not trusted with the economy to \"the only party trusted with the economy\". It was now a \"party not just of employees, but of employers and managers\", he said. In the speech - which prompted a standing ovation from an audience clearly \"warm\" to Mr Brown - he also promised to end teenage unemployment within the next five years. He also highlighted plans for 100% debt relief for the world\\'s poorest countries, a national minimum wage for 16 and 17-year-olds and the creation of a network of children\\'s centres and flexibility in maternity leave. The prime minister is to take part later on Saturday in an interactive question and answer session, fielding queries sent in by e-mail, text message and telephone as part of Labour\\'s attempt to engage the public in their campaign.',\n",
              "  'Fox attacks Blair\\'s Tory \\'lies\\'..Tony Blair lied when he took the UK to war so has no qualms about lying in the election campaign, say the Tories...Tory co-chairman Liam Fox was speaking after Mr Blair told Labour members the Tories offered a \"hard right agenda\". Dr Fox told BBC Radio: \"If you are willing to lie about the reasons for going to war, I guess you are going to lie about anything at all.\" He would not discuss reports the party repaid £500,000 to Lord Ashcroft after he predicted an election defeat...The prime minister ratcheted up Labour\\'s pre-election campaigning at the weekend with a helicopter tour of the country and his speech at the party\\'s spring conference. He insisted he did not know the poll date, but it is widely expected to be 5 May...In what was seen as a highly personal speech in Gateshead on Sunday, Mr Blair said: \"I have the same passion and hunger as when I first walked through the door of 10 Downing Street.\" He described his relationship with the public as starting euphoric, then struggling to live up to the expectations, and reaching the point of raised voices and \"throwing crockery\". He warned his supporters against complacency, saying: \"It\\'s a fight for the future of our country, it\\'s a fight that for Britain and the people of Britain we have to win.\"..Mr Blair said that whether the public chose Michael Howard or Mr Kennedy, it would result in \"a Tory government not a Labour government and a country that goes back and does not move forward\". Dr Fox accused Mr Blair and other Cabinet ministers of telling lies about their opponents\\' policies and then attacking the lies. \"What we learned at the weekend is what Labour tactics are going to be and it\\'s going to be fear and smear,\" he told BBC News. The Tory co-chairman attacked Labour\\'s six new pledges as \"vacuous\" and said Mr Blair was very worried voters would take revenge for his failure to deliver. Dr Fox refused to discuss weekend newspaper reports that the party had repaid £500,000 to former Tory Treasurer Lord Ashcroft after he said the party could not win the election. \"We repay loans when they are due but do not comment to individual financial matters,\" he said, insisting he enjoyed a \"warm and constructive\" relationship to Lord Ashcroft...Meanwhile Lib Dem leader Charles Kennedy is expected to attack Mr Blair\\'s words as he begins a nationwide tour on Monday. Mr Kennedy is accelerating Lib Dem election preparations this week as he visits Manchester, Liverpool, Leicester, Somerset, Basingstoke, Shrewsbury, Dorset and Torbay. He said: \"This is three-party politics. In the northern cities, the contest is between Labour and the Liberal Democrats. \"In southern and rural seats - especially in the South West - the principal contenders are the Liberal Democrats and the Conservatives, who are out of the running in Scotland and Wales.\" The Lib Dems accuse Mr Blair of making a \"touchy-feely\" speech to Labour delegates which will not help him regain public trust.',\n",
              "  'Tories unveil quango blitz plans..Plans to abolish 162 quangos have been unveiled by the Conservatives as part of their effort to show how government red tape can be cut...Six government units would also be scrapped under proposals which the Tories say would save more than £4.3bn. Among the targets are strategic health authorities and the new fair access regulator for universities. Tory frontbencher John Redwood said Britain needed a slimmer government and lower taxes to be competitive...The plans would abolish regional assemblies and other regional bodies, such as boards tackling industrial development and housing. Their powers would be returned to elected local councils or national government. The Tories say the strategic health authorities are not needed as it is better that local people, rather than officials, run hospitals and surgeries...Announcing the plans, Mr Redwood said: \"Mr Blair has forgotten the interests of taxpayers, and has broken the pledges he made. \"Far from improving public services, spending taxpayers\\' money on quangos has led only to more bureaucrats, more regulation and higher taxes.\" His party leader, Michael Howard, argued a change in direction was needed to get a grip on spending. \"Labour are creating Two Britains: the Britain of the forgotten majority and bureaucratic Britain,\" he said. \"In the real world, people are working harder just to stand still. They\\'ve seen their pensions knocked for six. \"They\\'re being squeezed by extra taxes. The forgotten majority are paying the price of bureaucratic Britain.\"..The government has announced plans to cut 100,000 civil servants as part of its efficiency drive. But Chief Secretary to the Treasury Paul Boateng attacked the Tory plans. \"The Conservatives are committed to cutting Labour\\'s public spending plans by a massive £35 billion,\" he said. \"Cuts on this scale cannot be found from cutting \\'bureaucracy\\' but would require massive cuts to front-line public services such as schools, hospitals and the police.\" The Liberal Democrats have said they would cut the number of Whitehall departments to make sure money reaches frontline services.'],\n",
              " 'Summaries': ['- Increase in the stamp duty threshold from £60,000 - A freeze on petrol duty - An extension of tax credit scheme for poorer families - Possible help for pensioners The stamp duty threshold rise is intended to help first time buyers - a likely theme of all three of the main parties\\' general election manifestos.The chancellor is expected to freeze petrol duty and raise the stamp duty threshold from £60,000.The Tories are also thought likely to propose increased thresholds, with shadow chancellor Oliver Letwin branding stamp duty a \"classic Labour stealth tax\".Tax credits As a result, the number of properties incurring stamp duty has rocketed as has the government\\'s tax take.Since then, average UK property prices have more than doubled while the starting threshold for stamp duty has not increased.For the Lib Dems David Laws said: \"The chancellor will no doubt tell us today how wonderfully the economy is doing,\" he said.The Liberal Democrats unveiled their own proposals to raise the stamp duty threshold to £150,000 in February.\"If Labour is elected there will be a very substantial tax increase in the Budget after the election, of the order of around £10bn.\"',\n",
              "  '\"They are very much not for the good and will destroy Scotland\\'s regiments by moulding them into a single super regiment which will lead to severe recruitment problems, a loss of local connections to those regiments and a loss to Scotland of an important part of her heritage and, most importantly, her future - the regiments are the envy of armies around the world.\"The proposals to either merge or amalgamate the six regiments into a super regiment sparked a political outcry, with Labour backbenchers and opposition politicians opposing the plan.The proposals include cutting Scotland\\'s six single-battalion regiments to five and merging these into a super regiment.Speaking in Scotland last week, Mr Blair said the aim was to preserve tradition but introduce a more effective structure and hinted that a super regiment was likely.A committee of the Army Board, which is made up of the most senior defence figures, will discuss plans for restructuring regiments on Monday.Speaking ahead of the expected Army Board meeting, a spokesman said: \"The government and the Army Board have spent the past four months attempting to trick serving soldiers and the public into thinking their planned changes for the Scottish regiments are for the good of the Army and for that of the serving soldier.Under their vision, it would be one of five in the new super regiment.He said: \"They don\\'t want to get rid of the history or the traditions of the regiment or the local connections - far from it, all they want to do is make sure they can transfer people easily across regiments and deploy them more flexibly.\"',\n",
              "  'Michael Howard has denied his shadow cabinet was split over its decision to back controversial Labour plans to introduce ID cards.Mr Howard said the police had said ID cards could \"help them foil a terror bomb plot in which people could lose their lives\".He said: \"This has all the signs of Michael Howard overruling colleagues\\' concerns over ID cards.\"He also said he was confident shadow home secretary Mr Davis would \"set out the position very clearly\" when he stands up to debate the matter next week.He had decided to support the plans as the police said they would help fight terror, crime and illegal immigration.Tory ex-minister Douglas Hogg said he opposed the plans for ID cards branding them a \"regressive\" step which would intrude into the lives of ordinary citizens without any counterbalancing benefits.They said they would also press Labour over whether objectives could be met and whether the Home Office would be able to deliver them.But Mr Howard denied Mr Yeo, his transport and environment spokesman, said the plans \"stink\".Sources within the party told the BBC Mr Howard had always been in favour of ID cards, and tried to introduce them when he was Home Secretary.If they haven\\'t [ID cards] they are going to be detained.\"And they pledged to assess the cost effectiveness of ID cards and whether people\\'s privacy would be properly protected.',\n",
              "  'The report said individual registration should be treated carefully as 12% of voters disappeared from the electoral roll in Northern Ireland when it was introduced in 2002.ODPM committee chairman Andrew Bennett said individual voter registration, as opposed to registration by household, should be quickly introduced as it could \"dramatically reduce the chances of fraud\".\"It is vital that we move ahead with the Northern Ireland system of individual electoral registration to safeguard the integrity of the Britain\\'s electoral system,\" he said.A report by two MPs committees called on Thursday for urgent changes to the electoral registration system to combat vote rigging and boost turnout.Figures for the 2001 general election suggest 29% of people aged between 18 and 24, and 19% of black voters were not on the electoral roll.The report said the government should consider fines for unregistered voters, but accepted many experts said it would be an expensive system that would be hard to enforce.But in a written response to Labour MP Gordon Prentice, the government said it would normally invite observers to any UK election.It said incentives to register, such as £20 council tax rebate, were likely to be seen as \"gimmicks\" and risked undermining the integrity of the system, MPs said.The government has looked at ways of boosting voter turnout, which fell to 59% in the last general election in 2001.',\n",
              "  'UKIP\\'s leader, Roger Knapman, has said he is glad to see the back of Mr Kilroy-Silk.\"He has remarkable ability to influence people but, sadly, after the [European] election it became clear that he was more interested in the Robert Kilroy-Silk Party than the UK Independence Party so it was nice knowing him, now \\'goodbye\\',\" he said.UKIP leader Roger Knapman says he is glad to see the back of Mr Kilroy-Silk.UKIP won 31% of the vote in Erewash in last June\\'s European elections - with Mr Kilroy-Silk among their candidates for the region.UKIP officials also argue Mr Kilroy-Silk has not been \"straightforward\" in attacking the party he once wanted to lead.Mr Kilroy-Silk announced his plans a day after launching his new party, Veritas, the Latin for truth.Mr Kilroy-Silk quit UKIP last week after months of tension as he vied unsuccessfully for the leadership of that party.Mr Kilroy-Silk was joined in the new venture by one of UKIP\\'s two London Assembly members, Damien Hockney, who is now Veritas\\' deputy leader.Ex-chat show host Robert Kilroy-Silk is to contest the Derbyshire seat of Erewash at the next general election.',\n",
              "  'Mr Bannatyne has previously given Labour £50,000.Mr Bannatyne said: \"Disunity in the Cabinet has a corrosive effect on the country.He warned the \"Abstentions Party\" was the real challenge to Labour - and they would not be motivated by Mr Blair\\'s promise to produce an \"unremittingly New Labour\" election manifesto.But he insisted the recent squabbles between Mr Blair and Mr Brown were not \"perceived as a problem by the voters,\" adding there was no impression of governmental incompetence.Mr Cook argued that more prominence was given to these matters because there was \"not an alternative source of opposition to the government\".His spokesman said it was highly unlikely he would give Labour more money, although he would remain a supporter and not fund the Conservatives.His broadside came as ex-Foreign Secretary Robin Cook said he hoped Mr Brown would be premier at some point.The reported feud between Tony Blair and Gordon Brown has prompted a Labour donor to say he will almost certainly refuse to give more funds.Duncan Bannatyne also attacked the government over Iraq and its \"poor\" response to the Asian tsunami crisis.',\n",
              "  'Medical Research Council Professor Nancy Rothwell said Ms Kelly\\'s views mattered as she was responsible for training future scientists.Ms Kelly has not set out her detailed views on either issue yet, but has said she intends to put parents first in education policy.It was down to the Higher Education Funding Council and the research councils to decide on universities\\' research allocations.Ms Kelly, who is Catholic, is reported to be \"pro-life\" and has opposed embryo research.Concerns have also been raised by \"pro-choice\" organisations that Ms Kelly\\'s views might affect sex education policy in schools.He said: \"If someone as senior as Ruth Kelly is not going to favour stem cell research we will end up with a similarly schizophrenic system in this country.Professor Rothwell, who is also vice-president of research at Manchester University, told the Times Higher Education Supplement it would worry her \"a great deal\" if ministers were anti-stem cell.Scientists have expressed concerns that new education secretary Ruth Kelly\\'s religious views could hamper vital scientific research.A spokeswoman said: \"It is not news that Ms Kelly is a Catholic but we are not going into any details on this.\"But she added that claims Ms Kelly was in charge of a £1bn university research budget were not true.',\n",
              "  'He said Tory plans to cut £35bn tax would \"cut deep into public service\".\"This will be the central dividing line at the election, between a Conservative Party taking Britain back and planning deep cuts of £35bn in our services, and a Labour government taking Britain forward, which on a platform of stability will reform and renew our hospitals, schools and public services and, I am proud to say, spend by 2008 £60bn more.\"The chancellor said the vote - expected to fall on 5 May - will give a \"clear and fundamental\" choice between Labour investment and Conservative cuts.He said after seven years Labour had transformed from a party not trusted with the economy to \"the only party trusted with the economy\".It was now a \"party not just of employees, but of employers and managers\", he said.To a packed audience at Gateshead\\'s Sage Centre, the chancellor said the cuts proposed by shadow chancellor Oliver Letwin were the equivalent of sacking every teacher, GP and nurse in the country, he told activists.',\n",
              "  'Mr Blair said that whether the public chose Michael Howard or Mr Kennedy, it would result in \"a Tory government not a Labour government and a country that goes back and does not move forward\".Tory co-chairman Liam Fox was speaking after Mr Blair told Labour members the Tories offered a \"hard right agenda\".Dr Fox refused to discuss weekend newspaper reports that the party had repaid £500,000 to former Tory Treasurer Lord Ashcroft after he said the party could not win the election.The Lib Dems accuse Mr Blair of making a \"touchy-feely\" speech to Labour delegates which will not help him regain public trust.The Tory co-chairman attacked Labour\\'s six new pledges as \"vacuous\" and said Mr Blair was very worried voters would take revenge for his failure to deliver.Dr Fox accused Mr Blair and other Cabinet ministers of telling lies about their opponents\\' policies and then attacking the lies.In what was seen as a highly personal speech in Gateshead on Sunday, Mr Blair said: \"I have the same passion and hunger as when I first walked through the door of 10 Downing Street.\"Meanwhile Lib Dem leader Charles Kennedy is expected to attack Mr Blair\\'s words as he begins a nationwide tour on Monday.He would not discuss reports the party repaid £500,000 to Lord Ashcroft after he predicted an election defeat.',\n",
              "  'Six government units would also be scrapped under proposals which the Tories say would save more than £4.3bn.Tory frontbencher John Redwood said Britain needed a slimmer government and lower taxes to be competitive.The government has announced plans to cut 100,000 civil servants as part of its efficiency drive.\"The Conservatives are committed to cutting Labour\\'s public spending plans by a massive £35 billion,\" he said.The Tories say the strategic health authorities are not needed as it is better that local people, rather than officials, run hospitals and surgeries.Plans to abolish 162 quangos have been unveiled by the Conservatives as part of their effort to show how government red tape can be cut.The Liberal Democrats have said they would cut the number of Whitehall departments to make sure money reaches frontline services.\"Labour are creating Two Britains: the Britain of the forgotten majority and bureaucratic Britain,\" he said.']}"
            ]
          },
          "metadata": {},
          "execution_count": 15
        }
      ]
    },
    {
      "cell_type": "markdown",
      "source": [
        "# **Splitting the Dataset into Training and Testing Sets**"
      ],
      "metadata": {
        "id": "A74ihr2vB3Yw"
      }
    },
    {
      "source": [
        "full_dataset = dataset.train_test_split(test_size=0.2, shuffle=True)"
      ],
      "cell_type": "code",
      "metadata": {
        "id": "0mNfTl8UPEfv"
      },
      "execution_count": 10,
      "outputs": []
    },
    {
      "cell_type": "code",
      "source": [
        "dataset_train = full_dataset['train']\n",
        "dataset_valid = full_dataset['test']"
      ],
      "metadata": {
        "id": "Y3XJowzzPwh5"
      },
      "execution_count": 11,
      "outputs": []
    },
    {
      "cell_type": "markdown",
      "source": [
        "# **Preparing DataFrames for Exploratory Data Analysis (EDA)**"
      ],
      "metadata": {
        "id": "IpOw_PP2CR54"
      }
    },
    {
      "cell_type": "code",
      "source": [
        "df1 = pd.DataFrame(dataset_train)\n",
        "df2 = pd.DataFrame(dataset_valid)\n",
        "\n",
        "# Concatenate the datasets for overall EDA\n",
        "df = pd.concat([df1, df2])"
      ],
      "metadata": {
        "id": "Bsp8eS0zQSdC"
      },
      "execution_count": 18,
      "outputs": []
    },
    {
      "cell_type": "code",
      "source": [
        "df.head()"
      ],
      "metadata": {
        "colab": {
          "base_uri": "https://localhost:8080/",
          "height": 206
        },
        "id": "NSzxLy5_Qa-a",
        "outputId": "228a87f9-2077-4894-a9df-eab12fb41c34"
      },
      "execution_count": 20,
      "outputs": [
        {
          "output_type": "execute_result",
          "data": {
            "text/plain": [
              "       File_path                                           Articles  \\\n",
              "0       business  Disaster claims 'less than $10bn'..Insurers ha...   \n",
              "1          sport  Hodges announces rugby retirement..Scarlets an...   \n",
              "2  entertainment  Top stars join US tsunami TV show..Brad Pitt, ...   \n",
              "3       business  Qwest may spark MCI bidding war..US phone comp...   \n",
              "4       business  Russia WTO talks 'make progress'..Talks on Rus...   \n",
              "\n",
              "                                           Summaries  article_length  \n",
              "0  The impact on US insurance companies is not ex...            4043  \n",
              "1  The 36-year-old, who has 54 caps, was Llanelli...            1690  \n",
              "2  George Clooney recently reacted angrily to a T...            2296  \n",
              "3  Qwest said on Wednesday that MCI had rejected ...            2406  \n",
              "4  While pinpointing several areas in which there...            1630  "
            ],
            "text/html": [
              "\n",
              "  <div id=\"df-e0d2f2b2-c0d5-42ea-ae39-91c3543c4530\" class=\"colab-df-container\">\n",
              "    <div>\n",
              "<style scoped>\n",
              "    .dataframe tbody tr th:only-of-type {\n",
              "        vertical-align: middle;\n",
              "    }\n",
              "\n",
              "    .dataframe tbody tr th {\n",
              "        vertical-align: top;\n",
              "    }\n",
              "\n",
              "    .dataframe thead th {\n",
              "        text-align: right;\n",
              "    }\n",
              "</style>\n",
              "<table border=\"1\" class=\"dataframe\">\n",
              "  <thead>\n",
              "    <tr style=\"text-align: right;\">\n",
              "      <th></th>\n",
              "      <th>File_path</th>\n",
              "      <th>Articles</th>\n",
              "      <th>Summaries</th>\n",
              "      <th>article_length</th>\n",
              "    </tr>\n",
              "  </thead>\n",
              "  <tbody>\n",
              "    <tr>\n",
              "      <th>0</th>\n",
              "      <td>business</td>\n",
              "      <td>Disaster claims 'less than $10bn'..Insurers ha...</td>\n",
              "      <td>The impact on US insurance companies is not ex...</td>\n",
              "      <td>4043</td>\n",
              "    </tr>\n",
              "    <tr>\n",
              "      <th>1</th>\n",
              "      <td>sport</td>\n",
              "      <td>Hodges announces rugby retirement..Scarlets an...</td>\n",
              "      <td>The 36-year-old, who has 54 caps, was Llanelli...</td>\n",
              "      <td>1690</td>\n",
              "    </tr>\n",
              "    <tr>\n",
              "      <th>2</th>\n",
              "      <td>entertainment</td>\n",
              "      <td>Top stars join US tsunami TV show..Brad Pitt, ...</td>\n",
              "      <td>George Clooney recently reacted angrily to a T...</td>\n",
              "      <td>2296</td>\n",
              "    </tr>\n",
              "    <tr>\n",
              "      <th>3</th>\n",
              "      <td>business</td>\n",
              "      <td>Qwest may spark MCI bidding war..US phone comp...</td>\n",
              "      <td>Qwest said on Wednesday that MCI had rejected ...</td>\n",
              "      <td>2406</td>\n",
              "    </tr>\n",
              "    <tr>\n",
              "      <th>4</th>\n",
              "      <td>business</td>\n",
              "      <td>Russia WTO talks 'make progress'..Talks on Rus...</td>\n",
              "      <td>While pinpointing several areas in which there...</td>\n",
              "      <td>1630</td>\n",
              "    </tr>\n",
              "  </tbody>\n",
              "</table>\n",
              "</div>\n",
              "    <div class=\"colab-df-buttons\">\n",
              "\n",
              "  <div class=\"colab-df-container\">\n",
              "    <button class=\"colab-df-convert\" onclick=\"convertToInteractive('df-e0d2f2b2-c0d5-42ea-ae39-91c3543c4530')\"\n",
              "            title=\"Convert this dataframe to an interactive table.\"\n",
              "            style=\"display:none;\">\n",
              "\n",
              "  <svg xmlns=\"http://www.w3.org/2000/svg\" height=\"24px\" viewBox=\"0 -960 960 960\">\n",
              "    <path d=\"M120-120v-720h720v720H120Zm60-500h600v-160H180v160Zm220 220h160v-160H400v160Zm0 220h160v-160H400v160ZM180-400h160v-160H180v160Zm440 0h160v-160H620v160ZM180-180h160v-160H180v160Zm440 0h160v-160H620v160Z\"/>\n",
              "  </svg>\n",
              "    </button>\n",
              "\n",
              "  <style>\n",
              "    .colab-df-container {\n",
              "      display:flex;\n",
              "      gap: 12px;\n",
              "    }\n",
              "\n",
              "    .colab-df-convert {\n",
              "      background-color: #E8F0FE;\n",
              "      border: none;\n",
              "      border-radius: 50%;\n",
              "      cursor: pointer;\n",
              "      display: none;\n",
              "      fill: #1967D2;\n",
              "      height: 32px;\n",
              "      padding: 0 0 0 0;\n",
              "      width: 32px;\n",
              "    }\n",
              "\n",
              "    .colab-df-convert:hover {\n",
              "      background-color: #E2EBFA;\n",
              "      box-shadow: 0px 1px 2px rgba(60, 64, 67, 0.3), 0px 1px 3px 1px rgba(60, 64, 67, 0.15);\n",
              "      fill: #174EA6;\n",
              "    }\n",
              "\n",
              "    .colab-df-buttons div {\n",
              "      margin-bottom: 4px;\n",
              "    }\n",
              "\n",
              "    [theme=dark] .colab-df-convert {\n",
              "      background-color: #3B4455;\n",
              "      fill: #D2E3FC;\n",
              "    }\n",
              "\n",
              "    [theme=dark] .colab-df-convert:hover {\n",
              "      background-color: #434B5C;\n",
              "      box-shadow: 0px 1px 3px 1px rgba(0, 0, 0, 0.15);\n",
              "      filter: drop-shadow(0px 1px 2px rgba(0, 0, 0, 0.3));\n",
              "      fill: #FFFFFF;\n",
              "    }\n",
              "  </style>\n",
              "\n",
              "    <script>\n",
              "      const buttonEl =\n",
              "        document.querySelector('#df-e0d2f2b2-c0d5-42ea-ae39-91c3543c4530 button.colab-df-convert');\n",
              "      buttonEl.style.display =\n",
              "        google.colab.kernel.accessAllowed ? 'block' : 'none';\n",
              "\n",
              "      async function convertToInteractive(key) {\n",
              "        const element = document.querySelector('#df-e0d2f2b2-c0d5-42ea-ae39-91c3543c4530');\n",
              "        const dataTable =\n",
              "          await google.colab.kernel.invokeFunction('convertToInteractive',\n",
              "                                                    [key], {});\n",
              "        if (!dataTable) return;\n",
              "\n",
              "        const docLinkHtml = 'Like what you see? Visit the ' +\n",
              "          '<a target=\"_blank\" href=https://colab.research.google.com/notebooks/data_table.ipynb>data table notebook</a>'\n",
              "          + ' to learn more about interactive tables.';\n",
              "        element.innerHTML = '';\n",
              "        dataTable['output_type'] = 'display_data';\n",
              "        await google.colab.output.renderOutput(dataTable, element);\n",
              "        const docLink = document.createElement('div');\n",
              "        docLink.innerHTML = docLinkHtml;\n",
              "        element.appendChild(docLink);\n",
              "      }\n",
              "    </script>\n",
              "  </div>\n",
              "\n",
              "\n",
              "<div id=\"df-7e7251ed-0b65-4d3c-a3bf-89b4f401b0be\">\n",
              "  <button class=\"colab-df-quickchart\" onclick=\"quickchart('df-7e7251ed-0b65-4d3c-a3bf-89b4f401b0be')\"\n",
              "            title=\"Suggest charts\"\n",
              "            style=\"display:none;\">\n",
              "\n",
              "<svg xmlns=\"http://www.w3.org/2000/svg\" height=\"24px\"viewBox=\"0 0 24 24\"\n",
              "     width=\"24px\">\n",
              "    <g>\n",
              "        <path d=\"M19 3H5c-1.1 0-2 .9-2 2v14c0 1.1.9 2 2 2h14c1.1 0 2-.9 2-2V5c0-1.1-.9-2-2-2zM9 17H7v-7h2v7zm4 0h-2V7h2v10zm4 0h-2v-4h2v4z\"/>\n",
              "    </g>\n",
              "</svg>\n",
              "  </button>\n",
              "\n",
              "<style>\n",
              "  .colab-df-quickchart {\n",
              "      --bg-color: #E8F0FE;\n",
              "      --fill-color: #1967D2;\n",
              "      --hover-bg-color: #E2EBFA;\n",
              "      --hover-fill-color: #174EA6;\n",
              "      --disabled-fill-color: #AAA;\n",
              "      --disabled-bg-color: #DDD;\n",
              "  }\n",
              "\n",
              "  [theme=dark] .colab-df-quickchart {\n",
              "      --bg-color: #3B4455;\n",
              "      --fill-color: #D2E3FC;\n",
              "      --hover-bg-color: #434B5C;\n",
              "      --hover-fill-color: #FFFFFF;\n",
              "      --disabled-bg-color: #3B4455;\n",
              "      --disabled-fill-color: #666;\n",
              "  }\n",
              "\n",
              "  .colab-df-quickchart {\n",
              "    background-color: var(--bg-color);\n",
              "    border: none;\n",
              "    border-radius: 50%;\n",
              "    cursor: pointer;\n",
              "    display: none;\n",
              "    fill: var(--fill-color);\n",
              "    height: 32px;\n",
              "    padding: 0;\n",
              "    width: 32px;\n",
              "  }\n",
              "\n",
              "  .colab-df-quickchart:hover {\n",
              "    background-color: var(--hover-bg-color);\n",
              "    box-shadow: 0 1px 2px rgba(60, 64, 67, 0.3), 0 1px 3px 1px rgba(60, 64, 67, 0.15);\n",
              "    fill: var(--button-hover-fill-color);\n",
              "  }\n",
              "\n",
              "  .colab-df-quickchart-complete:disabled,\n",
              "  .colab-df-quickchart-complete:disabled:hover {\n",
              "    background-color: var(--disabled-bg-color);\n",
              "    fill: var(--disabled-fill-color);\n",
              "    box-shadow: none;\n",
              "  }\n",
              "\n",
              "  .colab-df-spinner {\n",
              "    border: 2px solid var(--fill-color);\n",
              "    border-color: transparent;\n",
              "    border-bottom-color: var(--fill-color);\n",
              "    animation:\n",
              "      spin 1s steps(1) infinite;\n",
              "  }\n",
              "\n",
              "  @keyframes spin {\n",
              "    0% {\n",
              "      border-color: transparent;\n",
              "      border-bottom-color: var(--fill-color);\n",
              "      border-left-color: var(--fill-color);\n",
              "    }\n",
              "    20% {\n",
              "      border-color: transparent;\n",
              "      border-left-color: var(--fill-color);\n",
              "      border-top-color: var(--fill-color);\n",
              "    }\n",
              "    30% {\n",
              "      border-color: transparent;\n",
              "      border-left-color: var(--fill-color);\n",
              "      border-top-color: var(--fill-color);\n",
              "      border-right-color: var(--fill-color);\n",
              "    }\n",
              "    40% {\n",
              "      border-color: transparent;\n",
              "      border-right-color: var(--fill-color);\n",
              "      border-top-color: var(--fill-color);\n",
              "    }\n",
              "    60% {\n",
              "      border-color: transparent;\n",
              "      border-right-color: var(--fill-color);\n",
              "    }\n",
              "    80% {\n",
              "      border-color: transparent;\n",
              "      border-right-color: var(--fill-color);\n",
              "      border-bottom-color: var(--fill-color);\n",
              "    }\n",
              "    90% {\n",
              "      border-color: transparent;\n",
              "      border-bottom-color: var(--fill-color);\n",
              "    }\n",
              "  }\n",
              "</style>\n",
              "\n",
              "  <script>\n",
              "    async function quickchart(key) {\n",
              "      const quickchartButtonEl =\n",
              "        document.querySelector('#' + key + ' button');\n",
              "      quickchartButtonEl.disabled = true;  // To prevent multiple clicks.\n",
              "      quickchartButtonEl.classList.add('colab-df-spinner');\n",
              "      try {\n",
              "        const charts = await google.colab.kernel.invokeFunction(\n",
              "            'suggestCharts', [key], {});\n",
              "      } catch (error) {\n",
              "        console.error('Error during call to suggestCharts:', error);\n",
              "      }\n",
              "      quickchartButtonEl.classList.remove('colab-df-spinner');\n",
              "      quickchartButtonEl.classList.add('colab-df-quickchart-complete');\n",
              "    }\n",
              "    (() => {\n",
              "      let quickchartButtonEl =\n",
              "        document.querySelector('#df-7e7251ed-0b65-4d3c-a3bf-89b4f401b0be button');\n",
              "      quickchartButtonEl.style.display =\n",
              "        google.colab.kernel.accessAllowed ? 'block' : 'none';\n",
              "    })();\n",
              "  </script>\n",
              "</div>\n",
              "\n",
              "    </div>\n",
              "  </div>\n"
            ],
            "application/vnd.google.colaboratory.intrinsic+json": {
              "type": "dataframe",
              "variable_name": "df",
              "summary": "{\n  \"name\": \"df\",\n  \"rows\": 2224,\n  \"fields\": [\n    {\n      \"column\": \"File_path\",\n      \"properties\": {\n        \"dtype\": \"category\",\n        \"num_unique_values\": 5,\n        \"samples\": [\n          \"sport\",\n          \"politics\",\n          \"entertainment\"\n        ],\n        \"semantic_type\": \"\",\n        \"description\": \"\"\n      }\n    },\n    {\n      \"column\": \"Articles\",\n      \"properties\": {\n        \"dtype\": \"string\",\n        \"num_unique_values\": 2126,\n        \"samples\": [\n          \"Paraguay novel wins US book prize..A novel set in 19th century Paraguay has won the $10,000 (\\u00a35,390) fiction prize at the US National Book Awards...Lily Tuck's The News From Paraguay is a fictionalised tale about Paraguayan leader Francisco Solano Lopez and his Irish mistress. But the annual awards, which were presented in New York on Wednesday, were not without controversy. Children's author Judy Blume, who was given an honourary medal, used the ceremony to speak out over censorship...Sales of Blume's books have exceeded 75 million, but her work - which features frank narratives about families, religion and sexuality - is closely watched by the censors. Blume said: \\\"The urge to ban is contagious. It spreads like wildfire from community to community. Please speak out. Censors hate publicity.\\\" Her medal marks the second year in a row the honourary prize went to someone as notable for popular success as literary greatness. Last year's honorary winner, Stephen King, accused the industry during the 2003 ceremony of snobbery against popular writers. But his argument that the award should help sell books instead of honouring excellence is not shared by everyone...This year's fiction panel overlooked high-profile works such as Philip Roth's The Plot Against America and instead chose five little-known books, all by New York-based women. One fiction judge, Stewart O'Nan, carried around a note written on a napkin that said: \\\"I would hope that our caring more for the quality of a work than its sales figures make us a friend of books, not an enemy.\\\" The National Book Awards non-fiction prize was awarded to Kevin Boyle's for Arc of Justice, which focuses on a black family's fight to live in a white Detroit neighbourhood in the 1920s. The award had created a lot of interest this year after the surprise inclusion of the of the 9-11 Commission Report looking into the events of the 11 September terrorist attacks on the US. Pete Hautman won the young people's literature prize for his novel Godless. The winner in the poetry category was Jean Valentine for Door in the Mountain: New and Collected Poems, 1965-2003.\",\n          \"Screensaver tackles spam websites..Net users are getting the chance to fight back against spam websites..Internet portal Lycos has made a screensaver that endlessly requests data from sites that sell the goods and services mentioned in spam e-mail. Lycos hopes it will make the monthly bandwidth bills of spammers soar by keeping their servers running flat out. The net firm estimates that if enough people sign up and download the tool, spammers could end up paying to send out terabytes of data...\\\"We've never really solved the big problem of spam which is that its so damn cheap and easy to do,\\\" said Malte Pollmann, spokesman for Lycos Europe. \\\"In the past we have built up the spam filtering systems for our users,\\\" he said, \\\"but now we are going to go one step further.\\\"..\\\"We've found a way to make it much higher cost for spammers by putting a load on their servers.\\\" By getting thousands of people to download and use the screensaver, Lycos hopes to get spamming websites constantly running at almost full capacity. Mr Pollmann said there was no intention to stop the spam websites working by subjecting them with too much data to cope with. He said the screensaver had been carefully written to ensure that the amount of traffic it generated from each user did not overload the web. \\\"Every single user will contribute three to four megabytes per day,\\\" he said, \\\"about one MP3 file.\\\" But, he said, if enough people sign up spamming websites could be force to pay for gigabytes of traffic every single day. Lycos did not want to use e-mail to fight back, said Mr Pollmann. \\\"That would be fighting one bad thing with another bad thing,\\\" he said...The sites being targeted are those mentioned in spam e-mail messages and which sell the goods and services on offer...Typically these sites are different to those that used to send out spam e-mail and they typically only get a few thousand visitors per day. The list of sites that the screensaver will target is taken from real-time blacklists generated by organisations such as Spamcop. To limit the chance of mistakes being made, Lycos is using people to ensure that the sites are selling spam goods. As these sites rarely use advertising to offset hosting costs, the burden of high-bandwidth bills could make spam too expensive, said Mr Pollmann. Sites will also slow down under the weight of data requests. Early results show that response times of some sites have deteriorated by up to 85%. Users do not have to be registered users of Lycos to download and use the screensaver. While working, the screensaver shows the websites that are being bothered with requests for data. The screensaver is due to be launched across Europe on 1 December and before now has only been trialled in Sweden. Despite the soft launch, Mr Pollmann said that the screensaver had been downloaded more than 20,000 times in the last four days. \\\"There's a huge user demand to not only filter spam day-by-day but to do something more,\\\" he said \\\"Before now users have never had the chance to be a bit more offensive.\\\"\",\n          \"Parties' plans for council tax..Anger at council tax rises spilled over into mass protests in 2003, when the average English bill rose 12.9%...Pensioners' protests spread - some marched, others simply refused to pay the increase. Some, such as 83-year-old Elizabeth Winkfield, said they would rather go to jail. The Audit Commission found the whole local government finance system was \\\"fundamentally flawed\\\" and all three of the main parties have said the system has to change...Labour says it wants to retain the property-based tax but reform it to make it fairer and says there is scope for councils to become more efficient. They say they are already helping pensioners with council tax bills, with a \\u00a3100 lump sum for the over-70s and last year the government capped some local councils' budgets to keep demands down. Deputy Prime Minister John Prescott has said the current system is not sustainable in the long term and said there would be \\\"radical reform\\\". The party says this year's increases will be the lowest in a decade. A report last year looked at increasing the number of council tax bands and other forms of local taxation, such as reformed business rates, although no decisions have been made. An independent inquiry into its findings, the Lyons review, is due to report back at the end of 2005...The Tories have promised a reduction on bills for pensioners, who they say have been hardest hit by year-on-year increases in council tax. They say they can save \\u00a34bn on \\\"government waste\\\", of which \\u00a31.3bn could be used to cut pensioners' bills by an average of \\u00a3340. It would not be means tested, say the Tories, because that would create more bureaucracy and could discourage people from saving for their retirement. Instead households where council tax payers are over 65 would get a rebate covering half their bill, up to a maximum of \\u00a3500. The Tories also say they are suspicious about any proposals to revalue homes - currently graded according to their value in 1991 - because they believe seven million of homes could move up a band...The Liberal Democrats want to do away with the council tax altogether and switch to a local income tax of the kind seen in the USA, Norway and Switzerland. The rate would be set locally, but administered by the Inland Revenue which they say would save at least \\u00a3300m. They say the council tax is the most unpopular and most unfair tax in Britain, because it puts a \\\"ceiling\\\" on what the richest pay. The party says it would aim for a \\u00a35,000 tax-free personal allowance, or a \\u00a37,000 allowance for the over-65s. After that income would be taxed up to \\u00a3100,000. The Lib Dems say their plan is fairer, more efficient, has already been tested abroad and offers more accountability.\"\n        ],\n        \"semantic_type\": \"\",\n        \"description\": \"\"\n      }\n    },\n    {\n      \"column\": \"Summaries\",\n      \"properties\": {\n        \"dtype\": \"string\",\n        \"num_unique_values\": 2080,\n        \"samples\": [\n          \"The Cell technology, on the other hand, uses multiple Cell processors linked together to run lots of calculations simultaneously.If Cell succeeds in becoming the living room technology of choice, however, it could provide the jump-start to the fully digital home of the future.By creating a radically new architecture, and using that architecture in a games console that is sure to be a huge seller, they hope that the Cell processor can become the dominant technology in the living room, shutting out their rivals.The speed of computer memory has been slowly increasing over the last few years, but the memory technology that accompanies the Cell is a huge leap in performance.The links between the multiple processors can also be extended to reach Cell processors in entirely different systems.The world is casting its gaze on the Cell processor for the first time, but what is so important about it, and why is it so different?Intel will be furiously working on new designs that address the problems of its current chips to create a rival technology to Cell, so that it doesn't lose its desktop PC dominance.The technology inside the Cell is being heralded as revolutionary, from a technical standpoint.This digital home of the future depends on the widespread adoption of the Cell processor and there are, as with all things, a number of reasons it could fail.Sony will be using the chip inside its PlayStation 3 console, and its dominance of the games market means that it now has a lot of power to dictate the future of computer and gaming platforms.Traditional computers - whether they are household PCs or PlayStation 2s - use a single processor to carry out the calculations that run the computer.Each Cell will be linked to the others, creating a vast home network of computing power.You can also guarantee that Microsoft and Intel are not going to sit around and let Cell take over home computing without a fight.\",\n          \"The Archbishop of Canterbury said: \\\"I am pleased that Prince Charles and Mrs Camilla Parker Bowles have decided to take this important step.\\\"But only 40% think Mrs Parker Bowles should become Princess Consort as planned after Charles becomes king.On Thursday night, Prince Charles, 56, and Mrs Parker Bowles, 57, hosted a dinner at Windsor Castle, their first public appearance since announcing their engagement.Mrs Parker Bowles has joined the prince at numerous engagements in recent years - mostly at evening events for The Prince's Trust.Mrs Parker Bowles said the prince went down on one knee to propose and added: \\\"I'm just coming down to earth.\\\"Prince Charles and Camilla Parker Bowles are awaiting the nation's reaction after announcing they are to be married on 8 April.Mrs Parker Bowles will take the title HRH Duchess of Cornwall after a civil ceremony to be held at Windsor Castle.Charles said he and his wife-to-be were \\\"absolutely delighted\\\".The marriage is likely to be a sensitive issue because Mrs Parker Bowles is divorced and her former husband is still alive.\",\n          \"World outdoor triple jump record holder and BBC pundit Jonathan Edwards believes Phillips Idowu can take gold at the European Indoor Championships.Idowu landed 17.30m at the British trials in Sheffield last month to lead the world triple jump rankings.\\\"It's all down to him, but if he jumps as well as he did in Sheffield he could win the gold medal,\\\" said Edwards.Edwards himself kept Idowu off top spot at the Manchester Games.The qualifying round of the men's triple jump in Madrid takes place on Friday with the final scheduled for Saturday.\"\n        ],\n        \"semantic_type\": \"\",\n        \"description\": \"\"\n      }\n    },\n    {\n      \"column\": \"article_length\",\n      \"properties\": {\n        \"dtype\": \"number\",\n        \"std\": 1364,\n        \"min\": 502,\n        \"max\": 25484,\n        \"num_unique_values\": 1567,\n        \"samples\": [\n          764,\n          2259,\n          3202\n        ],\n        \"semantic_type\": \"\",\n        \"description\": \"\"\n      }\n    }\n  ]\n}"
            }
          },
          "metadata": {},
          "execution_count": 20
        }
      ]
    },
    {
      "cell_type": "markdown",
      "source": [
        "# **Visualizing the Distribution of Article Lengths**"
      ],
      "metadata": {
        "id": "6nAX9wXsCiD4"
      }
    },
    {
      "cell_type": "code",
      "source": [
        "import seaborn as sns\n",
        "import matplotlib.pyplot as plt\n",
        "df['article_length'] = df['Articles'].apply(len)\n",
        "sns.histplot(df['article_length'])\n",
        "plt.title('Distribution of Article Lengths')\n",
        "plt.show()"
      ],
      "metadata": {
        "colab": {
          "base_uri": "https://localhost:8080/",
          "height": 472
        },
        "id": "LU9AbyYeQMk1",
        "outputId": "8e8b2cbe-e629-4db2-b2a8-1c4a052abd1c"
      },
      "execution_count": 22,
      "outputs": [
        {
          "output_type": "display_data",
          "data": {
            "text/plain": [
              "<Figure size 640x480 with 1 Axes>"
            ],
            "image/png": "[encoded data removed]"
          },
          "metadata": {}
        }
      ]
    },
    {
      "cell_type": "markdown",
      "source": [
        "# **Visualizing the Distribution of Summary Lengths**"
      ],
      "metadata": {
        "id": "OB-JZnaFCwOd"
      }
    },
    {
      "cell_type": "code",
      "source": [
        "#  Distribution of summary lengths\n",
        "df['summary_length'] = df['Summaries'].apply(len)\n",
        "sns.histplot(df['summary_length'])\n",
        "plt.title('Distribution of Summary Lengths')\n",
        "plt.show()"
      ],
      "metadata": {
        "colab": {
          "base_uri": "https://localhost:8080/",
          "height": 472
        },
        "id": "TIhLkX6xQucD",
        "outputId": "d0d6c66e-0f06-40c6-abd5-85f66265ec24"
      },
      "execution_count": 23,
      "outputs": [
        {
          "output_type": "display_data",
          "data": {
            "text/plain": [
              "<Figure size 640x480 with 1 Axes>"
            ],
            "image/png": "[encoded data removed]"
          },
          "metadata": {}
        }
      ]
    },
    {
      "cell_type": "markdown",
      "source": [
        "# **Calculating Summary Statistics for Article and Summary Lengths**"
      ],
      "metadata": {
        "id": "roRFEZ76C_-k"
      }
    },
    {
      "source": [
        "import numpy as np\n",
        "\n",
        "# Assuming you have the combined DataFrame 'df' from the previous example\n",
        "\n",
        "average_article_length = np.mean(df['article_length'])\n",
        "average_summary_length = np.mean(df['summary_length'])\n",
        "\n",
        "max_article_length = np.max(df['article_length'])\n",
        "min_article_length = np.min(df['article_length'])\n",
        "\n",
        "max_summary_length = np.max(df['summary_length'])\n",
        "min_summary_length = np.min(df['summary_length'])\n",
        "\n",
        "print(f\"Average Article Length: {average_article_length:.2f}\")\n",
        "print(f\"Average Summary Length: {average_summary_length:.2f}\")\n",
        "\n",
        "print(f\"Maximum Article Length: {max_article_length}\")\n",
        "print(f\"Minimum Article Length: {min_article_length}\")\n",
        "print(f\"Maximum Summary Length: {max_summary_length}\")\n",
        "print(f\"Minimum Summary Length: {min_summary_length}\")"
      ],
      "cell_type": "code",
      "metadata": {
        "colab": {
          "base_uri": "https://localhost:8080/"
        },
        "id": "lJo4f0-oRX8N",
        "outputId": "7118e2a7-b7ac-4221-bc3b-8f7ad711bdc8"
      },
      "execution_count": 27,
      "outputs": [
        {
          "output_type": "stream",
          "name": "stdout",
          "text": [
            "Average Article Length: 2263.91\n",
            "Average Summary Length: 1000.46\n",
            "Maximum Article Length: 25484\n",
            "Minimum Article Length: 502\n",
            "Maximum Summary Length: 12344\n",
            "Minimum Summary Length: 227\n"
          ]
        }
      ]
    },
    {
      "cell_type": "markdown",
      "source": [
        "# **Visualizing the Number of Articles base on domain**"
      ],
      "metadata": {
        "id": "cfC5anOnDSHR"
      }
    },
    {
      "source": [
        "import seaborn as sns\n",
        "import matplotlib.pyplot as plt\n",
        "\n",
        "# 1. Count the occurrences of each file path\n",
        "file_path_counts = df['File_path'].value_counts()\n",
        "\n",
        "# 2. Create a bar plot using seaborn\n",
        "plt.figure(figsize=(10, 6))  # Adjust figure size if needed\n",
        "sns.barplot(x=file_path_counts.index, y=file_path_counts.values)\n",
        "plt.title('Number of Articles per File Path (Class)')\n",
        "plt.xlabel('File Path (Class)')\n",
        "plt.ylabel('Number of Articles')\n",
        "plt.xticks(rotation=45, ha='right')  # Rotate x-axis labels for better readability\n",
        "plt.tight_layout()\n",
        "plt.show()"
      ],
      "cell_type": "code",
      "metadata": {
        "colab": {
          "base_uri": "https://localhost:8080/",
          "height": 607
        },
        "id": "bNBntCofSCpW",
        "outputId": "e9ee4f30-fa83-4be7-aa25-6dfae7a7f3b2"
      },
      "execution_count": 28,
      "outputs": [
        {
          "output_type": "display_data",
          "data": {
            "text/plain": [
              "<Figure size 1000x600 with 1 Axes>"
            ],
            "image/png": "[encoded data removed]"
          },
          "metadata": {}
        }
      ]
    },
    {
      "cell_type": "markdown",
      "source": [
        "# **Loading the T5 Model and Tokenizer**"
      ],
      "metadata": {
        "id": "AtYLkyqhDnCV"
      }
    },
    {
      "cell_type": "code",
      "source": [
        "MODEL = 't5-base'\n",
        "tokenizer = T5Tokenizer.from_pretrained(MODEL)\n",
        "model = T5ForConditionalGeneration.from_pretrained(MODEL)"
      ],
      "metadata": {
        "colab": {
          "base_uri": "https://localhost:8080/",
          "height": 249,
          "referenced_widgets": [
            "09303e1559a04752b4428ca1a28a03e6",
            "4ccd75617b154184aa136bdd3087068a",
            "c8ba1a8104754810acd02f20b6c72a8a",
            "43e329299dde464a9023e758c735bfb4",
            "16b63576734f4d0fae5568174252296e",
            "e27c7497d8924258bb651f85d2e3018e",
            "e7e4aa55cd384f3ab2d6a29411b5ee40",
            "df3b65992c694e969244d18c18bc0462",
            "e9b2ecaf5fd540a5bf25f7ac1c74e618",
            "76073bb02405454784738ede814cad56",
            "f8b22abe304f49a0a784e59b27a784f5",
            "a1bfab8265044e4c8b243c4c1d91d466",
            "8b92ab42cec24a2d966f59dd77c44199",
            "1589dcd5fa754ba196cdae6ff1868128",
            "fe580d5d2b3a44a09feafb16a8ebc58e",
            "5826f9797c3f4a52b3227af231c1ed3f",
            "d856db1255134418a92a1f9fd5554aa6",
            "b7c479b6ab5b41eab3e423bbdc7d7055",
            "fc947f97dfcf475abc5cc373d8906534",
            "bf3d5c2b95ae47f1ad425b8d58c25339",
            "9b9959155838439c9c5a5ec2899fe192",
            "8c287866d6da482492a6d846fc522e20",
            "56e9cf3898de4aef9ed2a6251d0f0e18",
            "9a0311b300a44573a7b42f4791eb0233",
            "fd947e623cd740659d8722c90c1af968",
            "17d49f74e1dc435596a925490c56af34",
            "39f1433d20cc40bf92be6e88f1ab3474",
            "5be4f1b486cc4d13937cc04f2a44f0d4",
            "fba75b04a4564eb28c4144a13837d26f",
            "20ddf7ac24c84a5e8ea410e56202f8dc",
            "d607cde148244f86826d69b7b14a187b",
            "88d88a5bbc6845c2b24e11f4023160fb",
            "6b4cd522450c4e8f8009c1853f8c9160",
            "98c37597389f40008a9c8cd5dd97bd46",
            "2ab4872474ca49d9befba376717302d1",
            "fe26b059f598443aaa0eccce391d8a3f",
            "b69017500e054595ac6e440e6b3721eb",
            "b34ef22fd54440c5a894b67c59f5fc42",
            "c681080c3efa407db166c036500cef51",
            "ca56bab271a54c16a67f61486c8eb660",
            "d83f1ba82865400e8e71217056ee2001",
            "9974a06efadf4b5394c36e0f19ed78be",
            "e55a0f60e11343849df45759fbf8540d",
            "3a34240a9c0943b9a0e34ec05a155ff4",
            "466d242cff9b4e97aafd68e527d2a820",
            "af931b3628304d6d95d923588fe72794",
            "6930d965bcc54d0ba7b995a7e2d63171",
            "c53ffa1bb4e34689bd5c5b98505936a4",
            "9a24817885434457b3d57a6a35ac6970",
            "1f55d2c61c4043ef95fe3b8cd69108ad",
            "8a7c8ee61480487d97ff27a6142df56b",
            "35b40f06f1504edfb8257f9f091f9075",
            "d43bbc0f6f7141ea8ba56bfdcf0c8f25",
            "e88d6392b8f042189d0bc3fc22c10a36",
            "9b933716bbbd47b3808bcd0f2885e644"
          ]
        },
        "id": "aBbQOJagS93Z",
        "outputId": "f059e1fd-22fd-4f61-f7f2-f7e106cc6a4f"
      },
      "execution_count": 12,
      "outputs": [
        {
          "output_type": "display_data",
          "data": {
            "text/plain": [
              "spiece.model:   0%|          | 0.00/792k [00:00<?, ?B/s]"
            ],
            "application/vnd.jupyter.widget-view+json": {
              "version_major": 2,
              "version_minor": 0,
              "model_id": "09303e1559a04752b4428ca1a28a03e6"
            }
          },
          "metadata": {}
        },
        {
          "output_type": "display_data",
          "data": {
            "text/plain": [
              "tokenizer.json:   0%|          | 0.00/1.39M [00:00<?, ?B/s]"
            ],
            "application/vnd.jupyter.widget-view+json": {
              "version_major": 2,
              "version_minor": 0,
              "model_id": "a1bfab8265044e4c8b243c4c1d91d466"
            }
          },
          "metadata": {}
        },
        {
          "output_type": "display_data",
          "data": {
            "text/plain": [
              "config.json:   0%|          | 0.00/1.21k [00:00<?, ?B/s]"
            ],
            "application/vnd.jupyter.widget-view+json": {
              "version_major": 2,
              "version_minor": 0,
              "model_id": "56e9cf3898de4aef9ed2a6251d0f0e18"
            }
          },
          "metadata": {}
        },
        {
          "output_type": "stream",
          "name": "stderr",
          "text": [
            "You are using the default legacy behaviour of the <class 'transformers.models.t5.tokenization_t5.T5Tokenizer'>. This is expected, and simply means that the `legacy` (previous) behavior will be used so nothing changes for you. If you want to use the new behaviour, set `legacy=False`. This should only be set if you understand what it means, and thoroughly read the reason why this was added as explained in https://github.com/huggingface/transformers/pull/24565\n",
            "/usr/local/lib/python3.10/dist-packages/transformers/tokenization_utils_base.py:1601: FutureWarning: `clean_up_tokenization_spaces` was not set. It will be set to `True` by default. This behavior will be depracted in transformers v4.45, and will be then set to `False` by default. For more details check this issue: https://github.com/huggingface/transformers/issues/31884\n",
            "  warnings.warn(\n"
          ]
        },
        {
          "output_type": "display_data",
          "data": {
            "text/plain": [
              "model.safetensors:   0%|          | 0.00/892M [00:00<?, ?B/s]"
            ],
            "application/vnd.jupyter.widget-view+json": {
              "version_major": 2,
              "version_minor": 0,
              "model_id": "98c37597389f40008a9c8cd5dd97bd46"
            }
          },
          "metadata": {}
        },
        {
          "output_type": "display_data",
          "data": {
            "text/plain": [
              "generation_config.json:   0%|          | 0.00/147 [00:00<?, ?B/s]"
            ],
            "application/vnd.jupyter.widget-view+json": {
              "version_major": 2,
              "version_minor": 0,
              "model_id": "466d242cff9b4e97aafd68e527d2a820"
            }
          },
          "metadata": {}
        }
      ]
    },
    {
      "cell_type": "markdown",
      "source": [
        "# **Setting Hyperparameters for Training**"
      ],
      "metadata": {
        "id": "PZYdcbOPDz6C"
      }
    },
    {
      "cell_type": "code",
      "source": [
        "BATCH_SIZE = 4\n",
        "NUM_PROCS = 4\n",
        "EPOCHS = 8\n",
        "OUT_DIR = 'results_t5base'\n",
        "MAX_LENGTH = 512"
      ],
      "metadata": {
        "id": "jkhM7zQ6Tqsm"
      },
      "execution_count": 13,
      "outputs": []
    },
    {
      "cell_type": "markdown",
      "source": [
        "# **Preprocessing the Dataset for Model Training**"
      ],
      "metadata": {
        "id": "bpR_UFmsEQp_"
      }
    },
    {
      "cell_type": "code",
      "source": [
        "# Function to convert text data into model inputs and targets\n",
        "def preprocess_function(examples):\n",
        "    inputs = [f\"summarize: {article}\" for article in examples['Articles']]\n",
        "    model_inputs = tokenizer(\n",
        "        inputs,\n",
        "        max_length=MAX_LENGTH,\n",
        "        truncation=True,\n",
        "        padding='max_length'\n",
        "    )\n",
        "\n",
        "    # Set up the tokenizer for targets\n",
        "    targets = [summary for summary in examples['Summaries']]\n",
        "    with tokenizer.as_target_tokenizer():\n",
        "        labels = tokenizer(\n",
        "            targets,\n",
        "            max_length=MAX_LENGTH,\n",
        "            truncation=True,\n",
        "            padding='max_length'\n",
        "        )\n",
        "\n",
        "    model_inputs[\"labels\"] = labels[\"input_ids\"]\n",
        "    return model_inputs\n",
        "\n",
        "\n",
        "tokenized_train = dataset_train.map(\n",
        "    preprocess_function,\n",
        "    batched=True,\n",
        "    num_proc=NUM_PROCS\n",
        ")\n",
        "tokenized_valid = dataset_valid.map(\n",
        "    preprocess_function,\n",
        "    batched=True,\n",
        "    num_proc=NUM_PROCS\n",
        ")"
      ],
      "metadata": {
        "colab": {
          "base_uri": "https://localhost:8080/",
          "height": 448,
          "referenced_widgets": [
            "86e1febf3b2d45c7beb88fa8a73123f9",
            "ea34749072e14e27bbc2782f9bc77e3d",
            "bf741df91b2b4c4e83db65af4db8ace1",
            "ae1e4ec5330b4515a7d79c70814676c9",
            "2869647f3ab9440d86052167be386cff",
            "3670d5304a2f494cbd09af5fd6852106",
            "a75b765d345149449013196a38c1385a",
            "a1a02628af3e478dbd8a7bd218ba094e",
            "db4bc786d4374766879392ec31024a47",
            "bb319893377f49a8bdb2d892be672982",
            "dbeb0f62179145d09d65a9d740c3d50c",
            "3c373e9b2e4d49308d9c852d3e2c13df",
            "95ee5aaa93a343e4911ca2fcc73b22d6",
            "cce35e3e396d4e048a585591a87312e6",
            "afcb5eed4b584e39ad57dd1a8ce58dcc",
            "b90cfabf10d24484a99e86d94b230219",
            "6c8776ae574d4437bd5cb14739948056",
            "5cb5d6683432470491522a2c36c4e903",
            "eec4bf377a3248d0ab69b6c3072f90bb",
            "4fd4af1c20ab4d0caecce070afd6538f",
            "45e096b85f12478eb49eedc53a972f23",
            "692c160eba404505803d0ad8c8151703"
          ]
        },
        "id": "vwjysNQYTf4g",
        "outputId": "2b78df6a-ae22-442f-8764-0a1691bd2cfb"
      },
      "execution_count": 14,
      "outputs": [
        {
          "output_type": "stream",
          "name": "stderr",
          "text": [
            "/usr/local/lib/python3.10/dist-packages/multiprocess/popen_fork.py:66: RuntimeWarning: os.fork() was called. os.fork() is incompatible with multithreaded code, and JAX is multithreaded, so this will likely lead to a deadlock.\n",
            "  self.pid = os.fork()\n"
          ]
        },
        {
          "output_type": "display_data",
          "data": {
            "text/plain": [
              "Map (num_proc=4):   0%|          | 0/1779 [00:00<?, ? examples/s]"
            ],
            "application/vnd.jupyter.widget-view+json": {
              "version_major": 2,
              "version_minor": 0,
              "model_id": "86e1febf3b2d45c7beb88fa8a73123f9"
            }
          },
          "metadata": {}
        },
        {
          "output_type": "stream",
          "name": "stderr",
          "text": [
            "/usr/local/lib/python3.10/dist-packages/multiprocess/popen_fork.py:66: RuntimeWarning: os.fork() was called. os.fork() is incompatible with multithreaded code, and JAX is multithreaded, so this will likely lead to a deadlock.\n",
            "  self.pid = os.fork()\n",
            "/usr/local/lib/python3.10/dist-packages/transformers/tokenization_utils_base.py:4126: UserWarning: `as_target_tokenizer` is deprecated and will be removed in v5 of Transformers. You can tokenize your labels by using the argument `text_target` of the regular `__call__` method (either in the same call as your input texts if you use the same keyword arguments, or in a separate call.\n",
            "  warnings.warn(\n",
            "/usr/local/lib/python3.10/dist-packages/transformers/tokenization_utils_base.py:4126: UserWarning: `as_target_tokenizer` is deprecated and will be removed in v5 of Transformers. You can tokenize your labels by using the argument `text_target` of the regular `__call__` method (either in the same call as your input texts if you use the same keyword arguments, or in a separate call.\n",
            "  warnings.warn(\n",
            "/usr/local/lib/python3.10/dist-packages/transformers/tokenization_utils_base.py:4126: UserWarning: `as_target_tokenizer` is deprecated and will be removed in v5 of Transformers. You can tokenize your labels by using the argument `text_target` of the regular `__call__` method (either in the same call as your input texts if you use the same keyword arguments, or in a separate call.\n",
            "  warnings.warn(\n",
            "/usr/local/lib/python3.10/dist-packages/transformers/tokenization_utils_base.py:4126: UserWarning: `as_target_tokenizer` is deprecated and will be removed in v5 of Transformers. You can tokenize your labels by using the argument `text_target` of the regular `__call__` method (either in the same call as your input texts if you use the same keyword arguments, or in a separate call.\n",
            "  warnings.warn(\n"
          ]
        },
        {
          "output_type": "display_data",
          "data": {
            "text/plain": [
              "Map (num_proc=4):   0%|          | 0/445 [00:00<?, ? examples/s]"
            ],
            "application/vnd.jupyter.widget-view+json": {
              "version_major": 2,
              "version_minor": 0,
              "model_id": "3c373e9b2e4d49308d9c852d3e2c13df"
            }
          },
          "metadata": {}
        },
        {
          "output_type": "stream",
          "name": "stderr",
          "text": [
            "/usr/local/lib/python3.10/dist-packages/transformers/tokenization_utils_base.py:4126: UserWarning: `as_target_tokenizer` is deprecated and will be removed in v5 of Transformers. You can tokenize your labels by using the argument `text_target` of the regular `__call__` method (either in the same call as your input texts if you use the same keyword arguments, or in a separate call.\n",
            "  warnings.warn(\n",
            "/usr/local/lib/python3.10/dist-packages/transformers/tokenization_utils_base.py:4126: UserWarning: `as_target_tokenizer` is deprecated and will be removed in v5 of Transformers. You can tokenize your labels by using the argument `text_target` of the regular `__call__` method (either in the same call as your input texts if you use the same keyword arguments, or in a separate call.\n",
            "  warnings.warn(\n",
            "/usr/local/lib/python3.10/dist-packages/transformers/tokenization_utils_base.py:4126: UserWarning: `as_target_tokenizer` is deprecated and will be removed in v5 of Transformers. You can tokenize your labels by using the argument `text_target` of the regular `__call__` method (either in the same call as your input texts if you use the same keyword arguments, or in a separate call.\n",
            "  warnings.warn(\n",
            "/usr/local/lib/python3.10/dist-packages/transformers/tokenization_utils_base.py:4126: UserWarning: `as_target_tokenizer` is deprecated and will be removed in v5 of Transformers. You can tokenize your labels by using the argument `text_target` of the regular `__call__` method (either in the same call as your input texts if you use the same keyword arguments, or in a separate call.\n",
            "  warnings.warn(\n"
          ]
        }
      ]
    },
    {
      "cell_type": "code",
      "source": [
        "tokenized_train"
      ],
      "metadata": {
        "colab": {
          "base_uri": "https://localhost:8080/"
        },
        "id": "9ZQvAHmUTyMJ",
        "outputId": "ac927756-7806-424e-fddf-0ef4b658087a"
      },
      "execution_count": 36,
      "outputs": [
        {
          "output_type": "execute_result",
          "data": {
            "text/plain": [
              "Dataset({\n",
              "    features: ['File_path', 'Articles', 'Summaries', 'input_ids', 'attention_mask', 'labels'],\n",
              "    num_rows: 1779\n",
              "})"
            ]
          },
          "metadata": {},
          "execution_count": 36
        }
      ]
    },
    {
      "source": [
        "print(tokenized_train[0])"
      ],
      "cell_type": "code",
      "metadata": {
        "colab": {
          "base_uri": "https://localhost:8080/"
        },
        "id": "-o-eod47UR4B",
        "outputId": "bc671f79-578b-45d3-9435-9e05895b02bd"
      },
      "execution_count": 37,
      "outputs": [
        {
          "output_type": "stream",
          "name": "stdout",
          "text": [
            "{'File_path': 'business', 'Articles': 'Disaster claims \\'less than $10bn\\'..Insurers have sought to calm fears that they face huge losses after an earthquake and giant waves killed at least 38,000 people in southern Asia...Munich Re and Swiss Re, the world\\'s two biggest reinsurers, have said exposure will be less than for other disasters. Rebuilding costs are likely to be cheaper than in developed countries, and many of those affected will not have insurance, analysts said. Swiss Re has said total claims are likely to be less than $10bn (£5.17bn). Swiss Re believes that the cost would be substantial but that it is unlikely to be in double-digit billions, the Financial Times reported. Munich Re, the world\\'s largest reinsurance company, said that its exposure is less than 100m euros (£70m; $136m)...At least 10 countries have been affected, with Sri Lanka, Indonesia, India and Thailand among the worst hit. The region\\'s resorts and Western tourists are expected to be among the main claimants...Lloyds of London told the Financial Times it expected its exposure to be limited to \"holiday resorts, personal accident, travel insurance and marine risks\". A spokeswoman for Hanover Re, Europe\\'s fifth-largest reinsurance firm, estimated tsunami-related damage claims would be in the low double-digit millions of euros. The company has paid out about 300 million euros (£281m; $400m) to cover damage caused recently by four major hurricanes in the US...But insurers have not had long to assess the economic impact of the damage and reports of more casualties and destruction are still coming through...\"So many things are unclear, it is just too early to tell,\" said Serge Troeber, deputy head of Swiss Re\\'s natural disasters department. \"You need very complicated processes to estimate damages. Unlike the hurricanes, you can\\'t just run a model.\" He anticipated that his own company\\'s total claims would be less then those from the hurricanes, which the company put at $640m. Allianz, a leading German insurer, said it did not know yet what its exposure would be. However, it said the tidal waves were unlikely to have a \"significant\" impact on its business. Zurich Financial said they could not yet assess the cost of the disaster...The impact on US insurance companies is not expected to be heavy, analysts said...Most US insurers have relatively little exposure to Asia and those that do, pass on a lot of the risk to reinsurance companies or special catastrophe funds. Insured damage could be a fraction of the \"billions of dollars worth of destruction in Sri Lanka, India, Thailand, Indonesia, the Maldive Islands and Malaysia,\" said Prudential Equity Group insurance analyst Jay Gelb. \"US insurers are likely to have only minimal to no exposure. It\\'s more likely the Bermuda-based reinsurance [companies] might have some exposure,\" said Paul Newsome, an insurance analyst at AG Edwards & Co...Many of the affected countries, such as Indonesia, Sri Lanka or the Maldives, do not usually buy insurance for these kinds of disasters, said a US-based insurance expert. Early estimates from the World Bank put the amount of aid needed for the worst affected countries including Sri Lanka, India, Indonesia and Thailand, at about $5bn (£2.6bn), similar to the cash offered to Central America after Hurricane Mitch...Mitch killed about 10,000 people and caused damage of about $10bn in 1998. But the cost of the tsunamis on the individuals involved is incalculable. \"We cannot fathom the cost of these poor societies and the nameless fishermen and fishing villages ... that have just been wiped out. Hundreds of thousands of livelihoods have gone,\" said Jan Egeland, head of the UN Office for the Coordination of Humanitarian Affairs. Tourists cutting short their holidays in affected areas may suffer a financial impact too. The Association of British insurers warned that travel insurance does not normally cover cutting short a holiday. It said loss of possessions will usually be covered, but the Association stressed the importance of checking the wording of travel policies.', 'Summaries': 'The impact on US insurance companies is not expected to be heavy, analysts said.Rebuilding costs are likely to be cheaper than in developed countries, and many of those affected will not have insurance, analysts said.Munich Re, the world\\'s largest reinsurance company, said that its exposure is less than 100m euros (£70m; $136m).Swiss Re has said total claims are likely to be less than $10bn (£5.17bn).Many of the affected countries, such as Indonesia, Sri Lanka or the Maldives, do not usually buy insurance for these kinds of disasters, said a US-based insurance expert.Allianz, a leading German insurer, said it did not know yet what its exposure would be.It\\'s more likely the Bermuda-based reinsurance [companies] might have some exposure,\" said Paul Newsome, an insurance analyst at AG Edwards & Co.Zurich Financial said they could not yet assess the cost of the disaster.Munich Re and Swiss Re, the world\\'s two biggest reinsurers, have said exposure will be less than for other disasters.Insured damage could be a fraction of the \"billions of dollars worth of destruction in Sri Lanka, India, Thailand, Indonesia, the Maldive Islands and Malaysia,\" said Prudential Equity Group insurance analyst Jay Gelb.\"US insurers are likely to have only minimal to no exposure.Early estimates from the World Bank put the amount of aid needed for the worst affected countries including Sri Lanka, India, Indonesia and Thailand, at about $5bn (£2.6bn), similar to the cash offered to Central America after Hurricane Mitch.However, it said the tidal waves were unlikely to have a \"significant\" impact on its business.Most US insurers have relatively little exposure to Asia and those that do, pass on a lot of the risk to reinsurance companies or special catastrophe funds.', 'input_ids': [21603, 10, 29798, 3213, 3, 31, 924, 145, 9103, 115, 29, 31, 5, 5, 1570, 3042, 277, 43, 7803, 12, 4447, 14935, 24, 79, 522, 1450, 8467, 227, 46, 16145, 11, 6079, 9866, 4792, 44, 709, 220, 16235, 151, 16, 7518, 3826, 233, 329, 202, 362, 419, 11, 11541, 419, 6, 8, 296, 31, 7, 192, 2630, 7101, 3042, 277, 6, 43, 243, 4773, 56, 36, 705, 145, 21, 119, 6912, 7, 5, 419, 10905, 1358, 33, 952, 12, 36, 8139, 145, 16, 1597, 1440, 6, 11, 186, 13, 273, 4161, 56, 59, 43, 958, 6, 15639, 243, 5, 11541, 419, 65, 243, 792, 3213, 33, 952, 12, 36, 705, 145, 9103, 115, 29, 41, 19853, 9125, 2517, 115, 29, 137, 11541, 419, 7228, 24, 8, 583, 133, 36, 7354, 68, 24, 34, 19, 9909, 12, 36, 16, 1486, 18, 9206, 2108, 7, 6, 8, 5421, 5324, 2196, 5, 22402, 419, 6, 8, 296, 31, 7, 2015, 3, 60, 29441, 349, 6, 243, 24, 165, 4773, 19, 705, 145, 910, 51, 10186, 41, 19853, 2518, 51, 117, 1970, 3420, 51, 137, 5, 5, 188, 17, 709, 335, 1440, 43, 118, 4161, 6, 28, 8642, 13877, 6, 9995, 6, 1547, 11, 10508, 859, 8, 6025, 1560, 5, 37, 1719, 31, 7, 4631, 7, 11, 3782, 11618, 33, 1644, 12, 36, 859, 8, 711, 1988, 2366, 233, 434, 40, 32, 63, 26, 7, 13, 1524, 1219, 8, 5421, 5324, 34, 1644, 165, 4773, 12, 36, 1643, 12, 96, 2831, 23, 1135, 4631, 7, 6, 525, 3125, 6, 1111, 958, 11, 8769, 5217, 1280, 71, 5468, 7, 15893, 21, 6627, 1890, 419, 6, 1740, 31, 7, 8486, 18, 15599, 7, 17, 3, 60, 29441, 1669, 6, 5861, 28583, 18, 3897, 1783, 3213, 133, 36, 16, 8, 731, 1486, 18, 9206, 4040, 13, 10186, 5, 37, 349, 65, 1866, 91, 81, 3147, 770, 10186, 41, 19853, 2577, 536, 51, 117, 28809, 51, 61, 12, 1189, 1783, 2953, 1310, 57, 662, 779, 20818, 7, 16, 8, 837, 233, 11836, 15421, 7, 43, 59, 141, 307, 12, 6570, 8, 1456, 1113, 13, 8, 1783, 11, 2279, 13, 72, 6995, 3010, 11, 11203, 33, 341, 1107, 190, 10011, 5231, 186, 378, 33, 19363, 6, 34, 19, 131, 396, 778, 12, 817, 976, 243, 20843, 7080, 15, 1152, 6, 21108, 819, 13, 11541, 419, 31, 7, 793, 6912, 7, 3066, 5, 96, 3774, 174, 182, 6446, 2842, 12, 7037, 8542, 5, 3, 8739, 8, 20818, 7, 6, 25, 54, 31, 17, 131, 661, 3, 9, 825, 535, 216, 12723, 24, 112, 293, 349, 31, 7, 792, 3213, 133, 36, 705, 258, 273, 45, 8, 20818, 7, 6, 84, 8, 349, 474, 44, 10746, 2445, 51, 5, 432, 23, 4557, 6, 3, 9, 1374, 2968, 15421, 6, 243, 34, 410, 59, 214, 780, 125, 165, 4773, 133, 36, 5, 611, 6, 34, 243, 8, 3, 17, 23, 26, 138, 9866, 130, 9909, 12, 43, 3, 9, 96, 26251, 121, 1113, 30, 165, 268, 5, 11688, 362, 5421, 243, 79, 228, 59, 780, 6570, 8, 583, 13, 8, 6912, 233, 634, 1], 'attention_mask': [1, 1, 1, 1, 1, 1, 1, 1, 1, 1, 1, 1, 1, 1, 1, 1, 1, 1, 1, 1, 1, 1, 1, 1, 1, 1, 1, 1, 1, 1, 1, 1, 1, 1, 1, 1, 1, 1, 1, 1, 1, 1, 1, 1, 1, 1, 1, 1, 1, 1, 1, 1, 1, 1, 1, 1, 1, 1, 1, 1, 1, 1, 1, 1, 1, 1, 1, 1, 1, 1, 1, 1, 1, 1, 1, 1, 1, 1, 1, 1, 1, 1, 1, 1, 1, 1, 1, 1, 1, 1, 1, 1, 1, 1, 1, 1, 1, 1, 1, 1, 1, 1, 1, 1, 1, 1, 1, 1, 1, 1, 1, 1, 1, 1, 1, 1, 1, 1, 1, 1, 1, 1, 1, 1, 1, 1, 1, 1, 1, 1, 1, 1, 1, 1, 1, 1, 1, 1, 1, 1, 1, 1, 1, 1, 1, 1, 1, 1, 1, 1, 1, 1, 1, 1, 1, 1, 1, 1, 1, 1, 1, 1, 1, 1, 1, 1, 1, 1, 1, 1, 1, 1, 1, 1, 1, 1, 1, 1, 1, 1, 1, 1, 1, 1, 1, 1, 1, 1, 1, 1, 1, 1, 1, 1, 1, 1, 1, 1, 1, 1, 1, 1, 1, 1, 1, 1, 1, 1, 1, 1, 1, 1, 1, 1, 1, 1, 1, 1, 1, 1, 1, 1, 1, 1, 1, 1, 1, 1, 1, 1, 1, 1, 1, 1, 1, 1, 1, 1, 1, 1, 1, 1, 1, 1, 1, 1, 1, 1, 1, 1, 1, 1, 1, 1, 1, 1, 1, 1, 1, 1, 1, 1, 1, 1, 1, 1, 1, 1, 1, 1, 1, 1, 1, 1, 1, 1, 1, 1, 1, 1, 1, 1, 1, 1, 1, 1, 1, 1, 1, 1, 1, 1, 1, 1, 1, 1, 1, 1, 1, 1, 1, 1, 1, 1, 1, 1, 1, 1, 1, 1, 1, 1, 1, 1, 1, 1, 1, 1, 1, 1, 1, 1, 1, 1, 1, 1, 1, 1, 1, 1, 1, 1, 1, 1, 1, 1, 1, 1, 1, 1, 1, 1, 1, 1, 1, 1, 1, 1, 1, 1, 1, 1, 1, 1, 1, 1, 1, 1, 1, 1, 1, 1, 1, 1, 1, 1, 1, 1, 1, 1, 1, 1, 1, 1, 1, 1, 1, 1, 1, 1, 1, 1, 1, 1, 1, 1, 1, 1, 1, 1, 1, 1, 1, 1, 1, 1, 1, 1, 1, 1, 1, 1, 1, 1, 1, 1, 1, 1, 1, 1, 1, 1, 1, 1, 1, 1, 1, 1, 1, 1, 1, 1, 1, 1, 1, 1, 1, 1, 1, 1, 1, 1, 1, 1, 1, 1, 1, 1, 1, 1, 1, 1, 1, 1, 1, 1, 1, 1, 1, 1, 1, 1, 1, 1, 1, 1, 1, 1, 1, 1, 1, 1, 1, 1, 1, 1, 1, 1, 1, 1, 1, 1, 1, 1, 1, 1, 1, 1, 1, 1, 1, 1, 1, 1, 1, 1, 1, 1, 1, 1, 1, 1, 1, 1, 1, 1, 1, 1, 1, 1, 1, 1, 1, 1, 1, 1, 1, 1, 1, 1, 1, 1], 'labels': [37, 1113, 30, 837, 958, 688, 19, 59, 1644, 12, 36, 2437, 6, 15639, 243, 5, 1649, 10905, 1358, 33, 952, 12, 36, 8139, 145, 16, 1597, 1440, 6, 11, 186, 13, 273, 4161, 56, 59, 43, 958, 6, 15639, 243, 5, 329, 202, 362, 419, 6, 8, 296, 31, 7, 2015, 3, 60, 29441, 349, 6, 243, 24, 165, 4773, 19, 705, 145, 910, 51, 10186, 41, 19853, 2518, 51, 117, 1970, 3420, 51, 137, 134, 210, 159, 7, 419, 65, 243, 792, 3213, 33, 952, 12, 36, 705, 145, 9103, 115, 29, 41, 19853, 9125, 2517, 115, 29, 137, 7296, 63, 13, 8, 4161, 1440, 6, 224, 38, 9995, 6, 8642, 13877, 42, 8, 2148, 26, 8763, 6, 103, 59, 1086, 805, 958, 21, 175, 4217, 13, 6912, 7, 6, 243, 3, 9, 837, 18, 390, 958, 2205, 5, 6838, 23, 4557, 6, 3, 9, 1374, 2968, 15421, 6, 243, 34, 410, 59, 214, 780, 125, 165, 4773, 133, 36, 5, 196, 17, 31, 7, 72, 952, 8, 30441, 18, 390, 3, 60, 29441, 784, 7699, 9, 14347, 908, 429, 43, 128, 4773, 976, 243, 1838, 368, 5529, 6, 46, 958, 15649, 44, 8859, 8200, 7, 3, 184, 638, 5, 956, 450, 362, 5421, 243, 79, 228, 59, 780, 6570, 8, 583, 13, 8, 6912, 5, 329, 202, 362, 419, 11, 11541, 419, 6, 8, 296, 31, 7, 192, 2630, 7101, 3042, 277, 6, 43, 243, 4773, 56, 36, 705, 145, 21, 119, 6912, 7, 5, 1570, 4334, 26, 1783, 228, 36, 3, 9, 12211, 13, 8, 96, 115, 14916, 7, 13, 3740, 1494, 13, 11203, 16, 8642, 13877, 6, 1547, 6, 10508, 6, 9995, 6, 8, 2148, 26, 757, 11654, 11, 10155, 976, 243, 21522, 26, 7220, 25943, 1531, 958, 15649, 9373, 10595, 115, 535, 3063, 15421, 7, 33, 952, 12, 43, 163, 6211, 12, 150, 4773, 5, 427, 291, 120, 10014, 45, 8, 1150, 1925, 474, 8, 866, 13, 3052, 906, 21, 8, 6025, 4161, 1440, 379, 8642, 13877, 6, 1547, 6, 9995, 11, 10508, 6, 44, 81, 6422, 115, 29, 41, 19853, 22724, 115, 29, 201, 1126, 12, 8, 1723, 1860, 12, 2808, 1371, 227, 19927, 1311, 524, 5, 7825, 3258, 6, 34, 243, 8, 3, 17, 23, 26, 138, 9866, 130, 9909, 12, 43, 3, 9, 96, 26251, 121, 1113, 30, 165, 268, 5, 329, 3481, 837, 15421, 7, 43, 4352, 385, 4773, 12, 3826, 11, 273, 24, 103, 6, 1903, 30, 3, 9, 418, 13, 8, 1020, 12, 3, 60, 29441, 688, 42, 534, 25334, 2731, 5, 1, 0, 0, 0, 0, 0, 0, 0, 0, 0, 0, 0, 0, 0, 0, 0, 0, 0, 0, 0, 0, 0, 0, 0, 0, 0, 0, 0, 0, 0, 0, 0, 0, 0, 0, 0, 0, 0, 0, 0, 0, 0, 0, 0, 0, 0, 0, 0, 0, 0, 0, 0, 0, 0, 0, 0, 0, 0, 0, 0, 0, 0, 0, 0, 0, 0, 0, 0, 0, 0, 0, 0, 0, 0, 0, 0, 0, 0, 0, 0, 0, 0, 0, 0, 0, 0, 0, 0]}\n"
          ]
        }
      ]
    },
    {
      "cell_type": "markdown",
      "source": [
        "# **Loading the Model and Checking Parameters**"
      ],
      "metadata": {
        "id": "B8TcuE1eEnhJ"
      }
    },
    {
      "cell_type": "code",
      "source": [
        "model = T5ForConditionalGeneration.from_pretrained(MODEL)\n",
        "device = torch.device(\"cuda\" if torch.cuda.is_available() else \"cpu\")\n",
        "model.to(device)\n",
        "# Total parameters and trainable parameters.\n",
        "total_params = sum(p.numel() for p in model.parameters())\n",
        "print(f\"{total_params:,} total parameters.\")\n",
        "total_trainable_params = sum(\n",
        "    p.numel() for p in model.parameters() if p.requires_grad)\n",
        "print(f\"{total_trainable_params:,} training parameters.\")"
      ],
      "metadata": {
        "colab": {
          "base_uri": "https://localhost:8080/"
        },
        "id": "UK68sN31UhHR",
        "outputId": "f71707cb-3f1d-4e94-a86e-2a88e038c622"
      },
      "execution_count": 15,
      "outputs": [
        {
          "output_type": "stream",
          "name": "stdout",
          "text": [
            "222,903,552 total parameters.\n",
            "222,903,552 training parameters.\n"
          ]
        }
      ]
    },
    {
      "cell_type": "markdown",
      "source": [
        "# **Installing and Loading the ROUGE Score Evaluation**"
      ],
      "metadata": {
        "id": "9mcvoEG5E3xr"
      }
    },
    {
      "source": [
        "!pip install rouge_score # Install the rouge_score package\n",
        "import evaluate # make sure to import the evaluate library\n",
        "\n",
        "rouge = evaluate.load(\"rouge\")"
      ],
      "cell_type": "code",
      "metadata": {
        "colab": {
          "base_uri": "https://localhost:8080/"
        },
        "id": "9ZpOQEsjgQLi",
        "outputId": "464640d8-1e3a-44a8-c1e6-3850664594fb"
      },
      "execution_count": 17,
      "outputs": [
        {
          "output_type": "stream",
          "name": "stdout",
          "text": [
            "Collecting rouge_score\n",
            "  Downloading rouge_score-0.1.2.tar.gz (17 kB)\n",
            "  Preparing metadata (setup.py) ... \u001b[?25l\u001b[?25hdone\n",
            "Requirement already satisfied: absl-py in /usr/local/lib/python3.10/dist-packages (from rouge_score) (1.4.0)\n",
            "Requirement already satisfied: nltk in /usr/local/lib/python3.10/dist-packages (from rouge_score) (3.8.1)\n",
            "Requirement already satisfied: numpy in /usr/local/lib/python3.10/dist-packages (from rouge_score) (1.26.4)\n",
            "Requirement already satisfied: six>=1.14.0 in /usr/local/lib/python3.10/dist-packages (from rouge_score) (1.16.0)\n",
            "Requirement already satisfied: click in /usr/local/lib/python3.10/dist-packages (from nltk->rouge_score) (8.1.7)\n",
            "Requirement already satisfied: joblib in /usr/local/lib/python3.10/dist-packages (from nltk->rouge_score) (1.4.2)\n",
            "Requirement already satisfied: regex>=2021.8.3 in /usr/local/lib/python3.10/dist-packages (from nltk->rouge_score) (2024.9.11)\n",
            "Requirement already satisfied: tqdm in /usr/local/lib/python3.10/dist-packages (from nltk->rouge_score) (4.66.5)\n",
            "Building wheels for collected packages: rouge_score\n",
            "  Building wheel for rouge_score (setup.py) ... \u001b[?25l\u001b[?25hdone\n",
            "  Created wheel for rouge_score: filename=rouge_score-0.1.2-py3-none-any.whl size=24935 sha256=67725509d1c3dfa00172eee4939a02b0f7ee8e8357a742a36137b9db732c1309\n",
            "  Stored in directory: /root/.cache/pip/wheels/5f/dd/89/461065a73be61a532ff8599a28e9beef17985c9e9c31e541b4\n",
            "Successfully built rouge_score\n",
            "Installing collected packages: rouge_score\n",
            "Successfully installed rouge_score-0.1.2\n"
          ]
        }
      ]
    },
    {
      "cell_type": "markdown",
      "source": [
        "# **Compute ROUGE Metrics**"
      ],
      "metadata": {
        "id": "jUveerA7FFIe"
      }
    },
    {
      "cell_type": "code",
      "source": [
        "def compute_metrics(eval_pred):\n",
        "    predictions, labels = eval_pred.predictions[0], eval_pred.label_ids\n",
        "\n",
        "    decoded_preds = tokenizer.batch_decode(predictions, skip_special_tokens=True)\n",
        "    labels = np.where(labels != -100, labels, tokenizer.pad_token_id)\n",
        "    decoded_labels = tokenizer.batch_decode(labels, skip_special_tokens=True)\n",
        "\n",
        "    result = rouge.compute(\n",
        "        predictions=decoded_preds,\n",
        "        references=decoded_labels,\n",
        "        use_stemmer=True,\n",
        "        rouge_types=[\n",
        "            'rouge1',\n",
        "            'rouge2',\n",
        "            'rougeL'\n",
        "        ]\n",
        "    )\n",
        "\n",
        "    prediction_lens = [np.count_nonzero(pred != tokenizer.pad_token_id) for pred in predictions]\n",
        "    result[\"gen_len\"] = np.mean(prediction_lens)\n",
        "\n",
        "    return {k: round(v, 4) for k, v in result.items()}"
      ],
      "metadata": {
        "id": "NuqaXuRcYF3a"
      },
      "execution_count": 18,
      "outputs": []
    },
    {
      "cell_type": "markdown",
      "source": [
        "# **Preprocessing Logits for Metrics Calculation**"
      ],
      "metadata": {
        "id": "jDo7Fg78FS3m"
      }
    },
    {
      "cell_type": "code",
      "source": [
        "def preprocess_logits_for_metrics(logits, labels):\n",
        "    \"\"\"\n",
        "    Original Trainer may have a memory leak.\n",
        "    This is a workaround to avoid storing too many tensors that are not needed.\n",
        "    \"\"\"\n",
        "    pred_ids = torch.argmax(logits[0], dim=-1)\n",
        "    return pred_ids, labels"
      ],
      "metadata": {
        "id": "DKI4paF1YQnt"
      },
      "execution_count": 19,
      "outputs": []
    },
    {
      "cell_type": "markdown",
      "source": [
        "# **Setting Up Training Arguments and Trainer**"
      ],
      "metadata": {
        "id": "bFtqOS-xFgJI"
      }
    },
    {
      "cell_type": "code",
      "source": [
        "training_args = TrainingArguments(\n",
        "    output_dir=OUT_DIR,\n",
        "    num_train_epochs=EPOCHS,\n",
        "    per_device_train_batch_size=BATCH_SIZE,\n",
        "    per_device_eval_batch_size=BATCH_SIZE,\n",
        "    warmup_steps=500,\n",
        "    weight_decay=0.01,\n",
        "    logging_dir=OUT_DIR,\n",
        "    logging_steps=10,\n",
        "    evaluation_strategy='steps',\n",
        "    eval_steps=200,\n",
        "    save_strategy='epoch',\n",
        "    save_total_limit=2,\n",
        "    report_to='tensorboard',\n",
        "    learning_rate=0.0001,\n",
        "    dataloader_num_workers=4\n",
        ")\n",
        "\n",
        "trainer = Trainer(\n",
        "    model=model,\n",
        "    args=training_args,\n",
        "    train_dataset=tokenized_train,\n",
        "    eval_dataset=tokenized_valid,\n",
        "    preprocess_logits_for_metrics=preprocess_logits_for_metrics,\n",
        "    compute_metrics=compute_metrics\n",
        ")\n"
      ],
      "metadata": {
        "colab": {
          "base_uri": "https://localhost:8080/"
        },
        "id": "Yg2ftk5UYWsV",
        "outputId": "4151f779-e58e-4109-b76c-82eefd6739f7"
      },
      "execution_count": 20,
      "outputs": [
        {
          "output_type": "stream",
          "name": "stderr",
          "text": [
            "/usr/local/lib/python3.10/dist-packages/transformers/training_args.py:1525: FutureWarning: `evaluation_strategy` is deprecated and will be removed in version 4.46 of 🤗 Transformers. Use `eval_strategy` instead\n",
            "  warnings.warn(\n"
          ]
        }
      ]
    },
    {
      "cell_type": "markdown",
      "source": [
        "# **Training the Model**"
      ],
      "metadata": {
        "id": "yo0H4UGZFsqs"
      }
    },
    {
      "cell_type": "code",
      "source": [
        " trainer.train()"
      ],
      "metadata": {
        "colab": {
          "base_uri": "https://localhost:8080/",
          "height": 1000
        },
        "id": "hJqDxyF1Yq7i",
        "outputId": "48ff09cb-d1b9-47b1-ee6a-586ca3c2f650"
      },
      "execution_count": 21,
      "outputs": [
        {
          "output_type": "stream",
          "name": "stderr",
          "text": [
            "/usr/local/lib/python3.10/dist-packages/torch/utils/data/dataloader.py:557: UserWarning: This DataLoader will create 4 worker processes in total. Our suggested max number of worker in current system is 2, which is smaller than what this DataLoader is going to create. Please be aware that excessive worker creation might get DataLoader running slow or even freeze, lower the worker number to avoid potential slowness/freeze if necessary.\n",
            "  warnings.warn(_create_warning_msg(\n",
            "/usr/lib/python3.10/multiprocessing/popen_fork.py:66: RuntimeWarning: os.fork() was called. os.fork() is incompatible with multithreaded code, and JAX is multithreaded, so this will likely lead to a deadlock.\n",
            "  self.pid = os.fork()\n"
          ]
        },
        {
          "output_type": "display_data",
          "data": {
            "text/plain": [
              "<IPython.core.display.HTML object>"
            ],
            "text/html": [
              "\n",
              "    <div>\n",
              "      \n",
              "      <progress value='3560' max='3560' style='width:300px; height:20px; vertical-align: middle;'></progress>\n",
              "      [3560/3560 1:41:29, Epoch 8/8]\n",
              "    </div>\n",
              "    <table border=\"1\" class=\"dataframe\">\n",
              "  <thead>\n",
              " <tr style=\"text-align: left;\">\n",
              "      <th>Step</th>\n",
              "      <th>Training Loss</th>\n",
              "      <th>Validation Loss</th>\n",
              "      <th>Rouge1</th>\n",
              "      <th>Rouge2</th>\n",
              "      <th>Rougel</th>\n",
              "      <th>Gen Len</th>\n",
              "    </tr>\n",
              "  </thead>\n",
              "  <tbody>\n",
              "    <tr>\n",
              "      <td>200</td>\n",
              "      <td>0.445600</td>\n",
              "      <td>0.418498</td>\n",
              "      <td>0.896600</td>\n",
              "      <td>0.822300</td>\n",
              "      <td>0.875500</td>\n",
              "      <td>233.444900</td>\n",
              "    </tr>\n",
              "    <tr>\n",
              "      <td>400</td>\n",
              "      <td>0.407300</td>\n",
              "      <td>0.371241</td>\n",
              "      <td>0.903900</td>\n",
              "      <td>0.833000</td>\n",
              "      <td>0.885000</td>\n",
              "      <td>233.952800</td>\n",
              "    </tr>\n",
              "    <tr>\n",
              "      <td>600</td>\n",
              "      <td>0.399300</td>\n",
              "      <td>0.358520</td>\n",
              "      <td>0.907300</td>\n",
              "      <td>0.836600</td>\n",
              "      <td>0.887700</td>\n",
              "      <td>233.952800</td>\n",
              "    </tr>\n",
              "    <tr>\n",
              "      <td>800</td>\n",
              "      <td>0.377700</td>\n",
              "      <td>0.345350</td>\n",
              "      <td>0.908800</td>\n",
              "      <td>0.840000</td>\n",
              "      <td>0.889900</td>\n",
              "      <td>233.952800</td>\n",
              "    </tr>\n",
              "    <tr>\n",
              "      <td>1000</td>\n",
              "      <td>0.403000</td>\n",
              "      <td>0.341461</td>\n",
              "      <td>0.910400</td>\n",
              "      <td>0.842200</td>\n",
              "      <td>0.891600</td>\n",
              "      <td>233.952800</td>\n",
              "    </tr>\n",
              "    <tr>\n",
              "      <td>1200</td>\n",
              "      <td>0.217200</td>\n",
              "      <td>0.336722</td>\n",
              "      <td>0.912300</td>\n",
              "      <td>0.844700</td>\n",
              "      <td>0.893600</td>\n",
              "      <td>233.952800</td>\n",
              "    </tr>\n",
              "    <tr>\n",
              "      <td>1400</td>\n",
              "      <td>0.265100</td>\n",
              "      <td>0.335624</td>\n",
              "      <td>0.912300</td>\n",
              "      <td>0.844900</td>\n",
              "      <td>0.893300</td>\n",
              "      <td>233.952800</td>\n",
              "    </tr>\n",
              "    <tr>\n",
              "      <td>1600</td>\n",
              "      <td>0.353800</td>\n",
              "      <td>0.334163</td>\n",
              "      <td>0.912900</td>\n",
              "      <td>0.846300</td>\n",
              "      <td>0.894400</td>\n",
              "      <td>233.952800</td>\n",
              "    </tr>\n",
              "    <tr>\n",
              "      <td>1800</td>\n",
              "      <td>0.272600</td>\n",
              "      <td>0.334086</td>\n",
              "      <td>0.913700</td>\n",
              "      <td>0.847300</td>\n",
              "      <td>0.895100</td>\n",
              "      <td>233.952800</td>\n",
              "    </tr>\n",
              "    <tr>\n",
              "      <td>2000</td>\n",
              "      <td>0.149300</td>\n",
              "      <td>0.332119</td>\n",
              "      <td>0.913500</td>\n",
              "      <td>0.847900</td>\n",
              "      <td>0.895300</td>\n",
              "      <td>233.952800</td>\n",
              "    </tr>\n",
              "    <tr>\n",
              "      <td>2200</td>\n",
              "      <td>0.239300</td>\n",
              "      <td>0.331189</td>\n",
              "      <td>0.914300</td>\n",
              "      <td>0.848900</td>\n",
              "      <td>0.896000</td>\n",
              "      <td>233.952800</td>\n",
              "    </tr>\n",
              "    <tr>\n",
              "      <td>2400</td>\n",
              "      <td>0.200100</td>\n",
              "      <td>0.334023</td>\n",
              "      <td>0.914300</td>\n",
              "      <td>0.848500</td>\n",
              "      <td>0.895500</td>\n",
              "      <td>233.952800</td>\n",
              "    </tr>\n",
              "    <tr>\n",
              "      <td>2600</td>\n",
              "      <td>0.224000</td>\n",
              "      <td>0.331127</td>\n",
              "      <td>0.915100</td>\n",
              "      <td>0.849600</td>\n",
              "      <td>0.896600</td>\n",
              "      <td>233.952800</td>\n",
              "    </tr>\n",
              "    <tr>\n",
              "      <td>2800</td>\n",
              "      <td>0.199100</td>\n",
              "      <td>0.334889</td>\n",
              "      <td>0.914400</td>\n",
              "      <td>0.850000</td>\n",
              "      <td>0.896400</td>\n",
              "      <td>233.952800</td>\n",
              "    </tr>\n",
              "    <tr>\n",
              "      <td>3000</td>\n",
              "      <td>0.212900</td>\n",
              "      <td>0.334081</td>\n",
              "      <td>0.914800</td>\n",
              "      <td>0.850200</td>\n",
              "      <td>0.896700</td>\n",
              "      <td>233.952800</td>\n",
              "    </tr>\n",
              "    <tr>\n",
              "      <td>3200</td>\n",
              "      <td>0.218400</td>\n",
              "      <td>0.333976</td>\n",
              "      <td>0.915100</td>\n",
              "      <td>0.851000</td>\n",
              "      <td>0.897100</td>\n",
              "      <td>233.952800</td>\n",
              "    </tr>\n",
              "    <tr>\n",
              "      <td>3400</td>\n",
              "      <td>0.219700</td>\n",
              "      <td>0.335158</td>\n",
              "      <td>0.915400</td>\n",
              "      <td>0.851100</td>\n",
              "      <td>0.897200</td>\n",
              "      <td>233.952800</td>\n",
              "    </tr>\n",
              "  </tbody>\n",
              "</table><p>"
            ]
          },
          "metadata": {}
        },
        {
          "output_type": "stream",
          "name": "stderr",
          "text": [
            "/usr/lib/python3.10/multiprocessing/popen_fork.py:66: RuntimeWarning: os.fork() was called. os.fork() is incompatible with multithreaded code, and JAX is multithreaded, so this will likely lead to a deadlock.\n",
            "  self.pid = os.fork()\n",
            "/usr/local/lib/python3.10/dist-packages/torch/utils/data/dataloader.py:557: UserWarning: This DataLoader will create 4 worker processes in total. Our suggested max number of worker in current system is 2, which is smaller than what this DataLoader is going to create. Please be aware that excessive worker creation might get DataLoader running slow or even freeze, lower the worker number to avoid potential slowness/freeze if necessary.\n",
            "  warnings.warn(_create_warning_msg(\n",
            "/usr/lib/python3.10/multiprocessing/popen_fork.py:66: RuntimeWarning: os.fork() was called. os.fork() is incompatible with multithreaded code, and JAX is multithreaded, so this will likely lead to a deadlock.\n",
            "  self.pid = os.fork()\n",
            "/usr/lib/python3.10/multiprocessing/popen_fork.py:66: RuntimeWarning: os.fork() was called. os.fork() is incompatible with multithreaded code, and JAX is multithreaded, so this will likely lead to a deadlock.\n",
            "  self.pid = os.fork()\n",
            "/usr/local/lib/python3.10/dist-packages/torch/utils/data/dataloader.py:557: UserWarning: This DataLoader will create 4 worker processes in total. Our suggested max number of worker in current system is 2, which is smaller than what this DataLoader is going to create. Please be aware that excessive worker creation might get DataLoader running slow or even freeze, lower the worker number to avoid potential slowness/freeze if necessary.\n",
            "  warnings.warn(_create_warning_msg(\n",
            "/usr/lib/python3.10/multiprocessing/popen_fork.py:66: RuntimeWarning: os.fork() was called. os.fork() is incompatible with multithreaded code, and JAX is multithreaded, so this will likely lead to a deadlock.\n",
            "  self.pid = os.fork()\n",
            "/usr/lib/python3.10/multiprocessing/popen_fork.py:66: RuntimeWarning: os.fork() was called. os.fork() is incompatible with multithreaded code, and JAX is multithreaded, so this will likely lead to a deadlock.\n",
            "  self.pid = os.fork()\n",
            "/usr/local/lib/python3.10/dist-packages/torch/utils/data/dataloader.py:557: UserWarning: This DataLoader will create 4 worker processes in total. Our suggested max number of worker in current system is 2, which is smaller than what this DataLoader is going to create. Please be aware that excessive worker creation might get DataLoader running slow or even freeze, lower the worker number to avoid potential slowness/freeze if necessary.\n",
            "  warnings.warn(_create_warning_msg(\n",
            "/usr/lib/python3.10/multiprocessing/popen_fork.py:66: RuntimeWarning: os.fork() was called. os.fork() is incompatible with multithreaded code, and JAX is multithreaded, so this will likely lead to a deadlock.\n",
            "  self.pid = os.fork()\n",
            "/usr/local/lib/python3.10/dist-packages/torch/utils/data/dataloader.py:557: UserWarning: This DataLoader will create 4 worker processes in total. Our suggested max number of worker in current system is 2, which is smaller than what this DataLoader is going to create. Please be aware that excessive worker creation might get DataLoader running slow or even freeze, lower the worker number to avoid potential slowness/freeze if necessary.\n",
            "  warnings.warn(_create_warning_msg(\n",
            "/usr/lib/python3.10/multiprocessing/popen_fork.py:66: RuntimeWarning: os.fork() was called. os.fork() is incompatible with multithreaded code, and JAX is multithreaded, so this will likely lead to a deadlock.\n",
            "  self.pid = os.fork()\n",
            "/usr/lib/python3.10/multiprocessing/popen_fork.py:66: RuntimeWarning: os.fork() was called. os.fork() is incompatible with multithreaded code, and JAX is multithreaded, so this will likely lead to a deadlock.\n",
            "  self.pid = os.fork()\n",
            "/usr/local/lib/python3.10/dist-packages/torch/utils/data/dataloader.py:557: UserWarning: This DataLoader will create 4 worker processes in total. Our suggested max number of worker in current system is 2, which is smaller than what this DataLoader is going to create. Please be aware that excessive worker creation might get DataLoader running slow or even freeze, lower the worker number to avoid potential slowness/freeze if necessary.\n",
            "  warnings.warn(_create_warning_msg(\n",
            "/usr/lib/python3.10/multiprocessing/popen_fork.py:66: RuntimeWarning: os.fork() was called. os.fork() is incompatible with multithreaded code, and JAX is multithreaded, so this will likely lead to a deadlock.\n",
            "  self.pid = os.fork()\n",
            "/usr/lib/python3.10/multiprocessing/popen_fork.py:66: RuntimeWarning: os.fork() was called. os.fork() is incompatible with multithreaded code, and JAX is multithreaded, so this will likely lead to a deadlock.\n",
            "  self.pid = os.fork()\n",
            "/usr/local/lib/python3.10/dist-packages/torch/utils/data/dataloader.py:557: UserWarning: This DataLoader will create 4 worker processes in total. Our suggested max number of worker in current system is 2, which is smaller than what this DataLoader is going to create. Please be aware that excessive worker creation might get DataLoader running slow or even freeze, lower the worker number to avoid potential slowness/freeze if necessary.\n",
            "  warnings.warn(_create_warning_msg(\n",
            "/usr/lib/python3.10/multiprocessing/popen_fork.py:66: RuntimeWarning: os.fork() was called. os.fork() is incompatible with multithreaded code, and JAX is multithreaded, so this will likely lead to a deadlock.\n",
            "  self.pid = os.fork()\n",
            "/usr/lib/python3.10/multiprocessing/popen_fork.py:66: RuntimeWarning: os.fork() was called. os.fork() is incompatible with multithreaded code, and JAX is multithreaded, so this will likely lead to a deadlock.\n",
            "  self.pid = os.fork()\n",
            "/usr/local/lib/python3.10/dist-packages/torch/utils/data/dataloader.py:557: UserWarning: This DataLoader will create 4 worker processes in total. Our suggested max number of worker in current system is 2, which is smaller than what this DataLoader is going to create. Please be aware that excessive worker creation might get DataLoader running slow or even freeze, lower the worker number to avoid potential slowness/freeze if necessary.\n",
            "  warnings.warn(_create_warning_msg(\n",
            "/usr/lib/python3.10/multiprocessing/popen_fork.py:66: RuntimeWarning: os.fork() was called. os.fork() is incompatible with multithreaded code, and JAX is multithreaded, so this will likely lead to a deadlock.\n",
            "  self.pid = os.fork()\n"
          ]
        },
        {
          "output_type": "execute_result",
          "data": {
            "text/plain": [
              "TrainOutput(global_step=3560, training_loss=0.503152197867297, metrics={'train_runtime': 6094.7331, 'train_samples_per_second': 2.335, 'train_steps_per_second': 0.584, 'total_flos': 8666688698449920.0, 'train_loss': 0.503152197867297, 'epoch': 8.0})"
            ]
          },
          "metadata": {},
          "execution_count": 21
        }
      ]
    },
    {
      "cell_type": "markdown",
      "source": [
        "# **Saving the Tokenizer**"
      ],
      "metadata": {
        "id": "jdjxikJpF3B0"
      }
    },
    {
      "cell_type": "code",
      "source": [
        "tokenizer.save_pretrained(OUT_DIR)"
      ],
      "metadata": {
        "colab": {
          "base_uri": "https://localhost:8080/"
        },
        "id": "0i1p1oc63ohg",
        "outputId": "b75c4064-6731-4b56-ef16-aacfe589bddc"
      },
      "execution_count": 22,
      "outputs": [
        {
          "output_type": "execute_result",
          "data": {
            "text/plain": [
              "('results_t5base/tokenizer_config.json',\n",
              " 'results_t5base/special_tokens_map.json',\n",
              " 'results_t5base/spiece.model',\n",
              " 'results_t5base/added_tokens.json')"
            ]
          },
          "metadata": {},
          "execution_count": 22
        }
      ]
    },
    {
      "cell_type": "code",
      "source": [
        "!zip -r {OUT_DIR} {OUT_DIR}"
      ],
      "metadata": {
        "colab": {
          "base_uri": "https://localhost:8080/"
        },
        "id": "HNe1T-Qo4SoW",
        "outputId": "d38ec9fe-4545-4523-eec5-7f5d4d932266"
      },
      "execution_count": 23,
      "outputs": [
        {
          "output_type": "stream",
          "name": "stdout",
          "text": [
            "  adding: results_t5base/ (stored 0%)\n",
            "  adding: results_t5base/special_tokens_map.json (deflated 85%)\n",
            "  adding: results_t5base/added_tokens.json (deflated 83%)\n",
            "  adding: results_t5base/checkpoint-3115/ (stored 0%)\n",
            "  adding: results_t5base/checkpoint-3115/model.safetensors (deflated 8%)\n",
            "  adding: results_t5base/checkpoint-3115/rng_state.pth (deflated 25%)\n",
            "  adding: results_t5base/checkpoint-3115/generation_config.json (deflated 30%)\n",
            "  adding: results_t5base/checkpoint-3115/scheduler.pt (deflated 55%)\n",
            "  adding: results_t5base/checkpoint-3115/trainer_state.json (deflated 83%)\n",
            "  adding: results_t5base/checkpoint-3115/training_args.bin (deflated 51%)\n",
            "  adding: results_t5base/checkpoint-3115/config.json (deflated 63%)\n",
            "  adding: results_t5base/checkpoint-3115/optimizer.pt (deflated 8%)\n",
            "  adding: results_t5base/tokenizer_config.json (deflated 94%)\n",
            "  adding: results_t5base/events.out.tfevents.1727038321.19c4db0ec622.1196.0 (deflated 69%)\n",
            "  adding: results_t5base/spiece.model (deflated 48%)\n",
            "  adding: results_t5base/checkpoint-3560/ (stored 0%)\n",
            "  adding: results_t5base/checkpoint-3560/model.safetensors (deflated 8%)\n",
            "  adding: results_t5base/checkpoint-3560/rng_state.pth (deflated 25%)\n",
            "  adding: results_t5base/checkpoint-3560/generation_config.json (deflated 30%)\n",
            "  adding: results_t5base/checkpoint-3560/scheduler.pt (deflated 56%)\n",
            "  adding: results_t5base/checkpoint-3560/trainer_state.json (deflated 83%)\n",
            "  adding: results_t5base/checkpoint-3560/training_args.bin (deflated 51%)\n",
            "  adding: results_t5base/checkpoint-3560/config.json (deflated 63%)\n",
            "  adding: results_t5base/checkpoint-3560/optimizer.pt (deflated 8%)\n"
          ]
        }
      ]
    },
    {
      "cell_type": "code",
      "source": [
        "!wget \"https://www.dropbox.com/scl/fi/561r8pfhem4lu70hf438q/inference_data.zip?rlkey=aedt2saqmmp3a67qc4o34k04y&dl=1\" -O inference_data.zip"
      ],
      "metadata": {
        "colab": {
          "base_uri": "https://localhost:8080/"
        },
        "id": "mujvMqib4aG_",
        "outputId": "741e1dd3-9981-4f10-e0fd-bfe3ea3a3cbc"
      },
      "execution_count": 24,
      "outputs": [
        {
          "output_type": "stream",
          "name": "stdout",
          "text": [
            "--2024-09-22 22:41:41--  https://www.dropbox.com/scl/fi/561r8pfhem4lu70hf438q/inference_data.zip?rlkey=aedt2saqmmp3a67qc4o34k04y&dl=1\n",
            "Resolving www.dropbox.com (www.dropbox.com)... 162.125.2.18, 2620:100:6016:18::a27d:112\n",
            "Connecting to www.dropbox.com (www.dropbox.com)|162.125.2.18|:443... connected.\n",
            "HTTP request sent, awaiting response... 302 Found\n",
            "Location: https://ucf9ab80b075657ecbc40f5569aa.dl.dropboxusercontent.com/cd/0/inline/CbEN0CJ74j3N8IcRA5b-aABKT67BamFimqeSdajaWWf4LeUtDtdAH5LbPMKHTxxtxnk9W0wDey2UPJjzaplsBRAV8d-QZwXdmcxoXw9YEKz1HGKt2DA6zWU7-sBMAqeCIGIFMFINGRrEmVhCHEEoXFsK/file?dl=1# [following]\n",
            "--2024-09-22 22:41:42--  https://ucf9ab80b075657ecbc40f5569aa.dl.dropboxusercontent.com/cd/0/inline/CbEN0CJ74j3N8IcRA5b-aABKT67BamFimqeSdajaWWf4LeUtDtdAH5LbPMKHTxxtxnk9W0wDey2UPJjzaplsBRAV8d-QZwXdmcxoXw9YEKz1HGKt2DA6zWU7-sBMAqeCIGIFMFINGRrEmVhCHEEoXFsK/file?dl=1\n",
            "Resolving ucf9ab80b075657ecbc40f5569aa.dl.dropboxusercontent.com (ucf9ab80b075657ecbc40f5569aa.dl.dropboxusercontent.com)... 162.125.1.15, 2620:100:6016:15::a27d:10f\n",
            "Connecting to ucf9ab80b075657ecbc40f5569aa.dl.dropboxusercontent.com (ucf9ab80b075657ecbc40f5569aa.dl.dropboxusercontent.com)|162.125.1.15|:443... connected.\n",
            "HTTP request sent, awaiting response... 302 Found\n",
            "Location: /cd/0/inline2/CbEIR3BlQOibbygRFGM2_09cGW9WNoQSp4GkIQzfEnbHz90AXwABH7imiS5EroQYiftkmLngPrKWXp_gTT9HHMIZRDx-oInMWWtHqyqIswtDfwyFqJ_je1dh2f3BI14jln5f1khlwg8kjb8MYcSVDXOh3fspY2J35xjaTvJE5fGEy1bUNAeWaPyT1rV7zsHBebAyu-l_432z6n4Ci8OX6Ck_Rv-UoQ8VGnpBJ0CSBZyGdrlRtIszd1DO_DamgHuhbfMMLuElDQ193uRgzZEM-ow_SKLv81Kdh9HGWW1jQb7VoYpZg9rZ4oXQiki66nfgs0rhgW7OZxqf04FghEjqsx1pq5uS2UJM92GpI2r4rOkNZFX_k9meq6F1SnlFFkdIZrs/file?dl=1 [following]\n",
            "--2024-09-22 22:41:43--  https://ucf9ab80b075657ecbc40f5569aa.dl.dropboxusercontent.com/cd/0/inline2/CbEIR3BlQOibbygRFGM2_09cGW9WNoQSp4GkIQzfEnbHz90AXwABH7imiS5EroQYiftkmLngPrKWXp_gTT9HHMIZRDx-oInMWWtHqyqIswtDfwyFqJ_je1dh2f3BI14jln5f1khlwg8kjb8MYcSVDXOh3fspY2J35xjaTvJE5fGEy1bUNAeWaPyT1rV7zsHBebAyu-l_432z6n4Ci8OX6Ck_Rv-UoQ8VGnpBJ0CSBZyGdrlRtIszd1DO_DamgHuhbfMMLuElDQ193uRgzZEM-ow_SKLv81Kdh9HGWW1jQb7VoYpZg9rZ4oXQiki66nfgs0rhgW7OZxqf04FghEjqsx1pq5uS2UJM92GpI2r4rOkNZFX_k9meq6F1SnlFFkdIZrs/file?dl=1\n",
            "Reusing existing connection to ucf9ab80b075657ecbc40f5569aa.dl.dropboxusercontent.com:443.\n",
            "HTTP request sent, awaiting response... 200 OK\n",
            "Length: 1531 (1.5K) [application/binary]\n",
            "Saving to: ‘inference_data.zip’\n",
            "\n",
            "inference_data.zip  100%[===================>]   1.50K  --.-KB/s    in 0s      \n",
            "\n",
            "2024-09-22 22:41:43 (1021 MB/s) - ‘inference_data.zip’ saved [1531/1531]\n",
            "\n"
          ]
        }
      ]
    },
    {
      "cell_type": "code",
      "source": [
        "!unzip inference_data.zip"
      ],
      "metadata": {
        "colab": {
          "base_uri": "https://localhost:8080/"
        },
        "id": "nYvcHqcq5M44",
        "outputId": "2d241960-f97e-4286-b232-b3afa564d310"
      },
      "execution_count": 25,
      "outputs": [
        {
          "output_type": "stream",
          "name": "stdout",
          "text": [
            "Archive:  inference_data.zip\n",
            "  inflating: inference_data/file_1.txt  \n",
            "  inflating: inference_data/file_2.txt  \n"
          ]
        }
      ]
    },
    {
      "cell_type": "markdown",
      "source": [
        "# **Summarization Function for text summarization**"
      ],
      "metadata": {
        "id": "u6uzSSE0GSrw"
      }
    },
    {
      "cell_type": "code",
      "source": [
        "from transformers import T5ForConditionalGeneration, T5Tokenizer\n",
        "\n",
        "import glob"
      ],
      "metadata": {
        "id": "pEeBW1ZS5rT3"
      },
      "execution_count": 26,
      "outputs": []
    },
    {
      "source": [
        "model_path = \"results_t5base/checkpoint-3560\"  # Adjust the path to your model\n",
        "model = T5ForConditionalGeneration.from_pretrained(model_path)\n",
        "tokenizer = T5Tokenizer.from_pretrained(\"t5-base\") # Load tokenizer from the base model"
      ],
      "cell_type": "code",
      "metadata": {
        "colab": {
          "base_uri": "https://localhost:8080/"
        },
        "id": "xvG7tG3E6cPW",
        "outputId": "8aae93f9-ab79-487f-dafb-0bb0f57b2716"
      },
      "execution_count": 34,
      "outputs": [
        {
          "output_type": "stream",
          "name": "stderr",
          "text": [
            "/usr/local/lib/python3.10/dist-packages/transformers/tokenization_utils_base.py:1601: FutureWarning: `clean_up_tokenization_spaces` was not set. It will be set to `True` by default. This behavior will be depracted in transformers v4.45, and will be then set to `False` by default. For more details check this issue: https://github.com/huggingface/transformers/issues/31884\n",
            "  warnings.warn(\n"
          ]
        }
      ]
    },
    {
      "cell_type": "code",
      "source": [
        "def summarize_text(text, model, tokenizer, max_length=512, num_beams=5):\n",
        "    # Preprocess the text\n",
        "    inputs = tokenizer.encode(\n",
        "        \"summarize: \" + text,\n",
        "        return_tensors='pt',\n",
        "        max_length=max_length,\n",
        "        truncation=True\n",
        "    )\n",
        "\n",
        "    # Generate the summary\n",
        "    summary_ids = model.generate(\n",
        "        inputs,\n",
        "        max_length=50,\n",
        "        num_beams=num_beams,\n",
        "        # early_stopping=True,\n",
        "    )\n",
        "\n",
        "    # Decode and return the summary\n",
        "    return tokenizer.decode(summary_ids[0], skip_special_tokens=True)"
      ],
      "metadata": {
        "id": "LrXIAJgB6g7F"
      },
      "execution_count": 35,
      "outputs": []
    },
    {
      "cell_type": "markdown",
      "source": [],
      "metadata": {
        "id": "ef6YEJ-CHEa1"
      }
    },
    {
      "cell_type": "markdown",
      "source": [
        "# **Summarizing Text Files Using the Trained T5 Model**"
      ],
      "metadata": {
        "id": "GTTyFn_MHECB"
      }
    },
    {
      "source": [
        "import glob\n",
        "import pprint\n",
        "\n",
        "\n",
        "pp = pprint.PrettyPrinter(indent=4)\n",
        "\n",
        "for file_path in glob.glob('inference_data/*.txt'):\n",
        "    file = open(file_path)\n",
        "    text = file.read()\n",
        "    summary = summarize_text(text, model, tokenizer)\n",
        "    pp.pprint(summary) # Use pp to print\n",
        "    print('-'*75)"
      ],
      "cell_type": "code",
      "metadata": {
        "colab": {
          "base_uri": "https://localhost:8080/"
        },
        "id": "7g-jpWVt6zVH",
        "outputId": "cb4832d0-ba16-40b1-fb2d-bd51afd5c21b"
      },
      "execution_count": 37,
      "outputs": [
        {
          "output_type": "stream",
          "name": "stdout",
          "text": [
            "('Sam Altman — the leader of one of the world’s most influential AI companies, '\n",
            " 'OpenAI, and perhaps the most visible figure in the space — was fired Friday '\n",
            " 'night by the startup’s board in a surprise move.')\n",
            "---------------------------------------------------------------------------\n",
            "('Brockmann quit as OpenAI president after Altman was fired. Microsoft has '\n",
            " 'hired Sam Altman to power up its innovation in artificial intelligence after '\n",
            " 'the co-founder of OpenAI was ousted as CEO in a chaotic boardroom coup on '\n",
            " 'Friday')\n",
            "---------------------------------------------------------------------------\n"
          ]
        }
      ]
    },
    {
      "cell_type": "markdown",
      "source": [
        "# **The Text of News Article**"
      ],
      "metadata": {
        "id": "M1LyFpqKHOjF"
      }
    },
    {
      "cell_type": "code",
      "source": [
        "text"
      ],
      "metadata": {
        "colab": {
          "base_uri": "https://localhost:8080/",
          "height": 105
        },
        "id": "Bw3wWbKX69Ho",
        "outputId": "4926be65-d971-4652-8f4d-33bcf80515b3"
      },
      "execution_count": 38,
      "outputs": [
        {
          "output_type": "execute_result",
          "data": {
            "text/plain": [
              "'Microsoft has hired Sam Altman to power up its innovation in artificial intelligence after the co-founder of OpenAI was ousted as CEO in a chaotic boardroom coup on Friday. Meanwhile, the ChatGPT company will get its third CEO in three days.\\n\\nIt’s another major shakeup to the balance of power over artificial intelligence, the most significant new technology in decades.\\n\\nGreg Brockman, another co-founder of OpenAI, is also joining Microsoft (MSFT) — the startup’s biggest financial backer. Brockmann quit as OpenAI president after Altman was fired.\\n\\nEmmett Shear, the former CEO of Amazon’s streaming service Twitch, will join OpenAI as interim CEO. He replaces Mira Murati, who was named interim CEO when Altman was fired. She will return to her role as OpenAI’s chief technology officer.\\n\\n“We look forward to getting to know Emmett Shear,” Microsoft CEO Satya Nadella said in a post on X, formerly known as Twitter. “And we’re extremely excited to share the news that Sam Altman and Greg Brockman, together with colleagues, will be joining Microsoft to lead a new advanced AI research team.”'"
            ],
            "application/vnd.google.colaboratory.intrinsic+json": {
              "type": "string"
            }
          },
          "metadata": {},
          "execution_count": 38
        }
      ]
    },
    {
      "cell_type": "markdown",
      "source": [
        "# **The Summary of News Article**"
      ],
      "metadata": {
        "id": "tB0hQgwhHmuH"
      }
    },
    {
      "cell_type": "code",
      "source": [
        "summary"
      ],
      "metadata": {
        "colab": {
          "base_uri": "https://localhost:8080/",
          "height": 53
        },
        "id": "2JB5yrOq7EYO",
        "outputId": "57b6a1cb-6a5e-4cd1-9189-aa30a417fe23"
      },
      "execution_count": 39,
      "outputs": [
        {
          "output_type": "execute_result",
          "data": {
            "text/plain": [
              "'Brockmann quit as OpenAI president after Altman was fired. Microsoft has hired Sam Altman to power up its innovation in artificial intelligence after the co-founder of OpenAI was ousted as CEO in a chaotic boardroom coup on Friday'"
            ],
            "application/vnd.google.colaboratory.intrinsic+json": {
              "type": "string"
            }
          },
          "metadata": {},
          "execution_count": 39
        }
      ]
    },
    {
      "cell_type": "markdown",
      "source": [
        "The project successfully demonstrates the model's ability to generate coherent and relevant summaries, providing a foundation for real-world applications in news aggregation and content curation. Future work includes enhancing model capabilities and integrating it into web applications for real-time use."
      ],
      "metadata": {
        "id": "vxNgo53-I498"
      }
    }
  ]
}